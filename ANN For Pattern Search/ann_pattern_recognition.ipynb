{
 "cells": [
  {
   "cell_type": "markdown",
   "id": "d07f2b78",
   "metadata": {},
   "source": [
    "## Approximate Nearest Neighbours for Stock Market Pattern Search/Recognition\n",
    "The developed notebook's purpose is to retrieve candlestick patterns in the stock market that has a similar pattern to your input pattern. For this task, approximate nearest neighbor algorithms are used to execute the task of vector similarity search. To feed the search space, you need a CSV file with the following information: \n",
    "\n",
    "* Time (YYYY-MM-DD), open, high, low, close. \n",
    "\n",
    "The following row is an example of this format \n",
    "* 2015-08-07T00:00:00Z, 2.831620, 3.524990, 2.590420, 2.789720\n",
    "\n",
    "From the fed CSV file, pick an index of any bar and determine a window size. If you want to look at the latest bar's pattern with the previous 20 bars, the index must be 0 and window_size must be 20.\n",
    "\n",
    "The rest is explained in the following cells.\n",
    "\n",
    "Note: This is not an API, and this is only meant for practical purposes. Any feedback or comments are welcome."
   ]
  },
  {
   "cell_type": "markdown",
   "id": "3d6cb924",
   "metadata": {},
   "source": [
    "### Import Libraries\n",
    "* Pandas: For Dataframes and Data Management\n",
    "* Annoy: For Vector Similarity Search\n",
    "* Yahoo Finances: For Data Retrivial\n",
    "* Plotly: For Visualizations"
   ]
  },
  {
   "cell_type": "code",
   "execution_count": 1,
   "id": "4c7ecb43",
   "metadata": {},
   "outputs": [],
   "source": [
    "#!pip install yfinance"
   ]
  },
  {
   "cell_type": "code",
   "execution_count": 2,
   "id": "04c8c153",
   "metadata": {},
   "outputs": [],
   "source": [
    "import pandas as pd\n",
    "\n",
    "from annoy import AnnoyIndex\n",
    "\n",
    "#import investpy\n",
    "import yfinance as yf\n",
    "\n",
    "import plotly.graph_objects as go\n",
    "import plotly.express as py\n",
    "from plotly.subplots import make_subplots"
   ]
  },
  {
   "cell_type": "code",
   "execution_count": 3,
   "id": "3a1ce266",
   "metadata": {},
   "outputs": [],
   "source": [
    "def get_data(ticker: str, interval: str):\n",
    "    \"\"\"\n",
    "    ticker = \n",
    "    interval = \n",
    "    \"\"\"\n",
    "\n",
    "    df = yf.download(  # or pdr.get_data_yahoo(...\n",
    "        # tickers list or string as well\n",
    "        tickers = ticker,\n",
    "\n",
    "        # use \"period\" instead of start/end\n",
    "        # valid periods: 1d,5d,1mo,3mo,6mo,1y,2y,5y,10y,ytd,max\n",
    "        # (optional, default is '1mo')\n",
    "        period = \"10y\",\n",
    "\n",
    "        # fetch data by interval (including intraday if period < 60 days)\n",
    "        # valid intervals: 1m,2m,5m,15m,30m,60m,90m,1h,1d,5d,1wk,1mo,3mo\n",
    "        # (optional, default is '1d')\n",
    "        interval = interval,\n",
    "\n",
    "        # Whether to ignore timezone when aligning ticker data from \n",
    "        # different timezones. Default is True. False may be useful for \n",
    "        # minute/hourly data.\n",
    "        ignore_tz = False,\n",
    "\n",
    "        # group by ticker (to access via data['SPY'])\n",
    "        # (optional, default is 'column')\n",
    "        group_by = 'column',\n",
    "\n",
    "        # adjust all OHLC automatically\n",
    "        # (optional, default is False)\n",
    "        auto_adjust = False,\n",
    "\n",
    "        # identify and attempt repair of currency unit mixups e.g. $/cents\n",
    "        repair = False,\n",
    "\n",
    "        # download pre/post regular market hours data\n",
    "        # (optional, default is False)\n",
    "        prepost = False,\n",
    "\n",
    "        # use threads for mass downloading? (True/False/Integer)\n",
    "        # (optional, default is True)\n",
    "        threads = True,\n",
    "\n",
    "        # proxy URL scheme use use when downloading?\n",
    "        # (optional, default is None)\n",
    "        proxy = None\n",
    "    )\n",
    "\n",
    "    # Sort it from newest bar to oldest bar\n",
    "    df = df.iloc[::-1]\n",
    "    df = df.drop([\"Volume\", \"Adj Close\"], axis = 1)\n",
    "    df = df.reset_index()\n",
    "    df.columns = [\"time\", \"open\", \"high\", \"low\", \"close\"]\n",
    "\n",
    "    # Calculate the daily change\n",
    "    df[\"change\"] = ( (df.close - df.open) / (df.open * 100) ) * 10000\n",
    "\n",
    "\n",
    "    # finalize the change dataframe\n",
    "    change_df = df[[\"time\", \"change\"]].reset_index().drop([\"index\"], axis=1).copy()\n",
    "    \n",
    "    return df, change_df"
   ]
  },
  {
   "cell_type": "code",
   "execution_count": 4,
   "id": "23adc101",
   "metadata": {},
   "outputs": [],
   "source": [
    "# Add previous bars to the most recent bar in the list for the window of window size\n",
    "def alter_df(change_df, window_size):\n",
    "    change_list = change_df[\"change\"].tolist()\n",
    "    \n",
    "    # Move elements in the list by 1\n",
    "    for i in range(window_size-1):\n",
    "        change_list.pop(0)\n",
    "        change_list.append(0)\n",
    "        \n",
    "        # Assign a column name\n",
    "        change_df[\"Candle(\" + str(i+1) +\")\"] = change_list\n",
    "    \n",
    "    # Create a list of embeddings\n",
    "    embeddings = change_df.drop(\"time\", axis=1).values.tolist()\n",
    "    \n",
    "    # Get rid of the Null Values\n",
    "    for i in range(window_size-1):\n",
    "        embeddings.pop()\n",
    "        \n",
    "    return embeddings, change_df"
   ]
  },
  {
   "cell_type": "code",
   "execution_count": 5,
   "id": "c3b41f3e",
   "metadata": {},
   "outputs": [],
   "source": [
    "def get_pattern_df(check_for: int, window_size: int, future: bool = False):\n",
    "    \n",
    "    \"\"\"\n",
    "    check_for: int -> Check for the candle stick at index = check_for from the data frame df\n",
    "    window_size: int -> Look into past 'window_size' bars. If 20, return 20 previous bars.\n",
    "    future: bool -> Look into future 'window_size' bars if checked. It will return additional bars if available in the dataset.\n",
    "    \n",
    "    Return the dataframe of candlesticks which belongs to the inputted pattern.\n",
    "    \"\"\"\n",
    "    \n",
    "    # Returned indexes from Annoy\n",
    "    candles_list = []\n",
    "    \n",
    "    # If the user wants to see future bars as well, future must be True\n",
    "    if future:\n",
    "        # Return future window_size bars\n",
    "        for i in range(window_size*2, 0, -1):\n",
    "            candles_list.append(df.iloc[check_for])\n",
    "            check_for -= 1\n",
    "            \n",
    "        check_for += window_size*2\n",
    "            \n",
    "    # Return past window_size bars\n",
    "    for i in range(window_size):\n",
    "        candles_list.append(df.iloc[check_for])\n",
    "        check_for += 1\n",
    "    \n",
    "    \n",
    "    return pd.DataFrame(candles_list)"
   ]
  },
  {
   "cell_type": "code",
   "execution_count": 18,
   "id": "3a793fea",
   "metadata": {},
   "outputs": [],
   "source": [
    "\n",
    "def visualize_patterns(main: int,\n",
    "                       window_size: int,\n",
    "                       closest_n: int,\n",
    "                       future: bool = False) -> None:\n",
    "    \"\"\"\n",
    "    main: The index of the candle stick where it is the newest bar of the input pattern \n",
    "    window_size: Length of the input pattern.\n",
    "    closest_n: return closest n patterns\n",
    "    future: Set it to true to see future patterns if available\n",
    "    \n",
    "    With plotly, visualize the price graph through candlesticks.\n",
    "    'Main' is the first subgraph, and the closest ones to the main graph are other subgraphs.\n",
    "    \"\"\"\n",
    "    \n",
    "    vector_size = len(embeddings[0])\n",
    "\n",
    "    t = AnnoyIndex(vector_size, 'manhattan')\n",
    "    for i in range(len(embeddings)):\n",
    "        t.add_item(i, embeddings[i])\n",
    "\n",
    "    t.build(1000)\n",
    "    \n",
    "    nearest_neighs = t.get_nns_by_vector(embeddings[main], closest_n)\n",
    "\n",
    "    # Remove the duplicates of main bar\n",
    "    if main in nearest_neighs:\n",
    "        nearest_neighs.remove(main)\n",
    "        \n",
    "    # Get the pattern of the inputted chart\n",
    "    df_pattern_main = get_pattern_df(main, window_size)\n",
    "    \n",
    "    # Create the subgraph spots for down below\n",
    "    fig = make_subplots(len(nearest_neighs)//2 + 1, cols=2)\n",
    "\n",
    "    # Print the main graph\n",
    "    row_i, col_i = 1, 1\n",
    "    fig.add_trace( go.Candlestick(\n",
    "                    x=df_pattern_main['time'],\n",
    "                    open=df_pattern_main['open'],\n",
    "                    high=df_pattern_main['high'],\n",
    "                    low=df_pattern_main['low'],\n",
    "                    close=df_pattern_main['close']),\n",
    "                    row=1, col=1\n",
    "                  )\n",
    "    \n",
    "    fig.update_xaxes(rangeslider= {'visible':False}, row=1, col=1)\n",
    "    \n",
    "    \n",
    "    \n",
    "    col_i += 1\n",
    "    # Print the closest charts in the form of subgraphs\n",
    "    for i in nearest_neighs:\n",
    "        df_pattern_next = get_pattern_df(i, window_size, future)\n",
    "        fig.add_trace( \n",
    "            go.Candlestick(\n",
    "                x=df_pattern_next['time'],\n",
    "                open=df_pattern_next['open'],\n",
    "                high=df_pattern_next['high'],\n",
    "                low=df_pattern_next['low'],\n",
    "                close=df_pattern_next['close']\n",
    "            ),\n",
    "            row=row_i, col=col_i\n",
    "        )\n",
    "        if future:\n",
    "            fig.add_vline(x = df_pattern_next[\"time\"].iloc[window_size*2], row=row_i, col=col_i)\n",
    "        else:\n",
    "            fig.add_vline(x = df_pattern_next[\"time\"].iloc[0], row=row_i, col=col_i)\n",
    "            \n",
    "        fig.update_xaxes(rangeslider= {'visible':False}, row=row_i, col=col_i)\n",
    "        \n",
    "        col_i = (col_i%2) + 1\n",
    "        row_i = row_i + 1 if col_i == 1 else row_i\n",
    "        \n",
    "            \n",
    "\n",
    "\n",
    "    fig.update_layout(height=1000, width=1000, xaxis_rangeslider_visible=False)\n",
    "    fig.show()"
   ]
  },
  {
   "cell_type": "code",
   "execution_count": 21,
   "id": "20a84672",
   "metadata": {},
   "outputs": [
    {
     "name": "stdout",
     "output_type": "stream",
     "text": [
      "[*********************100%***********************]  1 of 1 completed\n"
     ]
    },
    {
     "data": {
      "application/vnd.plotly.v1+json": {
       "config": {
        "plotlyServerURL": "https://plot.ly"
       },
       "data": [
        {
         "close": [
          16843.6953125,
          16848.126953125,
          17089.50390625
         ],
         "high": [
          16881.798828125,
          17109.376953125,
          17091.86328125
         ],
         "low": [
          16788.783203125,
          16750.55859375,
          16939.921875
         ],
         "open": [
          16852.005859375,
          17089.505859375,
          16975.23828125
         ],
         "type": "candlestick",
         "x": [
          "2022-12-08T00:00:00+00:00",
          "2022-12-07T00:00:00+00:00",
          "2022-12-06T00:00:00+00:00"
         ],
         "xaxis": "x",
         "yaxis": "y"
        },
        {
         "close": [
          237.11599731445312,
          237.2830047607422,
          237.4080047607422,
          237.0959930419922,
          233.34500122070312,
          230.19000244140625,
          237.11599731445312,
          237.11000061035156,
          240.9530029296875
         ],
         "high": [
          238.24200439453125,
          238.63600158691406,
          237.82400512695312,
          237.52200317382812,
          237.09300231933594,
          233.2519989013672,
          238.24200439453125,
          241.02099609375,
          241.97799682617188
         ],
         "low": [
          235.69200134277344,
          236.69500732421875,
          236.65199279785156,
          235.7310028076172,
          232.04600524902344,
          229.54200744628906,
          235.69200134277344,
          236.63699340820312,
          238.81100463867188
         ],
         "open": [
          237.10400390625,
          237.06500244140625,
          237.2570037841797,
          237.3769989013672,
          237.0919952392578,
          233.13499450683594,
          237.10400390625,
          240.927001953125,
          238.9759979248047
         ],
         "type": "candlestick",
         "x": [
          "2015-05-26T00:00:00+00:00",
          "2015-05-27T00:00:00+00:00",
          "2015-05-28T00:00:00+00:00",
          "2015-05-29T00:00:00+00:00",
          "2015-05-30T00:00:00+00:00",
          "2015-05-31T00:00:00+00:00",
          "2015-05-26T00:00:00+00:00",
          "2015-05-25T00:00:00+00:00",
          "2015-05-24T00:00:00+00:00"
         ],
         "xaxis": "x2",
         "yaxis": "y2"
        },
        {
         "close": [
          4023.96826171875,
          4035.826416015625,
          4022.168212890625,
          3963.070556640625,
          3985.080810546875,
          4087.066162109375,
          4023.96826171875,
          4029.326904296875,
          4087.476318359375
         ],
         "high": [
          4053.90673828125,
          4049.882568359375,
          4040.69970703125,
          4038.8408203125,
          3985.080810546875,
          4087.066162109375,
          4053.90673828125,
          4097.35986328125,
          4089.4619140625
         ],
         "low": [
          4021.54248046875,
          4015.964599609375,
          4006.19287109375,
          3934.03125,
          3944.753173828125,
          3977.810546875,
          4021.54248046875,
          4005.1513671875,
          4031.11083984375
         ],
         "open": [
          4028.5146484375,
          4022.71337890625,
          4035.16357421875,
          4024.11279296875,
          3969.228759765625,
          3984.244873046875,
          4028.5146484375,
          4083.953857421875,
          4070.7939453125
         ],
         "type": "candlestick",
         "x": [
          "2019-03-22T00:00:00+00:00",
          "2019-03-23T00:00:00+00:00",
          "2019-03-24T00:00:00+00:00",
          "2019-03-25T00:00:00+00:00",
          "2019-03-26T00:00:00+00:00",
          "2019-03-27T00:00:00+00:00",
          "2019-03-22T00:00:00+00:00",
          "2019-03-21T00:00:00+00:00",
          "2019-03-20T00:00:00+00:00"
         ],
         "xaxis": "x3",
         "yaxis": "y3"
        },
        {
         "close": [
          7988.560546875,
          8222.078125,
          8243.720703125,
          8078.203125,
          7514.671875,
          7493.48876953125,
          7988.560546875,
          7973.20751953125,
          8103.9111328125
         ],
         "high": [
          8082.62939453125,
          8281.818359375,
          8296.6943359375,
          8296.6513671875,
          8092.99951171875,
          7532.86767578125,
          8082.62939453125,
          8138.41357421875,
          8134.83154296875
         ],
         "low": [
          7944.77685546875,
          7949.439453125,
          8196.416015625,
          8074.462890625,
          7469.32275390625,
          7446.98876953125,
          7944.77685546875,
          7902.1640625,
          8000.94287109375
         ],
         "open": [
          7973.8037109375,
          7997.80712890625,
          8225.115234375,
          8243.40234375,
          8076.228515625,
          7509.72802734375,
          7973.8037109375,
          8100.93359375,
          8047.8125
         ],
         "type": "candlestick",
         "x": [
          "2019-10-19T00:00:00+00:00",
          "2019-10-20T00:00:00+00:00",
          "2019-10-21T00:00:00+00:00",
          "2019-10-22T00:00:00+00:00",
          "2019-10-23T00:00:00+00:00",
          "2019-10-24T00:00:00+00:00",
          "2019-10-19T00:00:00+00:00",
          "2019-10-18T00:00:00+00:00",
          "2019-10-17T00:00:00+00:00"
         ],
         "xaxis": "x4",
         "yaxis": "y4"
        },
        {
         "close": [
          577.469970703125,
          606.7269897460938,
          672.7839965820312,
          704.3759765625,
          685.5590209960938,
          694.468994140625,
          577.469970703125,
          574.6300048828125,
          581.64501953125
         ],
         "high": [
          579.1270141601562,
          607.1160278320312,
          684.843994140625,
          716.0040283203125,
          704.5040283203125,
          696.302978515625,
          579.1270141601562,
          582.2030029296875,
          582.8389892578125
         ],
         "low": [
          573.3250122070312,
          578.6740112304688,
          607.0390014648438,
          664.4869995117188,
          662.8040161132812,
          672.5609741210938,
          573.3250122070312,
          570.9509887695312,
          573.1300048828125
         ],
         "open": [
          575.8369750976562,
          578.6740112304688,
          609.6840209960938,
          671.6539916992188,
          704.5040283203125,
          685.6849975585938,
          575.8369750976562,
          582.2030029296875,
          577.1669921875
         ],
         "type": "candlestick",
         "x": [
          "2016-06-10T00:00:00+00:00",
          "2016-06-11T00:00:00+00:00",
          "2016-06-12T00:00:00+00:00",
          "2016-06-13T00:00:00+00:00",
          "2016-06-14T00:00:00+00:00",
          "2016-06-15T00:00:00+00:00",
          "2016-06-10T00:00:00+00:00",
          "2016-06-09T00:00:00+00:00",
          "2016-06-08T00:00:00+00:00"
         ],
         "xaxis": "x5",
         "yaxis": "y5"
        },
        {
         "close": [
          11358.1015625,
          11483.359375,
          11742.037109375,
          11916.3349609375,
          12823.689453125,
          12965.8916015625,
          11358.1015625,
          11322.123046875,
          11495.349609375
         ],
         "high": [
          11386.26171875,
          11483.359375,
          11799.0927734375,
          11999.91796875,
          13184.56640625,
          13161.59375,
          11386.26171875,
          11540.0615234375,
          11569.9140625
         ],
         "low": [
          11285.345703125,
          11347.578125,
          11408.2900390625,
          11681.48046875,
          11900.9287109375,
          12717.09375,
          11285.345703125,
          11223.0126953125,
          11303.603515625
         ],
         "open": [
          11322.123046875,
          11355.982421875,
          11495.0380859375,
          11745.974609375,
          11913.0771484375,
          12801.6357421875,
          11322.123046875,
          11502.828125,
          11426.6025390625
         ],
         "type": "candlestick",
         "x": [
          "2020-10-17T00:00:00+00:00",
          "2020-10-18T00:00:00+00:00",
          "2020-10-19T00:00:00+00:00",
          "2020-10-20T00:00:00+00:00",
          "2020-10-21T00:00:00+00:00",
          "2020-10-22T00:00:00+00:00",
          "2020-10-17T00:00:00+00:00",
          "2020-10-16T00:00:00+00:00",
          "2020-10-15T00:00:00+00:00"
         ],
         "xaxis": "x6",
         "yaxis": "y6"
        },
        {
         "close": [
          3459.154052734375,
          3466.357421875,
          3413.767822265625,
          3399.4716796875,
          3666.7802734375,
          3671.20361328125,
          3459.154052734375,
          3464.013427734375,
          3521.060791015625
         ],
         "high": [
          3476.223876953125,
          3478.148193359375,
          3469.091796875,
          3427.945556640625,
          3695.614013671875,
          3679.94140625,
          3476.223876953125,
          3521.38818359375,
          3523.287353515625
         ],
         "low": [
          3442.5869140625,
          3451.93701171875,
          3398.5654296875,
          3394.218505859375,
          3391.023681640625,
          3646.559326171875,
          3442.5869140625,
          3447.92431640625,
          3467.57470703125
         ],
         "open": [
          3467.211669921875,
          3454.950927734375,
          3469.091796875,
          3414.929443359375,
          3401.37646484375,
          3671.5859375,
          3467.211669921875,
          3516.1396484375,
          3484.6259765625
         ],
         "type": "candlestick",
         "x": [
          "2019-02-04T00:00:00+00:00",
          "2019-02-05T00:00:00+00:00",
          "2019-02-06T00:00:00+00:00",
          "2019-02-07T00:00:00+00:00",
          "2019-02-08T00:00:00+00:00",
          "2019-02-09T00:00:00+00:00",
          "2019-02-04T00:00:00+00:00",
          "2019-02-03T00:00:00+00:00",
          "2019-02-02T00:00:00+00:00"
         ],
         "xaxis": "x7",
         "yaxis": "y7"
        },
        {
         "close": [
          18364.12109375,
          19107.46484375,
          18732.12109375,
          17150.623046875,
          17108.40234375,
          17717.4140625,
          18364.12109375,
          18370.001953125,
          18642.232421875
         ],
         "high": [
          18711.42578125,
          19348.271484375,
          19390.96484375,
          18866.28515625,
          17445.0234375,
          17853.939453125,
          18711.42578125,
          18688.96875,
          18936.62109375
         ],
         "low": [
          18000.796875,
          18128.65625,
          18581.146484375,
          16351.03515625,
          16526.423828125,
          16910.65234375,
          18000.796875,
          17671.384765625,
          18444.359375
         ],
         "open": [
          18370.017578125,
          18365.015625,
          19104.41015625,
          18729.83984375,
          17153.9140625,
          17112.93359375,
          18370.017578125,
          18642.232421875,
          18621.31640625
         ],
         "type": "candlestick",
         "x": [
          "2020-11-23T00:00:00+00:00",
          "2020-11-24T00:00:00+00:00",
          "2020-11-25T00:00:00+00:00",
          "2020-11-26T00:00:00+00:00",
          "2020-11-27T00:00:00+00:00",
          "2020-11-28T00:00:00+00:00",
          "2020-11-23T00:00:00+00:00",
          "2020-11-22T00:00:00+00:00",
          "2020-11-21T00:00:00+00:00"
         ],
         "xaxis": "x8",
         "yaxis": "y8"
        },
        {
         "close": [
          3653.528564453125,
          3632.070556640625,
          3616.880859375,
          3620.810791015625,
          3629.78759765625,
          3673.836181640625,
          3653.528564453125,
          3648.4306640625,
          3690.188232421875
         ],
         "high": [
          3668.5869140625,
          3669.74658203125,
          3646.256591796875,
          3647.795166015625,
          3652.84130859375,
          3680.537353515625,
          3668.5869140625,
          3695.613037109375,
          3695.0361328125
         ],
         "low": [
          3618.556884765625,
          3617.246337890625,
          3607.69775390625,
          3608.20654296875,
          3615.270263671875,
          3619.18212890625,
          3618.556884765625,
          3642.287841796875,
          3640.97998046875
         ],
         "open": [
          3642.751953125,
          3653.60400390625,
          3631.170166015625,
          3617.368408203125,
          3615.270263671875,
          3633.359375,
          3642.751953125,
          3695.613037109375,
          3673.201416015625
         ],
         "type": "candlestick",
         "x": [
          "2019-02-12T00:00:00+00:00",
          "2019-02-13T00:00:00+00:00",
          "2019-02-14T00:00:00+00:00",
          "2019-02-15T00:00:00+00:00",
          "2019-02-16T00:00:00+00:00",
          "2019-02-17T00:00:00+00:00",
          "2019-02-12T00:00:00+00:00",
          "2019-02-11T00:00:00+00:00",
          "2019-02-10T00:00:00+00:00"
         ],
         "xaxis": "x9",
         "yaxis": "y9"
        },
        {
         "close": [
          273.614013671875,
          278.9809875488281,
          275.8330078125,
          277.22198486328125,
          276.04901123046875,
          288.27801513671875,
          273.614013671875,
          274.9010009765625,
          279.47198486328125
         ],
         "high": [
          275.6700134277344,
          278.9809875488281,
          280.5469970703125,
          277.6659851074219,
          278.1109924316406,
          289.25299072265625,
          275.6700134277344,
          282.5270080566406,
          280.2799987792969
         ],
         "low": [
          272.51300048828125,
          272.9599914550781,
          275.41900634765625,
          274.3810119628906,
          275.71600341796875,
          275.2539978027344,
          272.51300048828125,
          274.07501220703125,
          272.0429992675781
         ],
         "open": [
          274.7669982910156,
          273.4989929199219,
          278.8819885253906,
          275.6570129394531,
          277.34100341796875,
          276.0050048828125,
          274.7669982910156,
          279.33099365234375,
          278.09100341796875
         ],
         "type": "candlestick",
         "x": [
          "2015-07-19T00:00:00+00:00",
          "2015-07-20T00:00:00+00:00",
          "2015-07-21T00:00:00+00:00",
          "2015-07-22T00:00:00+00:00",
          "2015-07-23T00:00:00+00:00",
          "2015-07-24T00:00:00+00:00",
          "2015-07-19T00:00:00+00:00",
          "2015-07-18T00:00:00+00:00",
          "2015-07-17T00:00:00+00:00"
         ],
         "xaxis": "x10",
         "yaxis": "y10"
        }
       ],
       "layout": {
        "height": 1000,
        "shapes": [
         {
          "type": "line",
          "x0": "2015-05-26T00:00:00+00:00",
          "x1": "2015-05-26T00:00:00+00:00",
          "xref": "x2",
          "y0": 0,
          "y1": 1,
          "yref": "y2 domain"
         },
         {
          "type": "line",
          "x0": "2019-03-22T00:00:00+00:00",
          "x1": "2019-03-22T00:00:00+00:00",
          "xref": "x3",
          "y0": 0,
          "y1": 1,
          "yref": "y3 domain"
         },
         {
          "type": "line",
          "x0": "2019-10-19T00:00:00+00:00",
          "x1": "2019-10-19T00:00:00+00:00",
          "xref": "x4",
          "y0": 0,
          "y1": 1,
          "yref": "y4 domain"
         },
         {
          "type": "line",
          "x0": "2016-06-10T00:00:00+00:00",
          "x1": "2016-06-10T00:00:00+00:00",
          "xref": "x5",
          "y0": 0,
          "y1": 1,
          "yref": "y5 domain"
         },
         {
          "type": "line",
          "x0": "2020-10-17T00:00:00+00:00",
          "x1": "2020-10-17T00:00:00+00:00",
          "xref": "x6",
          "y0": 0,
          "y1": 1,
          "yref": "y6 domain"
         },
         {
          "type": "line",
          "x0": "2019-02-04T00:00:00+00:00",
          "x1": "2019-02-04T00:00:00+00:00",
          "xref": "x7",
          "y0": 0,
          "y1": 1,
          "yref": "y7 domain"
         },
         {
          "type": "line",
          "x0": "2020-11-23T00:00:00+00:00",
          "x1": "2020-11-23T00:00:00+00:00",
          "xref": "x8",
          "y0": 0,
          "y1": 1,
          "yref": "y8 domain"
         },
         {
          "type": "line",
          "x0": "2019-02-12T00:00:00+00:00",
          "x1": "2019-02-12T00:00:00+00:00",
          "xref": "x9",
          "y0": 0,
          "y1": 1,
          "yref": "y9 domain"
         },
         {
          "type": "line",
          "x0": "2015-07-19T00:00:00+00:00",
          "x1": "2015-07-19T00:00:00+00:00",
          "xref": "x10",
          "y0": 0,
          "y1": 1,
          "yref": "y10 domain"
         }
        ],
        "template": {
         "data": {
          "bar": [
           {
            "error_x": {
             "color": "#2a3f5f"
            },
            "error_y": {
             "color": "#2a3f5f"
            },
            "marker": {
             "line": {
              "color": "#E5ECF6",
              "width": 0.5
             },
             "pattern": {
              "fillmode": "overlay",
              "size": 10,
              "solidity": 0.2
             }
            },
            "type": "bar"
           }
          ],
          "barpolar": [
           {
            "marker": {
             "line": {
              "color": "#E5ECF6",
              "width": 0.5
             },
             "pattern": {
              "fillmode": "overlay",
              "size": 10,
              "solidity": 0.2
             }
            },
            "type": "barpolar"
           }
          ],
          "carpet": [
           {
            "aaxis": {
             "endlinecolor": "#2a3f5f",
             "gridcolor": "white",
             "linecolor": "white",
             "minorgridcolor": "white",
             "startlinecolor": "#2a3f5f"
            },
            "baxis": {
             "endlinecolor": "#2a3f5f",
             "gridcolor": "white",
             "linecolor": "white",
             "minorgridcolor": "white",
             "startlinecolor": "#2a3f5f"
            },
            "type": "carpet"
           }
          ],
          "choropleth": [
           {
            "colorbar": {
             "outlinewidth": 0,
             "ticks": ""
            },
            "type": "choropleth"
           }
          ],
          "contour": [
           {
            "colorbar": {
             "outlinewidth": 0,
             "ticks": ""
            },
            "colorscale": [
             [
              0,
              "#0d0887"
             ],
             [
              0.1111111111111111,
              "#46039f"
             ],
             [
              0.2222222222222222,
              "#7201a8"
             ],
             [
              0.3333333333333333,
              "#9c179e"
             ],
             [
              0.4444444444444444,
              "#bd3786"
             ],
             [
              0.5555555555555556,
              "#d8576b"
             ],
             [
              0.6666666666666666,
              "#ed7953"
             ],
             [
              0.7777777777777778,
              "#fb9f3a"
             ],
             [
              0.8888888888888888,
              "#fdca26"
             ],
             [
              1,
              "#f0f921"
             ]
            ],
            "type": "contour"
           }
          ],
          "contourcarpet": [
           {
            "colorbar": {
             "outlinewidth": 0,
             "ticks": ""
            },
            "type": "contourcarpet"
           }
          ],
          "heatmap": [
           {
            "colorbar": {
             "outlinewidth": 0,
             "ticks": ""
            },
            "colorscale": [
             [
              0,
              "#0d0887"
             ],
             [
              0.1111111111111111,
              "#46039f"
             ],
             [
              0.2222222222222222,
              "#7201a8"
             ],
             [
              0.3333333333333333,
              "#9c179e"
             ],
             [
              0.4444444444444444,
              "#bd3786"
             ],
             [
              0.5555555555555556,
              "#d8576b"
             ],
             [
              0.6666666666666666,
              "#ed7953"
             ],
             [
              0.7777777777777778,
              "#fb9f3a"
             ],
             [
              0.8888888888888888,
              "#fdca26"
             ],
             [
              1,
              "#f0f921"
             ]
            ],
            "type": "heatmap"
           }
          ],
          "heatmapgl": [
           {
            "colorbar": {
             "outlinewidth": 0,
             "ticks": ""
            },
            "colorscale": [
             [
              0,
              "#0d0887"
             ],
             [
              0.1111111111111111,
              "#46039f"
             ],
             [
              0.2222222222222222,
              "#7201a8"
             ],
             [
              0.3333333333333333,
              "#9c179e"
             ],
             [
              0.4444444444444444,
              "#bd3786"
             ],
             [
              0.5555555555555556,
              "#d8576b"
             ],
             [
              0.6666666666666666,
              "#ed7953"
             ],
             [
              0.7777777777777778,
              "#fb9f3a"
             ],
             [
              0.8888888888888888,
              "#fdca26"
             ],
             [
              1,
              "#f0f921"
             ]
            ],
            "type": "heatmapgl"
           }
          ],
          "histogram": [
           {
            "marker": {
             "pattern": {
              "fillmode": "overlay",
              "size": 10,
              "solidity": 0.2
             }
            },
            "type": "histogram"
           }
          ],
          "histogram2d": [
           {
            "colorbar": {
             "outlinewidth": 0,
             "ticks": ""
            },
            "colorscale": [
             [
              0,
              "#0d0887"
             ],
             [
              0.1111111111111111,
              "#46039f"
             ],
             [
              0.2222222222222222,
              "#7201a8"
             ],
             [
              0.3333333333333333,
              "#9c179e"
             ],
             [
              0.4444444444444444,
              "#bd3786"
             ],
             [
              0.5555555555555556,
              "#d8576b"
             ],
             [
              0.6666666666666666,
              "#ed7953"
             ],
             [
              0.7777777777777778,
              "#fb9f3a"
             ],
             [
              0.8888888888888888,
              "#fdca26"
             ],
             [
              1,
              "#f0f921"
             ]
            ],
            "type": "histogram2d"
           }
          ],
          "histogram2dcontour": [
           {
            "colorbar": {
             "outlinewidth": 0,
             "ticks": ""
            },
            "colorscale": [
             [
              0,
              "#0d0887"
             ],
             [
              0.1111111111111111,
              "#46039f"
             ],
             [
              0.2222222222222222,
              "#7201a8"
             ],
             [
              0.3333333333333333,
              "#9c179e"
             ],
             [
              0.4444444444444444,
              "#bd3786"
             ],
             [
              0.5555555555555556,
              "#d8576b"
             ],
             [
              0.6666666666666666,
              "#ed7953"
             ],
             [
              0.7777777777777778,
              "#fb9f3a"
             ],
             [
              0.8888888888888888,
              "#fdca26"
             ],
             [
              1,
              "#f0f921"
             ]
            ],
            "type": "histogram2dcontour"
           }
          ],
          "mesh3d": [
           {
            "colorbar": {
             "outlinewidth": 0,
             "ticks": ""
            },
            "type": "mesh3d"
           }
          ],
          "parcoords": [
           {
            "line": {
             "colorbar": {
              "outlinewidth": 0,
              "ticks": ""
             }
            },
            "type": "parcoords"
           }
          ],
          "pie": [
           {
            "automargin": true,
            "type": "pie"
           }
          ],
          "scatter": [
           {
            "fillpattern": {
             "fillmode": "overlay",
             "size": 10,
             "solidity": 0.2
            },
            "type": "scatter"
           }
          ],
          "scatter3d": [
           {
            "line": {
             "colorbar": {
              "outlinewidth": 0,
              "ticks": ""
             }
            },
            "marker": {
             "colorbar": {
              "outlinewidth": 0,
              "ticks": ""
             }
            },
            "type": "scatter3d"
           }
          ],
          "scattercarpet": [
           {
            "marker": {
             "colorbar": {
              "outlinewidth": 0,
              "ticks": ""
             }
            },
            "type": "scattercarpet"
           }
          ],
          "scattergeo": [
           {
            "marker": {
             "colorbar": {
              "outlinewidth": 0,
              "ticks": ""
             }
            },
            "type": "scattergeo"
           }
          ],
          "scattergl": [
           {
            "marker": {
             "colorbar": {
              "outlinewidth": 0,
              "ticks": ""
             }
            },
            "type": "scattergl"
           }
          ],
          "scattermapbox": [
           {
            "marker": {
             "colorbar": {
              "outlinewidth": 0,
              "ticks": ""
             }
            },
            "type": "scattermapbox"
           }
          ],
          "scatterpolar": [
           {
            "marker": {
             "colorbar": {
              "outlinewidth": 0,
              "ticks": ""
             }
            },
            "type": "scatterpolar"
           }
          ],
          "scatterpolargl": [
           {
            "marker": {
             "colorbar": {
              "outlinewidth": 0,
              "ticks": ""
             }
            },
            "type": "scatterpolargl"
           }
          ],
          "scatterternary": [
           {
            "marker": {
             "colorbar": {
              "outlinewidth": 0,
              "ticks": ""
             }
            },
            "type": "scatterternary"
           }
          ],
          "surface": [
           {
            "colorbar": {
             "outlinewidth": 0,
             "ticks": ""
            },
            "colorscale": [
             [
              0,
              "#0d0887"
             ],
             [
              0.1111111111111111,
              "#46039f"
             ],
             [
              0.2222222222222222,
              "#7201a8"
             ],
             [
              0.3333333333333333,
              "#9c179e"
             ],
             [
              0.4444444444444444,
              "#bd3786"
             ],
             [
              0.5555555555555556,
              "#d8576b"
             ],
             [
              0.6666666666666666,
              "#ed7953"
             ],
             [
              0.7777777777777778,
              "#fb9f3a"
             ],
             [
              0.8888888888888888,
              "#fdca26"
             ],
             [
              1,
              "#f0f921"
             ]
            ],
            "type": "surface"
           }
          ],
          "table": [
           {
            "cells": {
             "fill": {
              "color": "#EBF0F8"
             },
             "line": {
              "color": "white"
             }
            },
            "header": {
             "fill": {
              "color": "#C8D4E3"
             },
             "line": {
              "color": "white"
             }
            },
            "type": "table"
           }
          ]
         },
         "layout": {
          "annotationdefaults": {
           "arrowcolor": "#2a3f5f",
           "arrowhead": 0,
           "arrowwidth": 1
          },
          "autotypenumbers": "strict",
          "coloraxis": {
           "colorbar": {
            "outlinewidth": 0,
            "ticks": ""
           }
          },
          "colorscale": {
           "diverging": [
            [
             0,
             "#8e0152"
            ],
            [
             0.1,
             "#c51b7d"
            ],
            [
             0.2,
             "#de77ae"
            ],
            [
             0.3,
             "#f1b6da"
            ],
            [
             0.4,
             "#fde0ef"
            ],
            [
             0.5,
             "#f7f7f7"
            ],
            [
             0.6,
             "#e6f5d0"
            ],
            [
             0.7,
             "#b8e186"
            ],
            [
             0.8,
             "#7fbc41"
            ],
            [
             0.9,
             "#4d9221"
            ],
            [
             1,
             "#276419"
            ]
           ],
           "sequential": [
            [
             0,
             "#0d0887"
            ],
            [
             0.1111111111111111,
             "#46039f"
            ],
            [
             0.2222222222222222,
             "#7201a8"
            ],
            [
             0.3333333333333333,
             "#9c179e"
            ],
            [
             0.4444444444444444,
             "#bd3786"
            ],
            [
             0.5555555555555556,
             "#d8576b"
            ],
            [
             0.6666666666666666,
             "#ed7953"
            ],
            [
             0.7777777777777778,
             "#fb9f3a"
            ],
            [
             0.8888888888888888,
             "#fdca26"
            ],
            [
             1,
             "#f0f921"
            ]
           ],
           "sequentialminus": [
            [
             0,
             "#0d0887"
            ],
            [
             0.1111111111111111,
             "#46039f"
            ],
            [
             0.2222222222222222,
             "#7201a8"
            ],
            [
             0.3333333333333333,
             "#9c179e"
            ],
            [
             0.4444444444444444,
             "#bd3786"
            ],
            [
             0.5555555555555556,
             "#d8576b"
            ],
            [
             0.6666666666666666,
             "#ed7953"
            ],
            [
             0.7777777777777778,
             "#fb9f3a"
            ],
            [
             0.8888888888888888,
             "#fdca26"
            ],
            [
             1,
             "#f0f921"
            ]
           ]
          },
          "colorway": [
           "#636efa",
           "#EF553B",
           "#00cc96",
           "#ab63fa",
           "#FFA15A",
           "#19d3f3",
           "#FF6692",
           "#B6E880",
           "#FF97FF",
           "#FECB52"
          ],
          "font": {
           "color": "#2a3f5f"
          },
          "geo": {
           "bgcolor": "white",
           "lakecolor": "white",
           "landcolor": "#E5ECF6",
           "showlakes": true,
           "showland": true,
           "subunitcolor": "white"
          },
          "hoverlabel": {
           "align": "left"
          },
          "hovermode": "closest",
          "mapbox": {
           "style": "light"
          },
          "paper_bgcolor": "white",
          "plot_bgcolor": "#E5ECF6",
          "polar": {
           "angularaxis": {
            "gridcolor": "white",
            "linecolor": "white",
            "ticks": ""
           },
           "bgcolor": "#E5ECF6",
           "radialaxis": {
            "gridcolor": "white",
            "linecolor": "white",
            "ticks": ""
           }
          },
          "scene": {
           "xaxis": {
            "backgroundcolor": "#E5ECF6",
            "gridcolor": "white",
            "gridwidth": 2,
            "linecolor": "white",
            "showbackground": true,
            "ticks": "",
            "zerolinecolor": "white"
           },
           "yaxis": {
            "backgroundcolor": "#E5ECF6",
            "gridcolor": "white",
            "gridwidth": 2,
            "linecolor": "white",
            "showbackground": true,
            "ticks": "",
            "zerolinecolor": "white"
           },
           "zaxis": {
            "backgroundcolor": "#E5ECF6",
            "gridcolor": "white",
            "gridwidth": 2,
            "linecolor": "white",
            "showbackground": true,
            "ticks": "",
            "zerolinecolor": "white"
           }
          },
          "shapedefaults": {
           "line": {
            "color": "#2a3f5f"
           }
          },
          "ternary": {
           "aaxis": {
            "gridcolor": "white",
            "linecolor": "white",
            "ticks": ""
           },
           "baxis": {
            "gridcolor": "white",
            "linecolor": "white",
            "ticks": ""
           },
           "bgcolor": "#E5ECF6",
           "caxis": {
            "gridcolor": "white",
            "linecolor": "white",
            "ticks": ""
           }
          },
          "title": {
           "x": 0.05
          },
          "xaxis": {
           "automargin": true,
           "gridcolor": "white",
           "linecolor": "white",
           "ticks": "",
           "title": {
            "standoff": 15
           },
           "zerolinecolor": "white",
           "zerolinewidth": 2
          },
          "yaxis": {
           "automargin": true,
           "gridcolor": "white",
           "linecolor": "white",
           "ticks": "",
           "title": {
            "standoff": 15
           },
           "zerolinecolor": "white",
           "zerolinewidth": 2
          }
         }
        },
        "width": 1000,
        "xaxis": {
         "anchor": "y",
         "domain": [
          0,
          0.45
         ],
         "rangeslider": {
          "visible": false
         }
        },
        "xaxis10": {
         "anchor": "y10",
         "domain": [
          0.55,
          1
         ],
         "rangeslider": {
          "visible": false
         }
        },
        "xaxis2": {
         "anchor": "y2",
         "domain": [
          0.55,
          1
         ],
         "rangeslider": {
          "visible": false
         }
        },
        "xaxis3": {
         "anchor": "y3",
         "domain": [
          0,
          0.45
         ],
         "rangeslider": {
          "visible": false
         }
        },
        "xaxis4": {
         "anchor": "y4",
         "domain": [
          0.55,
          1
         ],
         "rangeslider": {
          "visible": false
         }
        },
        "xaxis5": {
         "anchor": "y5",
         "domain": [
          0,
          0.45
         ],
         "rangeslider": {
          "visible": false
         }
        },
        "xaxis6": {
         "anchor": "y6",
         "domain": [
          0.55,
          1
         ],
         "rangeslider": {
          "visible": false
         }
        },
        "xaxis7": {
         "anchor": "y7",
         "domain": [
          0,
          0.45
         ],
         "rangeslider": {
          "visible": false
         }
        },
        "xaxis8": {
         "anchor": "y8",
         "domain": [
          0.55,
          1
         ],
         "rangeslider": {
          "visible": false
         }
        },
        "xaxis9": {
         "anchor": "y9",
         "domain": [
          0,
          0.45
         ],
         "rangeslider": {
          "visible": false
         }
        },
        "yaxis": {
         "anchor": "x",
         "domain": [
          0.848,
          1
         ]
        },
        "yaxis10": {
         "anchor": "x10",
         "domain": [
          0,
          0.152
         ]
        },
        "yaxis2": {
         "anchor": "x2",
         "domain": [
          0.848,
          1
         ]
        },
        "yaxis3": {
         "anchor": "x3",
         "domain": [
          0.6359999999999999,
          0.7879999999999999
         ]
        },
        "yaxis4": {
         "anchor": "x4",
         "domain": [
          0.6359999999999999,
          0.7879999999999999
         ]
        },
        "yaxis5": {
         "anchor": "x5",
         "domain": [
          0.424,
          0.576
         ]
        },
        "yaxis6": {
         "anchor": "x6",
         "domain": [
          0.424,
          0.576
         ]
        },
        "yaxis7": {
         "anchor": "x7",
         "domain": [
          0.212,
          0.364
         ]
        },
        "yaxis8": {
         "anchor": "x8",
         "domain": [
          0.212,
          0.364
         ]
        },
        "yaxis9": {
         "anchor": "x9",
         "domain": [
          0,
          0.152
         ]
        }
       }
      },
      "text/html": [
       "<div>                            <div id=\"b7285652-0926-4165-88c1-f2607c28d891\" class=\"plotly-graph-div\" style=\"height:1000px; width:1000px;\"></div>            <script type=\"text/javascript\">                require([\"plotly\"], function(Plotly) {                    window.PLOTLYENV=window.PLOTLYENV || {};                                    if (document.getElementById(\"b7285652-0926-4165-88c1-f2607c28d891\")) {                    Plotly.newPlot(                        \"b7285652-0926-4165-88c1-f2607c28d891\",                        [{\"close\":[16843.6953125,16848.126953125,17089.50390625],\"high\":[16881.798828125,17109.376953125,17091.86328125],\"low\":[16788.783203125,16750.55859375,16939.921875],\"open\":[16852.005859375,17089.505859375,16975.23828125],\"x\":[\"2022-12-08T00:00:00+00:00\",\"2022-12-07T00:00:00+00:00\",\"2022-12-06T00:00:00+00:00\"],\"type\":\"candlestick\",\"xaxis\":\"x\",\"yaxis\":\"y\"},{\"close\":[237.11599731445312,237.2830047607422,237.4080047607422,237.0959930419922,233.34500122070312,230.19000244140625,237.11599731445312,237.11000061035156,240.9530029296875],\"high\":[238.24200439453125,238.63600158691406,237.82400512695312,237.52200317382812,237.09300231933594,233.2519989013672,238.24200439453125,241.02099609375,241.97799682617188],\"low\":[235.69200134277344,236.69500732421875,236.65199279785156,235.7310028076172,232.04600524902344,229.54200744628906,235.69200134277344,236.63699340820312,238.81100463867188],\"open\":[237.10400390625,237.06500244140625,237.2570037841797,237.3769989013672,237.0919952392578,233.13499450683594,237.10400390625,240.927001953125,238.9759979248047],\"x\":[\"2015-05-26T00:00:00+00:00\",\"2015-05-27T00:00:00+00:00\",\"2015-05-28T00:00:00+00:00\",\"2015-05-29T00:00:00+00:00\",\"2015-05-30T00:00:00+00:00\",\"2015-05-31T00:00:00+00:00\",\"2015-05-26T00:00:00+00:00\",\"2015-05-25T00:00:00+00:00\",\"2015-05-24T00:00:00+00:00\"],\"type\":\"candlestick\",\"xaxis\":\"x2\",\"yaxis\":\"y2\"},{\"close\":[4023.96826171875,4035.826416015625,4022.168212890625,3963.070556640625,3985.080810546875,4087.066162109375,4023.96826171875,4029.326904296875,4087.476318359375],\"high\":[4053.90673828125,4049.882568359375,4040.69970703125,4038.8408203125,3985.080810546875,4087.066162109375,4053.90673828125,4097.35986328125,4089.4619140625],\"low\":[4021.54248046875,4015.964599609375,4006.19287109375,3934.03125,3944.753173828125,3977.810546875,4021.54248046875,4005.1513671875,4031.11083984375],\"open\":[4028.5146484375,4022.71337890625,4035.16357421875,4024.11279296875,3969.228759765625,3984.244873046875,4028.5146484375,4083.953857421875,4070.7939453125],\"x\":[\"2019-03-22T00:00:00+00:00\",\"2019-03-23T00:00:00+00:00\",\"2019-03-24T00:00:00+00:00\",\"2019-03-25T00:00:00+00:00\",\"2019-03-26T00:00:00+00:00\",\"2019-03-27T00:00:00+00:00\",\"2019-03-22T00:00:00+00:00\",\"2019-03-21T00:00:00+00:00\",\"2019-03-20T00:00:00+00:00\"],\"type\":\"candlestick\",\"xaxis\":\"x3\",\"yaxis\":\"y3\"},{\"close\":[7988.560546875,8222.078125,8243.720703125,8078.203125,7514.671875,7493.48876953125,7988.560546875,7973.20751953125,8103.9111328125],\"high\":[8082.62939453125,8281.818359375,8296.6943359375,8296.6513671875,8092.99951171875,7532.86767578125,8082.62939453125,8138.41357421875,8134.83154296875],\"low\":[7944.77685546875,7949.439453125,8196.416015625,8074.462890625,7469.32275390625,7446.98876953125,7944.77685546875,7902.1640625,8000.94287109375],\"open\":[7973.8037109375,7997.80712890625,8225.115234375,8243.40234375,8076.228515625,7509.72802734375,7973.8037109375,8100.93359375,8047.8125],\"x\":[\"2019-10-19T00:00:00+00:00\",\"2019-10-20T00:00:00+00:00\",\"2019-10-21T00:00:00+00:00\",\"2019-10-22T00:00:00+00:00\",\"2019-10-23T00:00:00+00:00\",\"2019-10-24T00:00:00+00:00\",\"2019-10-19T00:00:00+00:00\",\"2019-10-18T00:00:00+00:00\",\"2019-10-17T00:00:00+00:00\"],\"type\":\"candlestick\",\"xaxis\":\"x4\",\"yaxis\":\"y4\"},{\"close\":[577.469970703125,606.7269897460938,672.7839965820312,704.3759765625,685.5590209960938,694.468994140625,577.469970703125,574.6300048828125,581.64501953125],\"high\":[579.1270141601562,607.1160278320312,684.843994140625,716.0040283203125,704.5040283203125,696.302978515625,579.1270141601562,582.2030029296875,582.8389892578125],\"low\":[573.3250122070312,578.6740112304688,607.0390014648438,664.4869995117188,662.8040161132812,672.5609741210938,573.3250122070312,570.9509887695312,573.1300048828125],\"open\":[575.8369750976562,578.6740112304688,609.6840209960938,671.6539916992188,704.5040283203125,685.6849975585938,575.8369750976562,582.2030029296875,577.1669921875],\"x\":[\"2016-06-10T00:00:00+00:00\",\"2016-06-11T00:00:00+00:00\",\"2016-06-12T00:00:00+00:00\",\"2016-06-13T00:00:00+00:00\",\"2016-06-14T00:00:00+00:00\",\"2016-06-15T00:00:00+00:00\",\"2016-06-10T00:00:00+00:00\",\"2016-06-09T00:00:00+00:00\",\"2016-06-08T00:00:00+00:00\"],\"type\":\"candlestick\",\"xaxis\":\"x5\",\"yaxis\":\"y5\"},{\"close\":[11358.1015625,11483.359375,11742.037109375,11916.3349609375,12823.689453125,12965.8916015625,11358.1015625,11322.123046875,11495.349609375],\"high\":[11386.26171875,11483.359375,11799.0927734375,11999.91796875,13184.56640625,13161.59375,11386.26171875,11540.0615234375,11569.9140625],\"low\":[11285.345703125,11347.578125,11408.2900390625,11681.48046875,11900.9287109375,12717.09375,11285.345703125,11223.0126953125,11303.603515625],\"open\":[11322.123046875,11355.982421875,11495.0380859375,11745.974609375,11913.0771484375,12801.6357421875,11322.123046875,11502.828125,11426.6025390625],\"x\":[\"2020-10-17T00:00:00+00:00\",\"2020-10-18T00:00:00+00:00\",\"2020-10-19T00:00:00+00:00\",\"2020-10-20T00:00:00+00:00\",\"2020-10-21T00:00:00+00:00\",\"2020-10-22T00:00:00+00:00\",\"2020-10-17T00:00:00+00:00\",\"2020-10-16T00:00:00+00:00\",\"2020-10-15T00:00:00+00:00\"],\"type\":\"candlestick\",\"xaxis\":\"x6\",\"yaxis\":\"y6\"},{\"close\":[3459.154052734375,3466.357421875,3413.767822265625,3399.4716796875,3666.7802734375,3671.20361328125,3459.154052734375,3464.013427734375,3521.060791015625],\"high\":[3476.223876953125,3478.148193359375,3469.091796875,3427.945556640625,3695.614013671875,3679.94140625,3476.223876953125,3521.38818359375,3523.287353515625],\"low\":[3442.5869140625,3451.93701171875,3398.5654296875,3394.218505859375,3391.023681640625,3646.559326171875,3442.5869140625,3447.92431640625,3467.57470703125],\"open\":[3467.211669921875,3454.950927734375,3469.091796875,3414.929443359375,3401.37646484375,3671.5859375,3467.211669921875,3516.1396484375,3484.6259765625],\"x\":[\"2019-02-04T00:00:00+00:00\",\"2019-02-05T00:00:00+00:00\",\"2019-02-06T00:00:00+00:00\",\"2019-02-07T00:00:00+00:00\",\"2019-02-08T00:00:00+00:00\",\"2019-02-09T00:00:00+00:00\",\"2019-02-04T00:00:00+00:00\",\"2019-02-03T00:00:00+00:00\",\"2019-02-02T00:00:00+00:00\"],\"type\":\"candlestick\",\"xaxis\":\"x7\",\"yaxis\":\"y7\"},{\"close\":[18364.12109375,19107.46484375,18732.12109375,17150.623046875,17108.40234375,17717.4140625,18364.12109375,18370.001953125,18642.232421875],\"high\":[18711.42578125,19348.271484375,19390.96484375,18866.28515625,17445.0234375,17853.939453125,18711.42578125,18688.96875,18936.62109375],\"low\":[18000.796875,18128.65625,18581.146484375,16351.03515625,16526.423828125,16910.65234375,18000.796875,17671.384765625,18444.359375],\"open\":[18370.017578125,18365.015625,19104.41015625,18729.83984375,17153.9140625,17112.93359375,18370.017578125,18642.232421875,18621.31640625],\"x\":[\"2020-11-23T00:00:00+00:00\",\"2020-11-24T00:00:00+00:00\",\"2020-11-25T00:00:00+00:00\",\"2020-11-26T00:00:00+00:00\",\"2020-11-27T00:00:00+00:00\",\"2020-11-28T00:00:00+00:00\",\"2020-11-23T00:00:00+00:00\",\"2020-11-22T00:00:00+00:00\",\"2020-11-21T00:00:00+00:00\"],\"type\":\"candlestick\",\"xaxis\":\"x8\",\"yaxis\":\"y8\"},{\"close\":[3653.528564453125,3632.070556640625,3616.880859375,3620.810791015625,3629.78759765625,3673.836181640625,3653.528564453125,3648.4306640625,3690.188232421875],\"high\":[3668.5869140625,3669.74658203125,3646.256591796875,3647.795166015625,3652.84130859375,3680.537353515625,3668.5869140625,3695.613037109375,3695.0361328125],\"low\":[3618.556884765625,3617.246337890625,3607.69775390625,3608.20654296875,3615.270263671875,3619.18212890625,3618.556884765625,3642.287841796875,3640.97998046875],\"open\":[3642.751953125,3653.60400390625,3631.170166015625,3617.368408203125,3615.270263671875,3633.359375,3642.751953125,3695.613037109375,3673.201416015625],\"x\":[\"2019-02-12T00:00:00+00:00\",\"2019-02-13T00:00:00+00:00\",\"2019-02-14T00:00:00+00:00\",\"2019-02-15T00:00:00+00:00\",\"2019-02-16T00:00:00+00:00\",\"2019-02-17T00:00:00+00:00\",\"2019-02-12T00:00:00+00:00\",\"2019-02-11T00:00:00+00:00\",\"2019-02-10T00:00:00+00:00\"],\"type\":\"candlestick\",\"xaxis\":\"x9\",\"yaxis\":\"y9\"},{\"close\":[273.614013671875,278.9809875488281,275.8330078125,277.22198486328125,276.04901123046875,288.27801513671875,273.614013671875,274.9010009765625,279.47198486328125],\"high\":[275.6700134277344,278.9809875488281,280.5469970703125,277.6659851074219,278.1109924316406,289.25299072265625,275.6700134277344,282.5270080566406,280.2799987792969],\"low\":[272.51300048828125,272.9599914550781,275.41900634765625,274.3810119628906,275.71600341796875,275.2539978027344,272.51300048828125,274.07501220703125,272.0429992675781],\"open\":[274.7669982910156,273.4989929199219,278.8819885253906,275.6570129394531,277.34100341796875,276.0050048828125,274.7669982910156,279.33099365234375,278.09100341796875],\"x\":[\"2015-07-19T00:00:00+00:00\",\"2015-07-20T00:00:00+00:00\",\"2015-07-21T00:00:00+00:00\",\"2015-07-22T00:00:00+00:00\",\"2015-07-23T00:00:00+00:00\",\"2015-07-24T00:00:00+00:00\",\"2015-07-19T00:00:00+00:00\",\"2015-07-18T00:00:00+00:00\",\"2015-07-17T00:00:00+00:00\"],\"type\":\"candlestick\",\"xaxis\":\"x10\",\"yaxis\":\"y10\"}],                        {\"template\":{\"data\":{\"histogram2dcontour\":[{\"type\":\"histogram2dcontour\",\"colorbar\":{\"outlinewidth\":0,\"ticks\":\"\"},\"colorscale\":[[0.0,\"#0d0887\"],[0.1111111111111111,\"#46039f\"],[0.2222222222222222,\"#7201a8\"],[0.3333333333333333,\"#9c179e\"],[0.4444444444444444,\"#bd3786\"],[0.5555555555555556,\"#d8576b\"],[0.6666666666666666,\"#ed7953\"],[0.7777777777777778,\"#fb9f3a\"],[0.8888888888888888,\"#fdca26\"],[1.0,\"#f0f921\"]]}],\"choropleth\":[{\"type\":\"choropleth\",\"colorbar\":{\"outlinewidth\":0,\"ticks\":\"\"}}],\"histogram2d\":[{\"type\":\"histogram2d\",\"colorbar\":{\"outlinewidth\":0,\"ticks\":\"\"},\"colorscale\":[[0.0,\"#0d0887\"],[0.1111111111111111,\"#46039f\"],[0.2222222222222222,\"#7201a8\"],[0.3333333333333333,\"#9c179e\"],[0.4444444444444444,\"#bd3786\"],[0.5555555555555556,\"#d8576b\"],[0.6666666666666666,\"#ed7953\"],[0.7777777777777778,\"#fb9f3a\"],[0.8888888888888888,\"#fdca26\"],[1.0,\"#f0f921\"]]}],\"heatmap\":[{\"type\":\"heatmap\",\"colorbar\":{\"outlinewidth\":0,\"ticks\":\"\"},\"colorscale\":[[0.0,\"#0d0887\"],[0.1111111111111111,\"#46039f\"],[0.2222222222222222,\"#7201a8\"],[0.3333333333333333,\"#9c179e\"],[0.4444444444444444,\"#bd3786\"],[0.5555555555555556,\"#d8576b\"],[0.6666666666666666,\"#ed7953\"],[0.7777777777777778,\"#fb9f3a\"],[0.8888888888888888,\"#fdca26\"],[1.0,\"#f0f921\"]]}],\"heatmapgl\":[{\"type\":\"heatmapgl\",\"colorbar\":{\"outlinewidth\":0,\"ticks\":\"\"},\"colorscale\":[[0.0,\"#0d0887\"],[0.1111111111111111,\"#46039f\"],[0.2222222222222222,\"#7201a8\"],[0.3333333333333333,\"#9c179e\"],[0.4444444444444444,\"#bd3786\"],[0.5555555555555556,\"#d8576b\"],[0.6666666666666666,\"#ed7953\"],[0.7777777777777778,\"#fb9f3a\"],[0.8888888888888888,\"#fdca26\"],[1.0,\"#f0f921\"]]}],\"contourcarpet\":[{\"type\":\"contourcarpet\",\"colorbar\":{\"outlinewidth\":0,\"ticks\":\"\"}}],\"contour\":[{\"type\":\"contour\",\"colorbar\":{\"outlinewidth\":0,\"ticks\":\"\"},\"colorscale\":[[0.0,\"#0d0887\"],[0.1111111111111111,\"#46039f\"],[0.2222222222222222,\"#7201a8\"],[0.3333333333333333,\"#9c179e\"],[0.4444444444444444,\"#bd3786\"],[0.5555555555555556,\"#d8576b\"],[0.6666666666666666,\"#ed7953\"],[0.7777777777777778,\"#fb9f3a\"],[0.8888888888888888,\"#fdca26\"],[1.0,\"#f0f921\"]]}],\"surface\":[{\"type\":\"surface\",\"colorbar\":{\"outlinewidth\":0,\"ticks\":\"\"},\"colorscale\":[[0.0,\"#0d0887\"],[0.1111111111111111,\"#46039f\"],[0.2222222222222222,\"#7201a8\"],[0.3333333333333333,\"#9c179e\"],[0.4444444444444444,\"#bd3786\"],[0.5555555555555556,\"#d8576b\"],[0.6666666666666666,\"#ed7953\"],[0.7777777777777778,\"#fb9f3a\"],[0.8888888888888888,\"#fdca26\"],[1.0,\"#f0f921\"]]}],\"mesh3d\":[{\"type\":\"mesh3d\",\"colorbar\":{\"outlinewidth\":0,\"ticks\":\"\"}}],\"scatter\":[{\"fillpattern\":{\"fillmode\":\"overlay\",\"size\":10,\"solidity\":0.2},\"type\":\"scatter\"}],\"parcoords\":[{\"type\":\"parcoords\",\"line\":{\"colorbar\":{\"outlinewidth\":0,\"ticks\":\"\"}}}],\"scatterpolargl\":[{\"type\":\"scatterpolargl\",\"marker\":{\"colorbar\":{\"outlinewidth\":0,\"ticks\":\"\"}}}],\"bar\":[{\"error_x\":{\"color\":\"#2a3f5f\"},\"error_y\":{\"color\":\"#2a3f5f\"},\"marker\":{\"line\":{\"color\":\"#E5ECF6\",\"width\":0.5},\"pattern\":{\"fillmode\":\"overlay\",\"size\":10,\"solidity\":0.2}},\"type\":\"bar\"}],\"scattergeo\":[{\"type\":\"scattergeo\",\"marker\":{\"colorbar\":{\"outlinewidth\":0,\"ticks\":\"\"}}}],\"scatterpolar\":[{\"type\":\"scatterpolar\",\"marker\":{\"colorbar\":{\"outlinewidth\":0,\"ticks\":\"\"}}}],\"histogram\":[{\"marker\":{\"pattern\":{\"fillmode\":\"overlay\",\"size\":10,\"solidity\":0.2}},\"type\":\"histogram\"}],\"scattergl\":[{\"type\":\"scattergl\",\"marker\":{\"colorbar\":{\"outlinewidth\":0,\"ticks\":\"\"}}}],\"scatter3d\":[{\"type\":\"scatter3d\",\"line\":{\"colorbar\":{\"outlinewidth\":0,\"ticks\":\"\"}},\"marker\":{\"colorbar\":{\"outlinewidth\":0,\"ticks\":\"\"}}}],\"scattermapbox\":[{\"type\":\"scattermapbox\",\"marker\":{\"colorbar\":{\"outlinewidth\":0,\"ticks\":\"\"}}}],\"scatterternary\":[{\"type\":\"scatterternary\",\"marker\":{\"colorbar\":{\"outlinewidth\":0,\"ticks\":\"\"}}}],\"scattercarpet\":[{\"type\":\"scattercarpet\",\"marker\":{\"colorbar\":{\"outlinewidth\":0,\"ticks\":\"\"}}}],\"carpet\":[{\"aaxis\":{\"endlinecolor\":\"#2a3f5f\",\"gridcolor\":\"white\",\"linecolor\":\"white\",\"minorgridcolor\":\"white\",\"startlinecolor\":\"#2a3f5f\"},\"baxis\":{\"endlinecolor\":\"#2a3f5f\",\"gridcolor\":\"white\",\"linecolor\":\"white\",\"minorgridcolor\":\"white\",\"startlinecolor\":\"#2a3f5f\"},\"type\":\"carpet\"}],\"table\":[{\"cells\":{\"fill\":{\"color\":\"#EBF0F8\"},\"line\":{\"color\":\"white\"}},\"header\":{\"fill\":{\"color\":\"#C8D4E3\"},\"line\":{\"color\":\"white\"}},\"type\":\"table\"}],\"barpolar\":[{\"marker\":{\"line\":{\"color\":\"#E5ECF6\",\"width\":0.5},\"pattern\":{\"fillmode\":\"overlay\",\"size\":10,\"solidity\":0.2}},\"type\":\"barpolar\"}],\"pie\":[{\"automargin\":true,\"type\":\"pie\"}]},\"layout\":{\"autotypenumbers\":\"strict\",\"colorway\":[\"#636efa\",\"#EF553B\",\"#00cc96\",\"#ab63fa\",\"#FFA15A\",\"#19d3f3\",\"#FF6692\",\"#B6E880\",\"#FF97FF\",\"#FECB52\"],\"font\":{\"color\":\"#2a3f5f\"},\"hovermode\":\"closest\",\"hoverlabel\":{\"align\":\"left\"},\"paper_bgcolor\":\"white\",\"plot_bgcolor\":\"#E5ECF6\",\"polar\":{\"bgcolor\":\"#E5ECF6\",\"angularaxis\":{\"gridcolor\":\"white\",\"linecolor\":\"white\",\"ticks\":\"\"},\"radialaxis\":{\"gridcolor\":\"white\",\"linecolor\":\"white\",\"ticks\":\"\"}},\"ternary\":{\"bgcolor\":\"#E5ECF6\",\"aaxis\":{\"gridcolor\":\"white\",\"linecolor\":\"white\",\"ticks\":\"\"},\"baxis\":{\"gridcolor\":\"white\",\"linecolor\":\"white\",\"ticks\":\"\"},\"caxis\":{\"gridcolor\":\"white\",\"linecolor\":\"white\",\"ticks\":\"\"}},\"coloraxis\":{\"colorbar\":{\"outlinewidth\":0,\"ticks\":\"\"}},\"colorscale\":{\"sequential\":[[0.0,\"#0d0887\"],[0.1111111111111111,\"#46039f\"],[0.2222222222222222,\"#7201a8\"],[0.3333333333333333,\"#9c179e\"],[0.4444444444444444,\"#bd3786\"],[0.5555555555555556,\"#d8576b\"],[0.6666666666666666,\"#ed7953\"],[0.7777777777777778,\"#fb9f3a\"],[0.8888888888888888,\"#fdca26\"],[1.0,\"#f0f921\"]],\"sequentialminus\":[[0.0,\"#0d0887\"],[0.1111111111111111,\"#46039f\"],[0.2222222222222222,\"#7201a8\"],[0.3333333333333333,\"#9c179e\"],[0.4444444444444444,\"#bd3786\"],[0.5555555555555556,\"#d8576b\"],[0.6666666666666666,\"#ed7953\"],[0.7777777777777778,\"#fb9f3a\"],[0.8888888888888888,\"#fdca26\"],[1.0,\"#f0f921\"]],\"diverging\":[[0,\"#8e0152\"],[0.1,\"#c51b7d\"],[0.2,\"#de77ae\"],[0.3,\"#f1b6da\"],[0.4,\"#fde0ef\"],[0.5,\"#f7f7f7\"],[0.6,\"#e6f5d0\"],[0.7,\"#b8e186\"],[0.8,\"#7fbc41\"],[0.9,\"#4d9221\"],[1,\"#276419\"]]},\"xaxis\":{\"gridcolor\":\"white\",\"linecolor\":\"white\",\"ticks\":\"\",\"title\":{\"standoff\":15},\"zerolinecolor\":\"white\",\"automargin\":true,\"zerolinewidth\":2},\"yaxis\":{\"gridcolor\":\"white\",\"linecolor\":\"white\",\"ticks\":\"\",\"title\":{\"standoff\":15},\"zerolinecolor\":\"white\",\"automargin\":true,\"zerolinewidth\":2},\"scene\":{\"xaxis\":{\"backgroundcolor\":\"#E5ECF6\",\"gridcolor\":\"white\",\"linecolor\":\"white\",\"showbackground\":true,\"ticks\":\"\",\"zerolinecolor\":\"white\",\"gridwidth\":2},\"yaxis\":{\"backgroundcolor\":\"#E5ECF6\",\"gridcolor\":\"white\",\"linecolor\":\"white\",\"showbackground\":true,\"ticks\":\"\",\"zerolinecolor\":\"white\",\"gridwidth\":2},\"zaxis\":{\"backgroundcolor\":\"#E5ECF6\",\"gridcolor\":\"white\",\"linecolor\":\"white\",\"showbackground\":true,\"ticks\":\"\",\"zerolinecolor\":\"white\",\"gridwidth\":2}},\"shapedefaults\":{\"line\":{\"color\":\"#2a3f5f\"}},\"annotationdefaults\":{\"arrowcolor\":\"#2a3f5f\",\"arrowhead\":0,\"arrowwidth\":1},\"geo\":{\"bgcolor\":\"white\",\"landcolor\":\"#E5ECF6\",\"subunitcolor\":\"white\",\"showland\":true,\"showlakes\":true,\"lakecolor\":\"white\"},\"title\":{\"x\":0.05},\"mapbox\":{\"style\":\"light\"}}},\"xaxis\":{\"anchor\":\"y\",\"domain\":[0.0,0.45],\"rangeslider\":{\"visible\":false}},\"yaxis\":{\"anchor\":\"x\",\"domain\":[0.848,1.0]},\"xaxis2\":{\"anchor\":\"y2\",\"domain\":[0.55,1.0],\"rangeslider\":{\"visible\":false}},\"yaxis2\":{\"anchor\":\"x2\",\"domain\":[0.848,1.0]},\"xaxis3\":{\"anchor\":\"y3\",\"domain\":[0.0,0.45],\"rangeslider\":{\"visible\":false}},\"yaxis3\":{\"anchor\":\"x3\",\"domain\":[0.6359999999999999,0.7879999999999999]},\"xaxis4\":{\"anchor\":\"y4\",\"domain\":[0.55,1.0],\"rangeslider\":{\"visible\":false}},\"yaxis4\":{\"anchor\":\"x4\",\"domain\":[0.6359999999999999,0.7879999999999999]},\"xaxis5\":{\"anchor\":\"y5\",\"domain\":[0.0,0.45],\"rangeslider\":{\"visible\":false}},\"yaxis5\":{\"anchor\":\"x5\",\"domain\":[0.424,0.576]},\"xaxis6\":{\"anchor\":\"y6\",\"domain\":[0.55,1.0],\"rangeslider\":{\"visible\":false}},\"yaxis6\":{\"anchor\":\"x6\",\"domain\":[0.424,0.576]},\"xaxis7\":{\"anchor\":\"y7\",\"domain\":[0.0,0.45],\"rangeslider\":{\"visible\":false}},\"yaxis7\":{\"anchor\":\"x7\",\"domain\":[0.212,0.364]},\"xaxis8\":{\"anchor\":\"y8\",\"domain\":[0.55,1.0],\"rangeslider\":{\"visible\":false}},\"yaxis8\":{\"anchor\":\"x8\",\"domain\":[0.212,0.364]},\"xaxis9\":{\"anchor\":\"y9\",\"domain\":[0.0,0.45],\"rangeslider\":{\"visible\":false}},\"yaxis9\":{\"anchor\":\"x9\",\"domain\":[0.0,0.152]},\"xaxis10\":{\"anchor\":\"y10\",\"domain\":[0.55,1.0],\"rangeslider\":{\"visible\":false}},\"yaxis10\":{\"anchor\":\"x10\",\"domain\":[0.0,0.152]},\"shapes\":[{\"type\":\"line\",\"x0\":\"2015-05-26T00:00:00+00:00\",\"x1\":\"2015-05-26T00:00:00+00:00\",\"xref\":\"x2\",\"y0\":0,\"y1\":1,\"yref\":\"y2 domain\"},{\"type\":\"line\",\"x0\":\"2019-03-22T00:00:00+00:00\",\"x1\":\"2019-03-22T00:00:00+00:00\",\"xref\":\"x3\",\"y0\":0,\"y1\":1,\"yref\":\"y3 domain\"},{\"type\":\"line\",\"x0\":\"2019-10-19T00:00:00+00:00\",\"x1\":\"2019-10-19T00:00:00+00:00\",\"xref\":\"x4\",\"y0\":0,\"y1\":1,\"yref\":\"y4 domain\"},{\"type\":\"line\",\"x0\":\"2016-06-10T00:00:00+00:00\",\"x1\":\"2016-06-10T00:00:00+00:00\",\"xref\":\"x5\",\"y0\":0,\"y1\":1,\"yref\":\"y5 domain\"},{\"type\":\"line\",\"x0\":\"2020-10-17T00:00:00+00:00\",\"x1\":\"2020-10-17T00:00:00+00:00\",\"xref\":\"x6\",\"y0\":0,\"y1\":1,\"yref\":\"y6 domain\"},{\"type\":\"line\",\"x0\":\"2019-02-04T00:00:00+00:00\",\"x1\":\"2019-02-04T00:00:00+00:00\",\"xref\":\"x7\",\"y0\":0,\"y1\":1,\"yref\":\"y7 domain\"},{\"type\":\"line\",\"x0\":\"2020-11-23T00:00:00+00:00\",\"x1\":\"2020-11-23T00:00:00+00:00\",\"xref\":\"x8\",\"y0\":0,\"y1\":1,\"yref\":\"y8 domain\"},{\"type\":\"line\",\"x0\":\"2019-02-12T00:00:00+00:00\",\"x1\":\"2019-02-12T00:00:00+00:00\",\"xref\":\"x9\",\"y0\":0,\"y1\":1,\"yref\":\"y9 domain\"},{\"type\":\"line\",\"x0\":\"2015-07-19T00:00:00+00:00\",\"x1\":\"2015-07-19T00:00:00+00:00\",\"xref\":\"x10\",\"y0\":0,\"y1\":1,\"yref\":\"y10 domain\"}],\"height\":1000,\"width\":1000},                        {\"responsive\": true}                    ).then(function(){\n",
       "                            \n",
       "var gd = document.getElementById('b7285652-0926-4165-88c1-f2607c28d891');\n",
       "var x = new MutationObserver(function (mutations, observer) {{\n",
       "        var display = window.getComputedStyle(gd).display;\n",
       "        if (!display || display === 'none') {{\n",
       "            console.log([gd, 'removed!']);\n",
       "            Plotly.purge(gd);\n",
       "            observer.disconnect();\n",
       "        }}\n",
       "}});\n",
       "\n",
       "// Listen for the removal of the full notebook cells\n",
       "var notebookContainer = gd.closest('#notebook-container');\n",
       "if (notebookContainer) {{\n",
       "    x.observe(notebookContainer, {childList: true});\n",
       "}}\n",
       "\n",
       "// Listen for the clearing of the current output cell\n",
       "var outputEl = gd.closest('.output');\n",
       "if (outputEl) {{\n",
       "    x.observe(outputEl, {childList: true});\n",
       "}}\n",
       "\n",
       "                        })                };                });            </script>        </div>"
      ]
     },
     "metadata": {},
     "output_type": "display_data"
    },
    {
     "data": {
      "text/html": [
       "<div>\n",
       "<style scoped>\n",
       "    .dataframe tbody tr th:only-of-type {\n",
       "        vertical-align: middle;\n",
       "    }\n",
       "\n",
       "    .dataframe tbody tr th {\n",
       "        vertical-align: top;\n",
       "    }\n",
       "\n",
       "    .dataframe thead th {\n",
       "        text-align: right;\n",
       "    }\n",
       "</style>\n",
       "<table border=\"1\" class=\"dataframe\">\n",
       "  <thead>\n",
       "    <tr style=\"text-align: right;\">\n",
       "      <th></th>\n",
       "      <th>time</th>\n",
       "      <th>change</th>\n",
       "      <th>Candle(1)</th>\n",
       "      <th>Candle(2)</th>\n",
       "    </tr>\n",
       "  </thead>\n",
       "  <tbody>\n",
       "    <tr>\n",
       "      <th>0</th>\n",
       "      <td>2022-12-08 00:00:00+00:00</td>\n",
       "      <td>-0.049315</td>\n",
       "      <td>-1.412439</td>\n",
       "      <td>0.673131</td>\n",
       "    </tr>\n",
       "    <tr>\n",
       "      <th>1</th>\n",
       "      <td>2022-12-07 00:00:00+00:00</td>\n",
       "      <td>-1.412439</td>\n",
       "      <td>0.673131</td>\n",
       "      <td>-0.899465</td>\n",
       "    </tr>\n",
       "    <tr>\n",
       "      <th>2</th>\n",
       "      <td>2022-12-06 00:00:00+00:00</td>\n",
       "      <td>0.673131</td>\n",
       "      <td>-0.899465</td>\n",
       "      <td>1.314846</td>\n",
       "    </tr>\n",
       "    <tr>\n",
       "      <th>3</th>\n",
       "      <td>2022-12-05 00:00:00+00:00</td>\n",
       "      <td>-0.899465</td>\n",
       "      <td>1.314846</td>\n",
       "      <td>-1.064133</td>\n",
       "    </tr>\n",
       "    <tr>\n",
       "      <th>4</th>\n",
       "      <td>2022-12-04 00:00:00+00:00</td>\n",
       "      <td>1.314846</td>\n",
       "      <td>-1.064133</td>\n",
       "      <td>0.707047</td>\n",
       "    </tr>\n",
       "    <tr>\n",
       "      <th>...</th>\n",
       "      <td>...</td>\n",
       "      <td>...</td>\n",
       "      <td>...</td>\n",
       "      <td>...</td>\n",
       "    </tr>\n",
       "    <tr>\n",
       "      <th>3000</th>\n",
       "      <td>2014-09-21 00:00:00+00:00</td>\n",
       "      <td>-2.270110</td>\n",
       "      <td>3.605767</td>\n",
       "      <td>-6.910351</td>\n",
       "    </tr>\n",
       "    <tr>\n",
       "      <th>3001</th>\n",
       "      <td>2014-09-20 00:00:00+00:00</td>\n",
       "      <td>3.605767</td>\n",
       "      <td>-6.910351</td>\n",
       "      <td>-7.096262</td>\n",
       "    </tr>\n",
       "    <tr>\n",
       "      <th>3002</th>\n",
       "      <td>2014-09-19 00:00:00+00:00</td>\n",
       "      <td>-6.910351</td>\n",
       "      <td>-7.096262</td>\n",
       "      <td>-1.831006</td>\n",
       "    </tr>\n",
       "    <tr>\n",
       "      <th>3003</th>\n",
       "      <td>2014-09-18 00:00:00+00:00</td>\n",
       "      <td>-7.096262</td>\n",
       "      <td>-1.831006</td>\n",
       "      <td>0.000000</td>\n",
       "    </tr>\n",
       "    <tr>\n",
       "      <th>3004</th>\n",
       "      <td>2014-09-17 00:00:00+00:00</td>\n",
       "      <td>-1.831006</td>\n",
       "      <td>0.000000</td>\n",
       "      <td>0.000000</td>\n",
       "    </tr>\n",
       "  </tbody>\n",
       "</table>\n",
       "<p>3005 rows × 4 columns</p>\n",
       "</div>"
      ],
      "text/plain": [
       "                          time    change  Candle(1)  Candle(2)\n",
       "0    2022-12-08 00:00:00+00:00 -0.049315  -1.412439   0.673131\n",
       "1    2022-12-07 00:00:00+00:00 -1.412439   0.673131  -0.899465\n",
       "2    2022-12-06 00:00:00+00:00  0.673131  -0.899465   1.314846\n",
       "3    2022-12-05 00:00:00+00:00 -0.899465   1.314846  -1.064133\n",
       "4    2022-12-04 00:00:00+00:00  1.314846  -1.064133   0.707047\n",
       "...                        ...       ...        ...        ...\n",
       "3000 2014-09-21 00:00:00+00:00 -2.270110   3.605767  -6.910351\n",
       "3001 2014-09-20 00:00:00+00:00  3.605767  -6.910351  -7.096262\n",
       "3002 2014-09-19 00:00:00+00:00 -6.910351  -7.096262  -1.831006\n",
       "3003 2014-09-18 00:00:00+00:00 -7.096262  -1.831006   0.000000\n",
       "3004 2014-09-17 00:00:00+00:00 -1.831006   0.000000   0.000000\n",
       "\n",
       "[3005 rows x 4 columns]"
      ]
     },
     "execution_count": 21,
     "metadata": {},
     "output_type": "execute_result"
    }
   ],
   "source": [
    "# PARAM WINDOW BEGIN ----------------------------\n",
    "\n",
    "# How many candle sticks you want to look into\n",
    "window_size = 3\n",
    "closest_n = 10\n",
    "input_pattern_index = 0\n",
    "\n",
    "# PARAM WINDOW END ------------------------------\n",
    "df, change_df = get_data(ticker = \"BTC-USD\", interval = \"1D\")\n",
    "\n",
    "\n",
    "embeddings, change_df = alter_df(change_df, window_size)\n",
    "\n",
    "vector_size = len(embeddings[0])\n",
    "\n",
    "visualize_patterns(input_pattern_index,\n",
    "                   window_size,\n",
    "                   closest_n,\n",
    "                   True)\n",
    "\n",
    "change_df\n"
   ]
  },
  {
   "cell_type": "code",
   "execution_count": null,
   "id": "aa9c488e",
   "metadata": {},
   "outputs": [],
   "source": []
  }
 ],
 "metadata": {
  "kernelspec": {
   "display_name": "Python 3 (ipykernel)",
   "language": "python",
   "name": "python3"
  },
  "language_info": {
   "codemirror_mode": {
    "name": "ipython",
    "version": 3
   },
   "file_extension": ".py",
   "mimetype": "text/x-python",
   "name": "python",
   "nbconvert_exporter": "python",
   "pygments_lexer": "ipython3",
   "version": "3.9.12"
  }
 },
 "nbformat": 4,
 "nbformat_minor": 5
}
