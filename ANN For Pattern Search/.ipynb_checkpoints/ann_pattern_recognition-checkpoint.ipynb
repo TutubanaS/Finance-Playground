{
 "cells": [
  {
   "cell_type": "code",
   "execution_count": 119,
   "id": "b748ebb2",
   "metadata": {},
   "outputs": [],
   "source": [
    "import pandas as pd\n",
    "\n",
    "from annoy import AnnoyIndex\n",
    "\n",
    "import plotly.graph_objects as go\n",
    "from plotly.subplots import make_subplots"
   ]
  },
  {
   "cell_type": "markdown",
   "id": "601cebfb",
   "metadata": {},
   "source": []
  },
  {
   "cell_type": "code",
   "execution_count": 169,
   "id": "8ed2cb0b",
   "metadata": {},
   "outputs": [],
   "source": [
    "# Load the Price Data (ETH DAILY)\n",
    "raw_df = pd.read_csv(\"../data/BITSTAMP_ETHUSD, 1D.csv\")\n",
    "\n",
    "# Drop Volume\n",
    "df = raw_df.drop([\"Volume\", \"Volume MA\"], axis=1).copy()\n",
    "\n",
    "# Calculate the daily change\n",
    "df[\"change\"] = ( (df.close - df.open) / (df.open * 100) )*100\n",
    "\n",
    "# Sort it from newest bar to oldest bar\n",
    "df = df.iloc[::-1]\n",
    "\n",
    "# finalize the change dataframe\n",
    "change_df = df[[\"time\", \"change\"]].reset_index().drop([\"index\"], axis=1).copy()"
   ]
  },
  {
   "cell_type": "code",
   "execution_count": 109,
   "id": "55376daf",
   "metadata": {},
   "outputs": [],
   "source": [
    "# PARAM WINDOW BEGIN\n",
    "\n",
    "# How many candle sticks you want to look into\n",
    "window_size = 20\n",
    "\n",
    "# PARAM WINDOW END\n",
    "\n",
    "# Add previous bars to the most recent bar in the list for the window of window size\n",
    "change_list = change_df[\"change\"].tolist()\n",
    "for i in range(window_size-1):\n",
    "    \n",
    "    \n",
    "    change_list.pop(0)\n",
    "    change_list.append(0)\n",
    "    \n",
    "    change_df[\"Candle(\" + str(i+1) +\")\"] = change_list\n",
    "    \n",
    "embeddings = change_df.drop(\"time\", axis=1).values.tolist()\n",
    "\n",
    "for i in range(window_size-1):\n",
    "    embeddings.pop()"
   ]
  },
  {
   "cell_type": "code",
   "execution_count": 155,
   "id": "bad53108",
   "metadata": {},
   "outputs": [
    {
     "data": {
      "text/plain": [
       "True"
      ]
     },
     "execution_count": 155,
     "metadata": {},
     "output_type": "execute_result"
    }
   ],
   "source": [
    "vector_size = len(embeddings[0])\n",
    "\n",
    "t = AnnoyIndex(vector_size, 'angular')\n",
    "for i in range(len(embeddings)):\n",
    "    t.add_item(i, embeddings[i])\n",
    "\n",
    "t.build(100) # 10 trees"
   ]
  },
  {
   "cell_type": "code",
   "execution_count": 156,
   "id": "19d80146",
   "metadata": {},
   "outputs": [
    {
     "data": {
      "text/plain": [
       "[0, 935, 1813, 1482, 2075]"
      ]
     },
     "execution_count": 156,
     "metadata": {},
     "output_type": "execute_result"
    }
   ],
   "source": [
    "##### to_search = embeddings[0]\n",
    "t.get_nns_by_vector(to_search, 5)"
   ]
  },
  {
   "cell_type": "code",
   "execution_count": 161,
   "id": "68fe68f3",
   "metadata": {},
   "outputs": [],
   "source": [
    "def get_pattern_df(check_for):\n",
    "    candles_list = []\n",
    "    for i in range(window_size):\n",
    "        candles_list.append(df.iloc[check_for])\n",
    "        check_for += 1\n",
    "    \n",
    "    \n",
    "    return pd.DataFrame(candles_list)"
   ]
  },
  {
   "cell_type": "code",
   "execution_count": 166,
   "id": "79a40a9e",
   "metadata": {},
   "outputs": [],
   "source": [
    "\n",
    "def visualize_patterns(main: int, nearest_neighs: list) -> None:\n",
    "    \n",
    "    nearest_neighs.remove(main)\n",
    "\n",
    "    df_pattern_main = get_pattern_df(main)\n",
    "    \n",
    "   \n",
    "    \n",
    "\n",
    "    fig = make_subplots(len(nearest_neighs)//2 + 1, cols=2)\n",
    "\n",
    "    row_i, col_i = 1, 1\n",
    "    fig.add_trace( go.Candlestick(\n",
    "                    x=df_pattern_main['time'],\n",
    "                    open=df_pattern['open'],\n",
    "                    high=df_pattern['high'],\n",
    "                    low=df_pattern['low'],\n",
    "                    close=df_pattern['close']),\n",
    "                    row=1, col=1\n",
    "                  )\n",
    "    \n",
    "    fig.update_xaxes(rangeslider= {'visible':False}, row=1, col=1)\n",
    "    \n",
    "    \n",
    "    col_i += 1\n",
    "\n",
    "    for i in nearest_neighs:\n",
    "        df_pattern_next = get_pattern_df(i)\n",
    "        fig.add_trace( go.Candlestick(\n",
    "                        x=df_pattern_next['time'],\n",
    "                        open=df_pattern_next['open'],\n",
    "                        high=df_pattern_next['high'],\n",
    "                        low=df_pattern_next['low'],\n",
    "                        close=df_pattern_next['close']\n",
    "                    ),\n",
    "                    row=row_i, col=col_i,\n",
    "                  )\n",
    "        fig.update_xaxes(rangeslider= {'visible':False}, row=row_i, col=col_i)\n",
    "        \n",
    "        col_i = (col_i%2) + 1\n",
    "        row_i = row_i + 1 if col_i == 1 else row_i\n",
    "        \n",
    "            \n",
    "\n",
    "\n",
    "    fig.update_layout(height=1000, width=1000, xaxis_rangeslider_visible=False)\n",
    "    fig.show()"
   ]
  },
  {
   "cell_type": "code",
   "execution_count": 168,
   "id": "33b0c307",
   "metadata": {},
   "outputs": [
    {
     "data": {
      "application/vnd.plotly.v1+json": {
       "config": {
        "plotlyServerURL": "https://plot.ly"
       },
       "data": [
        {
         "close": [
          1091,
          1048.32,
          1124.54,
          1127.51,
          1127.33,
          996.28,
          1084.42,
          1067.6,
          1237.23,
          1205.76,
          1208.7,
          1432.9,
          1530.3,
          1660.55,
          1787.13,
          1790.41,
          1812.24,
          1859.06,
          1804.98,
          1803.2
         ],
         "high": [
          1107.82,
          1128.46,
          1193,
          1169.5,
          1158.04,
          1096.43,
          1115.88,
          1255.55,
          1246.3,
          1266.25,
          1453.12,
          1543.02,
          1680.33,
          1803.14,
          1831.35,
          1837.9,
          1874.03,
          1917.63,
          1828.88,
          1814.02
         ],
         "low": [
          1044.25,
          1041.45,
          1108.76,
          1050.89,
          935.49,
          880,
          1050,
          1050.63,
          1013,
          1075,
          1164.35,
          1422.67,
          1500,
          1654,
          1776,
          1764.91,
          1725.21,
          1804,
          1773.67,
          1747.07
         ],
         "open": [
          1048.7,
          1125.21,
          1127.11,
          1127.77,
          994.63,
          1085.83,
          1067.78,
          1235.99,
          1205.73,
          1204.6,
          1433.85,
          1532.19,
          1660.71,
          1785.89,
          1791.27,
          1812.87,
          1858.9,
          1804,
          1804.26,
          1774.1
         ],
         "type": "candlestick",
         "x": [
          "2022-06-23T00:00:00Z",
          "2022-06-22T00:00:00Z",
          "2022-06-21T00:00:00Z",
          "2022-06-20T00:00:00Z",
          "2022-06-19T00:00:00Z",
          "2022-06-18T00:00:00Z",
          "2022-06-17T00:00:00Z",
          "2022-06-16T00:00:00Z",
          "2022-06-15T00:00:00Z",
          "2022-06-14T00:00:00Z",
          "2022-06-13T00:00:00Z",
          "2022-06-12T00:00:00Z",
          "2022-06-11T00:00:00Z",
          "2022-06-10T00:00:00Z",
          "2022-06-09T00:00:00Z",
          "2022-06-08T00:00:00Z",
          "2022-06-07T00:00:00Z",
          "2022-06-06T00:00:00Z",
          "2022-06-05T00:00:00Z",
          "2022-06-04T00:00:00Z"
         ],
         "xaxis": "x",
         "yaxis": "y"
        },
        {
         "close": [
          151.13,
          151.65,
          154.6,
          150.96,
          152.64,
          147.77,
          145.94,
          139.79,
          152.34,
          150.17,
          160.9,
          174.23,
          175.65,
          177.86,
          183.85,
          182.33,
          179.82,
          184.45,
          187.75,
          186.73
         ],
         "high": [
          152.26,
          155.36,
          157.76,
          154.84,
          155.86,
          150,
          151.91,
          153.07,
          154.44,
          162.68,
          175.33,
          177.3,
          178.09,
          184.12,
          186.27,
          183.28,
          187,
          188.22,
          189.45,
          187.38
         ],
         "low": [
          145.91,
          149.79,
          150.68,
          149.35,
          140.96,
          143.6,
          131.74,
          138.62,
          146.43,
          137.71,
          155.53,
          173.24,
          172.5,
          174.15,
          179.96,
          179.04,
          177.11,
          182.71,
          185.08,
          182.01
         ],
         "open": [
          151.34,
          154.36,
          151.02,
          153.35,
          147.61,
          145.97,
          140.08,
          151.93,
          149.5,
          160.9,
          174.42,
          175.81,
          177.65,
          183.53,
          182.32,
          179.83,
          184.81,
          188.22,
          186.89,
          184.15
         ],
         "type": "candlestick",
         "x": [
          "2019-12-01T00:00:00Z",
          "2019-11-30T00:00:00Z",
          "2019-11-29T00:00:00Z",
          "2019-11-28T00:00:00Z",
          "2019-11-27T00:00:00Z",
          "2019-11-26T00:00:00Z",
          "2019-11-25T00:00:00Z",
          "2019-11-24T00:00:00Z",
          "2019-11-23T00:00:00Z",
          "2019-11-22T00:00:00Z",
          "2019-11-21T00:00:00Z",
          "2019-11-20T00:00:00Z",
          "2019-11-19T00:00:00Z",
          "2019-11-18T00:00:00Z",
          "2019-11-17T00:00:00Z",
          "2019-11-16T00:00:00Z",
          "2019-11-15T00:00:00Z",
          "2019-11-14T00:00:00Z",
          "2019-11-13T00:00:00Z",
          "2019-11-12T00:00:00Z"
         ],
         "xaxis": "x2",
         "yaxis": "y2"
        },
        {
         "close": [
          271.37,
          269.329,
          274.028,
          284.049,
          290.619,
          275.672,
          291.418,
          305.423,
          332.437,
          290.466,
          273.647,
          302.582,
          323.866,
          342.4,
          336.381,
          335.253,
          358.398,
          370.354,
          371.701,
          377
         ],
         "high": [
          278.476,
          274.196,
          287.388,
          290.921,
          294.36,
          294.916,
          314.989,
          332.437,
          333.104,
          290.466,
          309.968,
          332.366,
          343.621,
          347.788,
          341.585,
          361.343,
          377.969,
          376.958,
          390.581,
          377.646
         ],
         "low": [
          265.852,
          261.92,
          273.462,
          281.895,
          263.203,
          269.783,
          289.568,
          301.753,
          277.436,
          235.213,
          245.005,
          286.669,
          323.829,
          335.276,
          331.16,
          321.349,
          351.09,
          370.08,
          370.721,
          365.01
         ],
         "open": [
          269.329,
          274.028,
          284.049,
          290.619,
          275.672,
          291.418,
          305.423,
          332.437,
          290.466,
          273.647,
          302.582,
          323.866,
          342.4,
          336.381,
          335.253,
          358.398,
          370.354,
          371.701,
          377,
          368.994
         ],
         "type": "candlestick",
         "x": [
          "2017-07-06T00:00:00Z",
          "2017-07-05T00:00:00Z",
          "2017-07-04T00:00:00Z",
          "2017-07-03T00:00:00Z",
          "2017-07-02T00:00:00Z",
          "2017-07-01T00:00:00Z",
          "2017-06-30T00:00:00Z",
          "2017-06-29T00:00:00Z",
          "2017-06-28T00:00:00Z",
          "2017-06-27T00:00:00Z",
          "2017-06-26T00:00:00Z",
          "2017-06-25T00:00:00Z",
          "2017-06-24T00:00:00Z",
          "2017-06-23T00:00:00Z",
          "2017-06-22T00:00:00Z",
          "2017-06-21T00:00:00Z",
          "2017-06-20T00:00:00Z",
          "2017-06-19T00:00:00Z",
          "2017-06-18T00:00:00Z",
          "2017-06-17T00:00:00Z"
         ],
         "xaxis": "x3",
         "yaxis": "y3"
        },
        {
         "close": [
          591,
          578.96,
          576.85,
          556.82,
          566.99,
          512.23,
          571.39,
          585.65,
          584.99,
          601.76,
          576.84,
          640.86,
          696.43,
          716,
          695.88,
          692.54,
          669.04,
          706.88,
          707.38,
          727.62
         ],
         "high": [
          599.5,
          589,
          586,
          585.32,
          573.34,
          576.45,
          592.88,
          607.7,
          616.18,
          609,
          649.89,
          699.57,
          720,
          723.16,
          716.93,
          694.96,
          718.9,
          712,
          739.37,
          743
         ],
         "low": [
          573.32,
          563.38,
          553.2,
          541.3,
          510.05,
          506.3,
          556.92,
          578.84,
          569.19,
          549.28,
          564.94,
          637.93,
          687.8,
          687.89,
          683,
          656.36,
          660.65,
          674.57,
          695.74,
          686.63
         ],
         "open": [
          578.99,
          576.48,
          556.44,
          566.78,
          512.23,
          569.69,
          585.52,
          584.99,
          601.92,
          578.4,
          640.56,
          698.09,
          716,
          694.99,
          693.99,
          668.7,
          706.56,
          704.76,
          727,
          730.36
         ],
         "type": "candlestick",
         "x": [
          "2018-06-02T00:00:00Z",
          "2018-06-01T00:00:00Z",
          "2018-05-31T00:00:00Z",
          "2018-05-30T00:00:00Z",
          "2018-05-29T00:00:00Z",
          "2018-05-28T00:00:00Z",
          "2018-05-27T00:00:00Z",
          "2018-05-26T00:00:00Z",
          "2018-05-25T00:00:00Z",
          "2018-05-24T00:00:00Z",
          "2018-05-23T00:00:00Z",
          "2018-05-22T00:00:00Z",
          "2018-05-21T00:00:00Z",
          "2018-05-20T00:00:00Z",
          "2018-05-19T00:00:00Z",
          "2018-05-18T00:00:00Z",
          "2018-05-17T00:00:00Z",
          "2018-05-16T00:00:00Z",
          "2018-05-15T00:00:00Z",
          "2018-05-14T00:00:00Z"
         ],
         "xaxis": "x4",
         "yaxis": "y4"
        },
        {
         "close": [
          11.9986,
          11.9684,
          11.9549,
          11.9403,
          12.1084,
          11.7585,
          11.7708,
          11.7504,
          12.0615,
          12.1981,
          12.6567,
          12.8823,
          13.0814,
          13.3019,
          13.4673,
          13.2096,
          13.1861,
          13.2507,
          13.1298,
          13.2849
         ],
         "high": [
          12.0318,
          12.0067,
          11.9962,
          12.1084,
          12.1277,
          12.0628,
          12.1519,
          12.0615,
          12.3531,
          12.6853,
          12.9727,
          13.1411,
          13.3467,
          13.5169,
          13.4852,
          13.2959,
          13.3091,
          13.3336,
          13.315,
          13.4564
         ],
         "low": [
          11.8695,
          11.9358,
          11.7913,
          11.9057,
          11.7585,
          11.7273,
          11.7504,
          11.6655,
          12.0026,
          12.0526,
          12.5459,
          12.7468,
          13.0653,
          13.2327,
          13.1896,
          13.1549,
          13.0807,
          13.0449,
          13.09,
          13.0891
         ],
         "open": [
          11.9684,
          11.9549,
          11.9403,
          12.1084,
          11.7585,
          11.7708,
          11.7504,
          12.0615,
          12.1981,
          12.6567,
          12.8823,
          13.0814,
          13.3019,
          13.4673,
          13.2096,
          13.1861,
          13.2507,
          13.1298,
          13.2849,
          13.1038
         ],
         "type": "candlestick",
         "x": [
          "2016-10-17T00:00:00Z",
          "2016-10-16T00:00:00Z",
          "2016-10-15T00:00:00Z",
          "2016-10-14T00:00:00Z",
          "2016-10-13T00:00:00Z",
          "2016-10-12T00:00:00Z",
          "2016-10-11T00:00:00Z",
          "2016-10-10T00:00:00Z",
          "2016-10-09T00:00:00Z",
          "2016-10-08T00:00:00Z",
          "2016-10-07T00:00:00Z",
          "2016-10-06T00:00:00Z",
          "2016-10-05T00:00:00Z",
          "2016-10-04T00:00:00Z",
          "2016-10-03T00:00:00Z",
          "2016-10-02T00:00:00Z",
          "2016-10-01T00:00:00Z",
          "2016-09-30T00:00:00Z",
          "2016-09-29T00:00:00Z",
          "2016-09-28T00:00:00Z"
         ],
         "xaxis": "x5",
         "yaxis": "y5"
        }
       ],
       "layout": {
        "height": 1000,
        "template": {
         "data": {
          "bar": [
           {
            "error_x": {
             "color": "#2a3f5f"
            },
            "error_y": {
             "color": "#2a3f5f"
            },
            "marker": {
             "line": {
              "color": "#E5ECF6",
              "width": 0.5
             },
             "pattern": {
              "fillmode": "overlay",
              "size": 10,
              "solidity": 0.2
             }
            },
            "type": "bar"
           }
          ],
          "barpolar": [
           {
            "marker": {
             "line": {
              "color": "#E5ECF6",
              "width": 0.5
             },
             "pattern": {
              "fillmode": "overlay",
              "size": 10,
              "solidity": 0.2
             }
            },
            "type": "barpolar"
           }
          ],
          "carpet": [
           {
            "aaxis": {
             "endlinecolor": "#2a3f5f",
             "gridcolor": "white",
             "linecolor": "white",
             "minorgridcolor": "white",
             "startlinecolor": "#2a3f5f"
            },
            "baxis": {
             "endlinecolor": "#2a3f5f",
             "gridcolor": "white",
             "linecolor": "white",
             "minorgridcolor": "white",
             "startlinecolor": "#2a3f5f"
            },
            "type": "carpet"
           }
          ],
          "choropleth": [
           {
            "colorbar": {
             "outlinewidth": 0,
             "ticks": ""
            },
            "type": "choropleth"
           }
          ],
          "contour": [
           {
            "colorbar": {
             "outlinewidth": 0,
             "ticks": ""
            },
            "colorscale": [
             [
              0,
              "#0d0887"
             ],
             [
              0.1111111111111111,
              "#46039f"
             ],
             [
              0.2222222222222222,
              "#7201a8"
             ],
             [
              0.3333333333333333,
              "#9c179e"
             ],
             [
              0.4444444444444444,
              "#bd3786"
             ],
             [
              0.5555555555555556,
              "#d8576b"
             ],
             [
              0.6666666666666666,
              "#ed7953"
             ],
             [
              0.7777777777777778,
              "#fb9f3a"
             ],
             [
              0.8888888888888888,
              "#fdca26"
             ],
             [
              1,
              "#f0f921"
             ]
            ],
            "type": "contour"
           }
          ],
          "contourcarpet": [
           {
            "colorbar": {
             "outlinewidth": 0,
             "ticks": ""
            },
            "type": "contourcarpet"
           }
          ],
          "heatmap": [
           {
            "colorbar": {
             "outlinewidth": 0,
             "ticks": ""
            },
            "colorscale": [
             [
              0,
              "#0d0887"
             ],
             [
              0.1111111111111111,
              "#46039f"
             ],
             [
              0.2222222222222222,
              "#7201a8"
             ],
             [
              0.3333333333333333,
              "#9c179e"
             ],
             [
              0.4444444444444444,
              "#bd3786"
             ],
             [
              0.5555555555555556,
              "#d8576b"
             ],
             [
              0.6666666666666666,
              "#ed7953"
             ],
             [
              0.7777777777777778,
              "#fb9f3a"
             ],
             [
              0.8888888888888888,
              "#fdca26"
             ],
             [
              1,
              "#f0f921"
             ]
            ],
            "type": "heatmap"
           }
          ],
          "heatmapgl": [
           {
            "colorbar": {
             "outlinewidth": 0,
             "ticks": ""
            },
            "colorscale": [
             [
              0,
              "#0d0887"
             ],
             [
              0.1111111111111111,
              "#46039f"
             ],
             [
              0.2222222222222222,
              "#7201a8"
             ],
             [
              0.3333333333333333,
              "#9c179e"
             ],
             [
              0.4444444444444444,
              "#bd3786"
             ],
             [
              0.5555555555555556,
              "#d8576b"
             ],
             [
              0.6666666666666666,
              "#ed7953"
             ],
             [
              0.7777777777777778,
              "#fb9f3a"
             ],
             [
              0.8888888888888888,
              "#fdca26"
             ],
             [
              1,
              "#f0f921"
             ]
            ],
            "type": "heatmapgl"
           }
          ],
          "histogram": [
           {
            "marker": {
             "pattern": {
              "fillmode": "overlay",
              "size": 10,
              "solidity": 0.2
             }
            },
            "type": "histogram"
           }
          ],
          "histogram2d": [
           {
            "colorbar": {
             "outlinewidth": 0,
             "ticks": ""
            },
            "colorscale": [
             [
              0,
              "#0d0887"
             ],
             [
              0.1111111111111111,
              "#46039f"
             ],
             [
              0.2222222222222222,
              "#7201a8"
             ],
             [
              0.3333333333333333,
              "#9c179e"
             ],
             [
              0.4444444444444444,
              "#bd3786"
             ],
             [
              0.5555555555555556,
              "#d8576b"
             ],
             [
              0.6666666666666666,
              "#ed7953"
             ],
             [
              0.7777777777777778,
              "#fb9f3a"
             ],
             [
              0.8888888888888888,
              "#fdca26"
             ],
             [
              1,
              "#f0f921"
             ]
            ],
            "type": "histogram2d"
           }
          ],
          "histogram2dcontour": [
           {
            "colorbar": {
             "outlinewidth": 0,
             "ticks": ""
            },
            "colorscale": [
             [
              0,
              "#0d0887"
             ],
             [
              0.1111111111111111,
              "#46039f"
             ],
             [
              0.2222222222222222,
              "#7201a8"
             ],
             [
              0.3333333333333333,
              "#9c179e"
             ],
             [
              0.4444444444444444,
              "#bd3786"
             ],
             [
              0.5555555555555556,
              "#d8576b"
             ],
             [
              0.6666666666666666,
              "#ed7953"
             ],
             [
              0.7777777777777778,
              "#fb9f3a"
             ],
             [
              0.8888888888888888,
              "#fdca26"
             ],
             [
              1,
              "#f0f921"
             ]
            ],
            "type": "histogram2dcontour"
           }
          ],
          "mesh3d": [
           {
            "colorbar": {
             "outlinewidth": 0,
             "ticks": ""
            },
            "type": "mesh3d"
           }
          ],
          "parcoords": [
           {
            "line": {
             "colorbar": {
              "outlinewidth": 0,
              "ticks": ""
             }
            },
            "type": "parcoords"
           }
          ],
          "pie": [
           {
            "automargin": true,
            "type": "pie"
           }
          ],
          "scatter": [
           {
            "fillpattern": {
             "fillmode": "overlay",
             "size": 10,
             "solidity": 0.2
            },
            "type": "scatter"
           }
          ],
          "scatter3d": [
           {
            "line": {
             "colorbar": {
              "outlinewidth": 0,
              "ticks": ""
             }
            },
            "marker": {
             "colorbar": {
              "outlinewidth": 0,
              "ticks": ""
             }
            },
            "type": "scatter3d"
           }
          ],
          "scattercarpet": [
           {
            "marker": {
             "colorbar": {
              "outlinewidth": 0,
              "ticks": ""
             }
            },
            "type": "scattercarpet"
           }
          ],
          "scattergeo": [
           {
            "marker": {
             "colorbar": {
              "outlinewidth": 0,
              "ticks": ""
             }
            },
            "type": "scattergeo"
           }
          ],
          "scattergl": [
           {
            "marker": {
             "colorbar": {
              "outlinewidth": 0,
              "ticks": ""
             }
            },
            "type": "scattergl"
           }
          ],
          "scattermapbox": [
           {
            "marker": {
             "colorbar": {
              "outlinewidth": 0,
              "ticks": ""
             }
            },
            "type": "scattermapbox"
           }
          ],
          "scatterpolar": [
           {
            "marker": {
             "colorbar": {
              "outlinewidth": 0,
              "ticks": ""
             }
            },
            "type": "scatterpolar"
           }
          ],
          "scatterpolargl": [
           {
            "marker": {
             "colorbar": {
              "outlinewidth": 0,
              "ticks": ""
             }
            },
            "type": "scatterpolargl"
           }
          ],
          "scatterternary": [
           {
            "marker": {
             "colorbar": {
              "outlinewidth": 0,
              "ticks": ""
             }
            },
            "type": "scatterternary"
           }
          ],
          "surface": [
           {
            "colorbar": {
             "outlinewidth": 0,
             "ticks": ""
            },
            "colorscale": [
             [
              0,
              "#0d0887"
             ],
             [
              0.1111111111111111,
              "#46039f"
             ],
             [
              0.2222222222222222,
              "#7201a8"
             ],
             [
              0.3333333333333333,
              "#9c179e"
             ],
             [
              0.4444444444444444,
              "#bd3786"
             ],
             [
              0.5555555555555556,
              "#d8576b"
             ],
             [
              0.6666666666666666,
              "#ed7953"
             ],
             [
              0.7777777777777778,
              "#fb9f3a"
             ],
             [
              0.8888888888888888,
              "#fdca26"
             ],
             [
              1,
              "#f0f921"
             ]
            ],
            "type": "surface"
           }
          ],
          "table": [
           {
            "cells": {
             "fill": {
              "color": "#EBF0F8"
             },
             "line": {
              "color": "white"
             }
            },
            "header": {
             "fill": {
              "color": "#C8D4E3"
             },
             "line": {
              "color": "white"
             }
            },
            "type": "table"
           }
          ]
         },
         "layout": {
          "annotationdefaults": {
           "arrowcolor": "#2a3f5f",
           "arrowhead": 0,
           "arrowwidth": 1
          },
          "autotypenumbers": "strict",
          "coloraxis": {
           "colorbar": {
            "outlinewidth": 0,
            "ticks": ""
           }
          },
          "colorscale": {
           "diverging": [
            [
             0,
             "#8e0152"
            ],
            [
             0.1,
             "#c51b7d"
            ],
            [
             0.2,
             "#de77ae"
            ],
            [
             0.3,
             "#f1b6da"
            ],
            [
             0.4,
             "#fde0ef"
            ],
            [
             0.5,
             "#f7f7f7"
            ],
            [
             0.6,
             "#e6f5d0"
            ],
            [
             0.7,
             "#b8e186"
            ],
            [
             0.8,
             "#7fbc41"
            ],
            [
             0.9,
             "#4d9221"
            ],
            [
             1,
             "#276419"
            ]
           ],
           "sequential": [
            [
             0,
             "#0d0887"
            ],
            [
             0.1111111111111111,
             "#46039f"
            ],
            [
             0.2222222222222222,
             "#7201a8"
            ],
            [
             0.3333333333333333,
             "#9c179e"
            ],
            [
             0.4444444444444444,
             "#bd3786"
            ],
            [
             0.5555555555555556,
             "#d8576b"
            ],
            [
             0.6666666666666666,
             "#ed7953"
            ],
            [
             0.7777777777777778,
             "#fb9f3a"
            ],
            [
             0.8888888888888888,
             "#fdca26"
            ],
            [
             1,
             "#f0f921"
            ]
           ],
           "sequentialminus": [
            [
             0,
             "#0d0887"
            ],
            [
             0.1111111111111111,
             "#46039f"
            ],
            [
             0.2222222222222222,
             "#7201a8"
            ],
            [
             0.3333333333333333,
             "#9c179e"
            ],
            [
             0.4444444444444444,
             "#bd3786"
            ],
            [
             0.5555555555555556,
             "#d8576b"
            ],
            [
             0.6666666666666666,
             "#ed7953"
            ],
            [
             0.7777777777777778,
             "#fb9f3a"
            ],
            [
             0.8888888888888888,
             "#fdca26"
            ],
            [
             1,
             "#f0f921"
            ]
           ]
          },
          "colorway": [
           "#636efa",
           "#EF553B",
           "#00cc96",
           "#ab63fa",
           "#FFA15A",
           "#19d3f3",
           "#FF6692",
           "#B6E880",
           "#FF97FF",
           "#FECB52"
          ],
          "font": {
           "color": "#2a3f5f"
          },
          "geo": {
           "bgcolor": "white",
           "lakecolor": "white",
           "landcolor": "#E5ECF6",
           "showlakes": true,
           "showland": true,
           "subunitcolor": "white"
          },
          "hoverlabel": {
           "align": "left"
          },
          "hovermode": "closest",
          "mapbox": {
           "style": "light"
          },
          "paper_bgcolor": "white",
          "plot_bgcolor": "#E5ECF6",
          "polar": {
           "angularaxis": {
            "gridcolor": "white",
            "linecolor": "white",
            "ticks": ""
           },
           "bgcolor": "#E5ECF6",
           "radialaxis": {
            "gridcolor": "white",
            "linecolor": "white",
            "ticks": ""
           }
          },
          "scene": {
           "xaxis": {
            "backgroundcolor": "#E5ECF6",
            "gridcolor": "white",
            "gridwidth": 2,
            "linecolor": "white",
            "showbackground": true,
            "ticks": "",
            "zerolinecolor": "white"
           },
           "yaxis": {
            "backgroundcolor": "#E5ECF6",
            "gridcolor": "white",
            "gridwidth": 2,
            "linecolor": "white",
            "showbackground": true,
            "ticks": "",
            "zerolinecolor": "white"
           },
           "zaxis": {
            "backgroundcolor": "#E5ECF6",
            "gridcolor": "white",
            "gridwidth": 2,
            "linecolor": "white",
            "showbackground": true,
            "ticks": "",
            "zerolinecolor": "white"
           }
          },
          "shapedefaults": {
           "line": {
            "color": "#2a3f5f"
           }
          },
          "ternary": {
           "aaxis": {
            "gridcolor": "white",
            "linecolor": "white",
            "ticks": ""
           },
           "baxis": {
            "gridcolor": "white",
            "linecolor": "white",
            "ticks": ""
           },
           "bgcolor": "#E5ECF6",
           "caxis": {
            "gridcolor": "white",
            "linecolor": "white",
            "ticks": ""
           }
          },
          "title": {
           "x": 0.05
          },
          "xaxis": {
           "automargin": true,
           "gridcolor": "white",
           "linecolor": "white",
           "ticks": "",
           "title": {
            "standoff": 15
           },
           "zerolinecolor": "white",
           "zerolinewidth": 2
          },
          "yaxis": {
           "automargin": true,
           "gridcolor": "white",
           "linecolor": "white",
           "ticks": "",
           "title": {
            "standoff": 15
           },
           "zerolinecolor": "white",
           "zerolinewidth": 2
          }
         }
        },
        "width": 1000,
        "xaxis": {
         "anchor": "y",
         "domain": [
          0,
          0.45
         ],
         "rangeslider": {
          "visible": false
         }
        },
        "xaxis2": {
         "anchor": "y2",
         "domain": [
          0.55,
          1
         ],
         "rangeslider": {
          "visible": false
         }
        },
        "xaxis3": {
         "anchor": "y3",
         "domain": [
          0,
          0.45
         ],
         "rangeslider": {
          "visible": false
         }
        },
        "xaxis4": {
         "anchor": "y4",
         "domain": [
          0.55,
          1
         ],
         "rangeslider": {
          "visible": false
         }
        },
        "xaxis5": {
         "anchor": "y5",
         "domain": [
          0,
          0.45
         ],
         "rangeslider": {
          "visible": false
         }
        },
        "xaxis6": {
         "anchor": "y6",
         "domain": [
          0.55,
          1
         ]
        },
        "yaxis": {
         "anchor": "x",
         "domain": [
          0.7333333333333333,
          1
         ]
        },
        "yaxis2": {
         "anchor": "x2",
         "domain": [
          0.7333333333333333,
          1
         ]
        },
        "yaxis3": {
         "anchor": "x3",
         "domain": [
          0.36666666666666664,
          0.6333333333333333
         ]
        },
        "yaxis4": {
         "anchor": "x4",
         "domain": [
          0.36666666666666664,
          0.6333333333333333
         ]
        },
        "yaxis5": {
         "anchor": "x5",
         "domain": [
          0,
          0.26666666666666666
         ]
        },
        "yaxis6": {
         "anchor": "x6",
         "domain": [
          0,
          0.26666666666666666
         ]
        }
       }
      },
      "text/html": [
       "<div>                            <div id=\"9c7ce881-020a-4475-bdab-20905a24ff58\" class=\"plotly-graph-div\" style=\"height:1000px; width:1000px;\"></div>            <script type=\"text/javascript\">                require([\"plotly\"], function(Plotly) {                    window.PLOTLYENV=window.PLOTLYENV || {};                                    if (document.getElementById(\"9c7ce881-020a-4475-bdab-20905a24ff58\")) {                    Plotly.newPlot(                        \"9c7ce881-020a-4475-bdab-20905a24ff58\",                        [{\"close\":[1091.0,1048.32,1124.54,1127.51,1127.33,996.28,1084.42,1067.6,1237.23,1205.76,1208.7,1432.9,1530.3,1660.55,1787.13,1790.41,1812.24,1859.06,1804.98,1803.2],\"high\":[1107.82,1128.46,1193.0,1169.5,1158.04,1096.43,1115.88,1255.55,1246.3,1266.25,1453.12,1543.02,1680.33,1803.14,1831.35,1837.9,1874.03,1917.63,1828.88,1814.02],\"low\":[1044.25,1041.45,1108.76,1050.89,935.49,880.0,1050.0,1050.63,1013.0,1075.0,1164.35,1422.67,1500.0,1654.0,1776.0,1764.91,1725.21,1804.0,1773.67,1747.07],\"open\":[1048.7,1125.21,1127.11,1127.77,994.63,1085.83,1067.78,1235.99,1205.73,1204.6,1433.85,1532.19,1660.71,1785.89,1791.27,1812.87,1858.9,1804.0,1804.26,1774.1],\"x\":[\"2022-06-23T00:00:00Z\",\"2022-06-22T00:00:00Z\",\"2022-06-21T00:00:00Z\",\"2022-06-20T00:00:00Z\",\"2022-06-19T00:00:00Z\",\"2022-06-18T00:00:00Z\",\"2022-06-17T00:00:00Z\",\"2022-06-16T00:00:00Z\",\"2022-06-15T00:00:00Z\",\"2022-06-14T00:00:00Z\",\"2022-06-13T00:00:00Z\",\"2022-06-12T00:00:00Z\",\"2022-06-11T00:00:00Z\",\"2022-06-10T00:00:00Z\",\"2022-06-09T00:00:00Z\",\"2022-06-08T00:00:00Z\",\"2022-06-07T00:00:00Z\",\"2022-06-06T00:00:00Z\",\"2022-06-05T00:00:00Z\",\"2022-06-04T00:00:00Z\"],\"type\":\"candlestick\",\"xaxis\":\"x\",\"yaxis\":\"y\"},{\"close\":[151.13,151.65,154.6,150.96,152.64,147.77,145.94,139.79,152.34,150.17,160.9,174.23,175.65,177.86,183.85,182.33,179.82,184.45,187.75,186.73],\"high\":[152.26,155.36,157.76,154.84,155.86,150.0,151.91,153.07,154.44,162.68,175.33,177.3,178.09,184.12,186.27,183.28,187.0,188.22,189.45,187.38],\"low\":[145.91,149.79,150.68,149.35,140.96,143.6,131.74,138.62,146.43,137.71,155.53,173.24,172.5,174.15,179.96,179.04,177.11,182.71,185.08,182.01],\"open\":[151.34,154.36,151.02,153.35,147.61,145.97,140.08,151.93,149.5,160.9,174.42,175.81,177.65,183.53,182.32,179.83,184.81,188.22,186.89,184.15],\"x\":[\"2019-12-01T00:00:00Z\",\"2019-11-30T00:00:00Z\",\"2019-11-29T00:00:00Z\",\"2019-11-28T00:00:00Z\",\"2019-11-27T00:00:00Z\",\"2019-11-26T00:00:00Z\",\"2019-11-25T00:00:00Z\",\"2019-11-24T00:00:00Z\",\"2019-11-23T00:00:00Z\",\"2019-11-22T00:00:00Z\",\"2019-11-21T00:00:00Z\",\"2019-11-20T00:00:00Z\",\"2019-11-19T00:00:00Z\",\"2019-11-18T00:00:00Z\",\"2019-11-17T00:00:00Z\",\"2019-11-16T00:00:00Z\",\"2019-11-15T00:00:00Z\",\"2019-11-14T00:00:00Z\",\"2019-11-13T00:00:00Z\",\"2019-11-12T00:00:00Z\"],\"type\":\"candlestick\",\"xaxis\":\"x2\",\"yaxis\":\"y2\"},{\"close\":[271.37,269.329,274.028,284.049,290.619,275.672,291.418,305.423,332.437,290.466,273.647,302.582,323.866,342.4,336.381,335.253,358.398,370.354,371.701,377.0],\"high\":[278.476,274.196,287.388,290.921,294.36,294.916,314.989,332.437,333.104,290.466,309.968,332.366,343.621,347.788,341.585,361.343,377.969,376.958,390.581,377.646],\"low\":[265.852,261.92,273.462,281.895,263.203,269.783,289.568,301.753,277.436,235.213,245.005,286.669,323.829,335.276,331.16,321.349,351.09,370.08,370.721,365.01],\"open\":[269.329,274.028,284.049,290.619,275.672,291.418,305.423,332.437,290.466,273.647,302.582,323.866,342.4,336.381,335.253,358.398,370.354,371.701,377.0,368.994],\"x\":[\"2017-07-06T00:00:00Z\",\"2017-07-05T00:00:00Z\",\"2017-07-04T00:00:00Z\",\"2017-07-03T00:00:00Z\",\"2017-07-02T00:00:00Z\",\"2017-07-01T00:00:00Z\",\"2017-06-30T00:00:00Z\",\"2017-06-29T00:00:00Z\",\"2017-06-28T00:00:00Z\",\"2017-06-27T00:00:00Z\",\"2017-06-26T00:00:00Z\",\"2017-06-25T00:00:00Z\",\"2017-06-24T00:00:00Z\",\"2017-06-23T00:00:00Z\",\"2017-06-22T00:00:00Z\",\"2017-06-21T00:00:00Z\",\"2017-06-20T00:00:00Z\",\"2017-06-19T00:00:00Z\",\"2017-06-18T00:00:00Z\",\"2017-06-17T00:00:00Z\"],\"type\":\"candlestick\",\"xaxis\":\"x3\",\"yaxis\":\"y3\"},{\"close\":[591.0,578.96,576.85,556.82,566.99,512.23,571.39,585.65,584.99,601.76,576.84,640.86,696.43,716.0,695.88,692.54,669.04,706.88,707.38,727.62],\"high\":[599.5,589.0,586.0,585.32,573.34,576.45,592.88,607.7,616.18,609.0,649.89,699.57,720.0,723.16,716.93,694.96,718.9,712.0,739.37,743.0],\"low\":[573.32,563.38,553.2,541.3,510.05,506.3,556.92,578.84,569.19,549.28,564.94,637.93,687.8,687.89,683.0,656.36,660.65,674.57,695.74,686.63],\"open\":[578.99,576.48,556.44,566.78,512.23,569.69,585.52,584.99,601.92,578.4,640.56,698.09,716.0,694.99,693.99,668.7,706.56,704.76,727.0,730.36],\"x\":[\"2018-06-02T00:00:00Z\",\"2018-06-01T00:00:00Z\",\"2018-05-31T00:00:00Z\",\"2018-05-30T00:00:00Z\",\"2018-05-29T00:00:00Z\",\"2018-05-28T00:00:00Z\",\"2018-05-27T00:00:00Z\",\"2018-05-26T00:00:00Z\",\"2018-05-25T00:00:00Z\",\"2018-05-24T00:00:00Z\",\"2018-05-23T00:00:00Z\",\"2018-05-22T00:00:00Z\",\"2018-05-21T00:00:00Z\",\"2018-05-20T00:00:00Z\",\"2018-05-19T00:00:00Z\",\"2018-05-18T00:00:00Z\",\"2018-05-17T00:00:00Z\",\"2018-05-16T00:00:00Z\",\"2018-05-15T00:00:00Z\",\"2018-05-14T00:00:00Z\"],\"type\":\"candlestick\",\"xaxis\":\"x4\",\"yaxis\":\"y4\"},{\"close\":[11.9986,11.9684,11.9549,11.9403,12.1084,11.7585,11.7708,11.7504,12.0615,12.1981,12.6567,12.8823,13.0814,13.3019,13.4673,13.2096,13.1861,13.2507,13.1298,13.2849],\"high\":[12.0318,12.0067,11.9962,12.1084,12.1277,12.0628,12.1519,12.0615,12.3531,12.6853,12.9727,13.1411,13.3467,13.5169,13.4852,13.2959,13.3091,13.3336,13.315,13.4564],\"low\":[11.8695,11.9358,11.7913,11.9057,11.7585,11.7273,11.7504,11.6655,12.0026,12.0526,12.5459,12.7468,13.0653,13.2327,13.1896,13.1549,13.0807,13.0449,13.09,13.0891],\"open\":[11.9684,11.9549,11.9403,12.1084,11.7585,11.7708,11.7504,12.0615,12.1981,12.6567,12.8823,13.0814,13.3019,13.4673,13.2096,13.1861,13.2507,13.1298,13.2849,13.1038],\"x\":[\"2016-10-17T00:00:00Z\",\"2016-10-16T00:00:00Z\",\"2016-10-15T00:00:00Z\",\"2016-10-14T00:00:00Z\",\"2016-10-13T00:00:00Z\",\"2016-10-12T00:00:00Z\",\"2016-10-11T00:00:00Z\",\"2016-10-10T00:00:00Z\",\"2016-10-09T00:00:00Z\",\"2016-10-08T00:00:00Z\",\"2016-10-07T00:00:00Z\",\"2016-10-06T00:00:00Z\",\"2016-10-05T00:00:00Z\",\"2016-10-04T00:00:00Z\",\"2016-10-03T00:00:00Z\",\"2016-10-02T00:00:00Z\",\"2016-10-01T00:00:00Z\",\"2016-09-30T00:00:00Z\",\"2016-09-29T00:00:00Z\",\"2016-09-28T00:00:00Z\"],\"type\":\"candlestick\",\"xaxis\":\"x5\",\"yaxis\":\"y5\"}],                        {\"template\":{\"data\":{\"histogram2dcontour\":[{\"type\":\"histogram2dcontour\",\"colorbar\":{\"outlinewidth\":0,\"ticks\":\"\"},\"colorscale\":[[0.0,\"#0d0887\"],[0.1111111111111111,\"#46039f\"],[0.2222222222222222,\"#7201a8\"],[0.3333333333333333,\"#9c179e\"],[0.4444444444444444,\"#bd3786\"],[0.5555555555555556,\"#d8576b\"],[0.6666666666666666,\"#ed7953\"],[0.7777777777777778,\"#fb9f3a\"],[0.8888888888888888,\"#fdca26\"],[1.0,\"#f0f921\"]]}],\"choropleth\":[{\"type\":\"choropleth\",\"colorbar\":{\"outlinewidth\":0,\"ticks\":\"\"}}],\"histogram2d\":[{\"type\":\"histogram2d\",\"colorbar\":{\"outlinewidth\":0,\"ticks\":\"\"},\"colorscale\":[[0.0,\"#0d0887\"],[0.1111111111111111,\"#46039f\"],[0.2222222222222222,\"#7201a8\"],[0.3333333333333333,\"#9c179e\"],[0.4444444444444444,\"#bd3786\"],[0.5555555555555556,\"#d8576b\"],[0.6666666666666666,\"#ed7953\"],[0.7777777777777778,\"#fb9f3a\"],[0.8888888888888888,\"#fdca26\"],[1.0,\"#f0f921\"]]}],\"heatmap\":[{\"type\":\"heatmap\",\"colorbar\":{\"outlinewidth\":0,\"ticks\":\"\"},\"colorscale\":[[0.0,\"#0d0887\"],[0.1111111111111111,\"#46039f\"],[0.2222222222222222,\"#7201a8\"],[0.3333333333333333,\"#9c179e\"],[0.4444444444444444,\"#bd3786\"],[0.5555555555555556,\"#d8576b\"],[0.6666666666666666,\"#ed7953\"],[0.7777777777777778,\"#fb9f3a\"],[0.8888888888888888,\"#fdca26\"],[1.0,\"#f0f921\"]]}],\"heatmapgl\":[{\"type\":\"heatmapgl\",\"colorbar\":{\"outlinewidth\":0,\"ticks\":\"\"},\"colorscale\":[[0.0,\"#0d0887\"],[0.1111111111111111,\"#46039f\"],[0.2222222222222222,\"#7201a8\"],[0.3333333333333333,\"#9c179e\"],[0.4444444444444444,\"#bd3786\"],[0.5555555555555556,\"#d8576b\"],[0.6666666666666666,\"#ed7953\"],[0.7777777777777778,\"#fb9f3a\"],[0.8888888888888888,\"#fdca26\"],[1.0,\"#f0f921\"]]}],\"contourcarpet\":[{\"type\":\"contourcarpet\",\"colorbar\":{\"outlinewidth\":0,\"ticks\":\"\"}}],\"contour\":[{\"type\":\"contour\",\"colorbar\":{\"outlinewidth\":0,\"ticks\":\"\"},\"colorscale\":[[0.0,\"#0d0887\"],[0.1111111111111111,\"#46039f\"],[0.2222222222222222,\"#7201a8\"],[0.3333333333333333,\"#9c179e\"],[0.4444444444444444,\"#bd3786\"],[0.5555555555555556,\"#d8576b\"],[0.6666666666666666,\"#ed7953\"],[0.7777777777777778,\"#fb9f3a\"],[0.8888888888888888,\"#fdca26\"],[1.0,\"#f0f921\"]]}],\"surface\":[{\"type\":\"surface\",\"colorbar\":{\"outlinewidth\":0,\"ticks\":\"\"},\"colorscale\":[[0.0,\"#0d0887\"],[0.1111111111111111,\"#46039f\"],[0.2222222222222222,\"#7201a8\"],[0.3333333333333333,\"#9c179e\"],[0.4444444444444444,\"#bd3786\"],[0.5555555555555556,\"#d8576b\"],[0.6666666666666666,\"#ed7953\"],[0.7777777777777778,\"#fb9f3a\"],[0.8888888888888888,\"#fdca26\"],[1.0,\"#f0f921\"]]}],\"mesh3d\":[{\"type\":\"mesh3d\",\"colorbar\":{\"outlinewidth\":0,\"ticks\":\"\"}}],\"scatter\":[{\"fillpattern\":{\"fillmode\":\"overlay\",\"size\":10,\"solidity\":0.2},\"type\":\"scatter\"}],\"parcoords\":[{\"type\":\"parcoords\",\"line\":{\"colorbar\":{\"outlinewidth\":0,\"ticks\":\"\"}}}],\"scatterpolargl\":[{\"type\":\"scatterpolargl\",\"marker\":{\"colorbar\":{\"outlinewidth\":0,\"ticks\":\"\"}}}],\"bar\":[{\"error_x\":{\"color\":\"#2a3f5f\"},\"error_y\":{\"color\":\"#2a3f5f\"},\"marker\":{\"line\":{\"color\":\"#E5ECF6\",\"width\":0.5},\"pattern\":{\"fillmode\":\"overlay\",\"size\":10,\"solidity\":0.2}},\"type\":\"bar\"}],\"scattergeo\":[{\"type\":\"scattergeo\",\"marker\":{\"colorbar\":{\"outlinewidth\":0,\"ticks\":\"\"}}}],\"scatterpolar\":[{\"type\":\"scatterpolar\",\"marker\":{\"colorbar\":{\"outlinewidth\":0,\"ticks\":\"\"}}}],\"histogram\":[{\"marker\":{\"pattern\":{\"fillmode\":\"overlay\",\"size\":10,\"solidity\":0.2}},\"type\":\"histogram\"}],\"scattergl\":[{\"type\":\"scattergl\",\"marker\":{\"colorbar\":{\"outlinewidth\":0,\"ticks\":\"\"}}}],\"scatter3d\":[{\"type\":\"scatter3d\",\"line\":{\"colorbar\":{\"outlinewidth\":0,\"ticks\":\"\"}},\"marker\":{\"colorbar\":{\"outlinewidth\":0,\"ticks\":\"\"}}}],\"scattermapbox\":[{\"type\":\"scattermapbox\",\"marker\":{\"colorbar\":{\"outlinewidth\":0,\"ticks\":\"\"}}}],\"scatterternary\":[{\"type\":\"scatterternary\",\"marker\":{\"colorbar\":{\"outlinewidth\":0,\"ticks\":\"\"}}}],\"scattercarpet\":[{\"type\":\"scattercarpet\",\"marker\":{\"colorbar\":{\"outlinewidth\":0,\"ticks\":\"\"}}}],\"carpet\":[{\"aaxis\":{\"endlinecolor\":\"#2a3f5f\",\"gridcolor\":\"white\",\"linecolor\":\"white\",\"minorgridcolor\":\"white\",\"startlinecolor\":\"#2a3f5f\"},\"baxis\":{\"endlinecolor\":\"#2a3f5f\",\"gridcolor\":\"white\",\"linecolor\":\"white\",\"minorgridcolor\":\"white\",\"startlinecolor\":\"#2a3f5f\"},\"type\":\"carpet\"}],\"table\":[{\"cells\":{\"fill\":{\"color\":\"#EBF0F8\"},\"line\":{\"color\":\"white\"}},\"header\":{\"fill\":{\"color\":\"#C8D4E3\"},\"line\":{\"color\":\"white\"}},\"type\":\"table\"}],\"barpolar\":[{\"marker\":{\"line\":{\"color\":\"#E5ECF6\",\"width\":0.5},\"pattern\":{\"fillmode\":\"overlay\",\"size\":10,\"solidity\":0.2}},\"type\":\"barpolar\"}],\"pie\":[{\"automargin\":true,\"type\":\"pie\"}]},\"layout\":{\"autotypenumbers\":\"strict\",\"colorway\":[\"#636efa\",\"#EF553B\",\"#00cc96\",\"#ab63fa\",\"#FFA15A\",\"#19d3f3\",\"#FF6692\",\"#B6E880\",\"#FF97FF\",\"#FECB52\"],\"font\":{\"color\":\"#2a3f5f\"},\"hovermode\":\"closest\",\"hoverlabel\":{\"align\":\"left\"},\"paper_bgcolor\":\"white\",\"plot_bgcolor\":\"#E5ECF6\",\"polar\":{\"bgcolor\":\"#E5ECF6\",\"angularaxis\":{\"gridcolor\":\"white\",\"linecolor\":\"white\",\"ticks\":\"\"},\"radialaxis\":{\"gridcolor\":\"white\",\"linecolor\":\"white\",\"ticks\":\"\"}},\"ternary\":{\"bgcolor\":\"#E5ECF6\",\"aaxis\":{\"gridcolor\":\"white\",\"linecolor\":\"white\",\"ticks\":\"\"},\"baxis\":{\"gridcolor\":\"white\",\"linecolor\":\"white\",\"ticks\":\"\"},\"caxis\":{\"gridcolor\":\"white\",\"linecolor\":\"white\",\"ticks\":\"\"}},\"coloraxis\":{\"colorbar\":{\"outlinewidth\":0,\"ticks\":\"\"}},\"colorscale\":{\"sequential\":[[0.0,\"#0d0887\"],[0.1111111111111111,\"#46039f\"],[0.2222222222222222,\"#7201a8\"],[0.3333333333333333,\"#9c179e\"],[0.4444444444444444,\"#bd3786\"],[0.5555555555555556,\"#d8576b\"],[0.6666666666666666,\"#ed7953\"],[0.7777777777777778,\"#fb9f3a\"],[0.8888888888888888,\"#fdca26\"],[1.0,\"#f0f921\"]],\"sequentialminus\":[[0.0,\"#0d0887\"],[0.1111111111111111,\"#46039f\"],[0.2222222222222222,\"#7201a8\"],[0.3333333333333333,\"#9c179e\"],[0.4444444444444444,\"#bd3786\"],[0.5555555555555556,\"#d8576b\"],[0.6666666666666666,\"#ed7953\"],[0.7777777777777778,\"#fb9f3a\"],[0.8888888888888888,\"#fdca26\"],[1.0,\"#f0f921\"]],\"diverging\":[[0,\"#8e0152\"],[0.1,\"#c51b7d\"],[0.2,\"#de77ae\"],[0.3,\"#f1b6da\"],[0.4,\"#fde0ef\"],[0.5,\"#f7f7f7\"],[0.6,\"#e6f5d0\"],[0.7,\"#b8e186\"],[0.8,\"#7fbc41\"],[0.9,\"#4d9221\"],[1,\"#276419\"]]},\"xaxis\":{\"gridcolor\":\"white\",\"linecolor\":\"white\",\"ticks\":\"\",\"title\":{\"standoff\":15},\"zerolinecolor\":\"white\",\"automargin\":true,\"zerolinewidth\":2},\"yaxis\":{\"gridcolor\":\"white\",\"linecolor\":\"white\",\"ticks\":\"\",\"title\":{\"standoff\":15},\"zerolinecolor\":\"white\",\"automargin\":true,\"zerolinewidth\":2},\"scene\":{\"xaxis\":{\"backgroundcolor\":\"#E5ECF6\",\"gridcolor\":\"white\",\"linecolor\":\"white\",\"showbackground\":true,\"ticks\":\"\",\"zerolinecolor\":\"white\",\"gridwidth\":2},\"yaxis\":{\"backgroundcolor\":\"#E5ECF6\",\"gridcolor\":\"white\",\"linecolor\":\"white\",\"showbackground\":true,\"ticks\":\"\",\"zerolinecolor\":\"white\",\"gridwidth\":2},\"zaxis\":{\"backgroundcolor\":\"#E5ECF6\",\"gridcolor\":\"white\",\"linecolor\":\"white\",\"showbackground\":true,\"ticks\":\"\",\"zerolinecolor\":\"white\",\"gridwidth\":2}},\"shapedefaults\":{\"line\":{\"color\":\"#2a3f5f\"}},\"annotationdefaults\":{\"arrowcolor\":\"#2a3f5f\",\"arrowhead\":0,\"arrowwidth\":1},\"geo\":{\"bgcolor\":\"white\",\"landcolor\":\"#E5ECF6\",\"subunitcolor\":\"white\",\"showland\":true,\"showlakes\":true,\"lakecolor\":\"white\"},\"title\":{\"x\":0.05},\"mapbox\":{\"style\":\"light\"}}},\"xaxis\":{\"anchor\":\"y\",\"domain\":[0.0,0.45],\"rangeslider\":{\"visible\":false}},\"yaxis\":{\"anchor\":\"x\",\"domain\":[0.7333333333333333,1.0]},\"xaxis2\":{\"anchor\":\"y2\",\"domain\":[0.55,1.0],\"rangeslider\":{\"visible\":false}},\"yaxis2\":{\"anchor\":\"x2\",\"domain\":[0.7333333333333333,1.0]},\"xaxis3\":{\"anchor\":\"y3\",\"domain\":[0.0,0.45],\"rangeslider\":{\"visible\":false}},\"yaxis3\":{\"anchor\":\"x3\",\"domain\":[0.36666666666666664,0.6333333333333333]},\"xaxis4\":{\"anchor\":\"y4\",\"domain\":[0.55,1.0],\"rangeslider\":{\"visible\":false}},\"yaxis4\":{\"anchor\":\"x4\",\"domain\":[0.36666666666666664,0.6333333333333333]},\"xaxis5\":{\"anchor\":\"y5\",\"domain\":[0.0,0.45],\"rangeslider\":{\"visible\":false}},\"yaxis5\":{\"anchor\":\"x5\",\"domain\":[0.0,0.26666666666666666]},\"xaxis6\":{\"anchor\":\"y6\",\"domain\":[0.55,1.0]},\"yaxis6\":{\"anchor\":\"x6\",\"domain\":[0.0,0.26666666666666666]},\"height\":1000,\"width\":1000},                        {\"responsive\": true}                    ).then(function(){\n",
       "                            \n",
       "var gd = document.getElementById('9c7ce881-020a-4475-bdab-20905a24ff58');\n",
       "var x = new MutationObserver(function (mutations, observer) {{\n",
       "        var display = window.getComputedStyle(gd).display;\n",
       "        if (!display || display === 'none') {{\n",
       "            console.log([gd, 'removed!']);\n",
       "            Plotly.purge(gd);\n",
       "            observer.disconnect();\n",
       "        }}\n",
       "}});\n",
       "\n",
       "// Listen for the removal of the full notebook cells\n",
       "var notebookContainer = gd.closest('#notebook-container');\n",
       "if (notebookContainer) {{\n",
       "    x.observe(notebookContainer, {childList: true});\n",
       "}}\n",
       "\n",
       "// Listen for the clearing of the current output cell\n",
       "var outputEl = gd.closest('.output');\n",
       "if (outputEl) {{\n",
       "    x.observe(outputEl, {childList: true});\n",
       "}}\n",
       "\n",
       "                        })                };                });            </script>        </div>"
      ]
     },
     "metadata": {},
     "output_type": "display_data"
    }
   ],
   "source": [
    "visualize_patterns(0, t.get_nns_by_vector(to_search, 5))"
   ]
  },
  {
   "cell_type": "code",
   "execution_count": null,
   "id": "9947d929",
   "metadata": {},
   "outputs": [],
   "source": []
  },
  {
   "cell_type": "code",
   "execution_count": null,
   "id": "07c6dfa7",
   "metadata": {},
   "outputs": [],
   "source": []
  }
 ],
 "metadata": {
  "kernelspec": {
   "display_name": "Python 3 (ipykernel)",
   "language": "python",
   "name": "python3"
  },
  "language_info": {
   "codemirror_mode": {
    "name": "ipython",
    "version": 3
   },
   "file_extension": ".py",
   "mimetype": "text/x-python",
   "name": "python",
   "nbconvert_exporter": "python",
   "pygments_lexer": "ipython3",
   "version": "3.9.12"
  }
 },
 "nbformat": 4,
 "nbformat_minor": 5
}
