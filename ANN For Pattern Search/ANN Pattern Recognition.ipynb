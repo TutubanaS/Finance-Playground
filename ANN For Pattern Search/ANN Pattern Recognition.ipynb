{
 "cells": [
  {
   "cell_type": "markdown",
   "id": "d07f2b78",
   "metadata": {},
   "source": [
    "## Approximate Nearest Neighbours for Stock Market Pattern Search/Recognition\n",
    "The purpose of this notebook is to identify candlestick patterns in the stock market that are similar to a given input pattern using approximate nearest neighbor algorithms. There are helper functions defined and all of them are used in the last cell.\n"
   ]
  },
  {
   "cell_type": "markdown",
   "id": "3d6cb924",
   "metadata": {},
   "source": [
    "### Import Libraries\n",
    "* Pandas: For Dataframes and Data Management\n",
    "* Annoy: For Vector Similarity Search\n",
    "* Yahoo Finances: For Data Retrivial\n",
    "* Plotly: For Visualizations"
   ]
  },
  {
   "cell_type": "code",
   "execution_count": 7,
   "id": "4c7ecb43",
   "metadata": {},
   "outputs": [],
   "source": [
    "#!pip install yfinance"
   ]
  },
  {
   "cell_type": "code",
   "execution_count": 8,
   "id": "04c8c153",
   "metadata": {},
   "outputs": [],
   "source": [
    "import pandas as pd\n",
    "\n",
    "from annoy import AnnoyIndex\n",
    "\n",
    "#import investpy\n",
    "import yfinance as yf\n",
    "\n",
    "import plotly.graph_objects as go\n",
    "import plotly.express as py\n",
    "from plotly.subplots import make_subplots"
   ]
  },
  {
   "cell_type": "markdown",
   "id": "34e34c2e",
   "metadata": {},
   "source": [
    "#### Data Retrivial with Yahoo Finance\n",
    "The get_data function retrieves stock market data for a given ticker (i.e. a specific stock or index) and time interval. \n",
    "\n",
    "After the retrivial, the function processes the data by sorting it from newest to oldest, removing the \"Volume\" and \"Adj Close\" columns, resetting the index, and renaming the columns to \"time\", \"open\", \"high\", \"low\", and \"close\". \n",
    "\n",
    "It also calculates the daily change in the stock price by dividing the difference between the closing and opening prices by the opening price, multiplying by 10000, and expressing the result as a percentage.\n",
    "\n",
    "The function returns two dataframes: one containing the raw data and one containing the time and change data."
   ]
  },
  {
   "cell_type": "code",
   "execution_count": 9,
   "id": "3a1ce266",
   "metadata": {},
   "outputs": [],
   "source": [
    "def get_data(ticker: str, interval: str):\n",
    "    \"\"\"\n",
    "    ticker = \n",
    "    interval = \n",
    "    \"\"\"\n",
    "\n",
    "    df = yf.download(  # or pdr.get_data_yahoo(...\n",
    "        # tickers list or string as well\n",
    "        tickers = ticker,\n",
    "\n",
    "        # use \"period\" instead of start/end\n",
    "        # valid periods: 1d,5d,1mo,3mo,6mo,1y,2y,5y,10y,ytd,max\n",
    "        # (optional, default is '1mo')\n",
    "        period = \"10y\",\n",
    "\n",
    "        # fetch data by interval (including intraday if period < 60 days)\n",
    "        # valid intervals: 1m,2m,5m,15m,30m,60m,90m,1h,1d,5d,1wk,1mo,3mo\n",
    "        # (optional, default is '1d')\n",
    "        interval = interval,\n",
    "\n",
    "        # Whether to ignore timezone when aligning ticker data from \n",
    "        # different timezones. Default is True. False may be useful for \n",
    "        # minute/hourly data.\n",
    "        ignore_tz = False,\n",
    "\n",
    "        # group by ticker (to access via data['SPY'])\n",
    "        # (optional, default is 'column')\n",
    "        group_by = 'column',\n",
    "\n",
    "        # adjust all OHLC automatically\n",
    "        # (optional, default is False)\n",
    "        auto_adjust = False,\n",
    "\n",
    "        # identify and attempt repair of currency unit mixups e.g. $/cents\n",
    "        repair = False,\n",
    "\n",
    "        # download pre/post regular market hours data\n",
    "        # (optional, default is False)\n",
    "        prepost = False,\n",
    "\n",
    "        # use threads for mass downloading? (True/False/Integer)\n",
    "        # (optional, default is True)\n",
    "        threads = True,\n",
    "\n",
    "        # proxy URL scheme use use when downloading?\n",
    "        # (optional, default is None)\n",
    "        proxy = None\n",
    "    )\n",
    "\n",
    "    # Sort it from newest bar to oldest bar\n",
    "    df = df.iloc[::-1]\n",
    "    df = df.drop([\"Volume\", \"Adj Close\"], axis = 1)\n",
    "    df = df.reset_index()\n",
    "    df.columns = [\"time\", \"open\", \"high\", \"low\", \"close\"]\n",
    "\n",
    "    # Calculate the daily change\n",
    "    df[\"change\"] = ( (df.close - df.open) / (df.open * 100) ) * 10000\n",
    "\n",
    "\n",
    "    # finalize the change dataframe\n",
    "    change_df = df[[\"time\", \"change\"]].reset_index().drop([\"index\"], axis=1).copy()\n",
    "    \n",
    "    return df, change_df"
   ]
  },
  {
   "cell_type": "markdown",
   "id": "b69e5fe4",
   "metadata": {},
   "source": [
    "#### Making the data ready for ANN algorithms\n",
    "\n",
    "The __alter_df__ function modifies a dataframe containing stock market data and generates a list of embeddings based on that data."
   ]
  },
  {
   "cell_type": "code",
   "execution_count": 10,
   "id": "23adc101",
   "metadata": {},
   "outputs": [],
   "source": [
    "# Add previous bars to the most recent bar in the list for the window of window size\n",
    "def alter_df(change_df, window_size):\n",
    "    change_list = change_df[\"change\"].tolist()\n",
    "    \n",
    "    # Move elements in the list by 1\n",
    "    for i in range(window_size-1):\n",
    "        change_list.pop(0)\n",
    "        change_list.append(0)\n",
    "        \n",
    "        # Assign a column name\n",
    "        change_df[\"Candle(\" + str(i+1) +\")\"] = change_list\n",
    "    \n",
    "    # Create a list of embeddings\n",
    "    embeddings = change_df.drop(\"time\", axis=1).values.tolist()\n",
    "    \n",
    "    # Get rid of the Null Values\n",
    "    for i in range(window_size-1):\n",
    "        embeddings.pop()\n",
    "        \n",
    "    return embeddings, change_df"
   ]
  },
  {
   "cell_type": "markdown",
   "id": "386e74a2",
   "metadata": {},
   "source": [
    "#### Retrieving/Reconstructing the Patterns\n",
    "\n",
    "The __get_pattern_df__ function generates a dataframe containing a specified number of candlestick patterns from a larger dataset. \n",
    "\n",
    "The function takes three arguments: \n",
    "* check_for, an integer representing the index of the candlestick pattern to check for\n",
    "* window_size, an integer specifying the number of previous or future bars to include in the dataframe\n",
    "* future, a boolean value indicating whether to include future bars in the dataframe.\n",
    "\n",
    "If future is set to __True__, the function will retrieve __window_size__ bars from the past and __window_size__ bars from the future, if available in the dataset. If future is False or not specified, the function will retrieve only window_size bars from the past. To check the quality of the results, keep it false. Otherwise it will be difficult to say if they are close enough or not.\n",
    "\n",
    "The function generates a list of candlestick patterns by iterating over a range of values and appending the appropriate rows from the input dataset to the list. The list is then converted to a dataframe and returned by the function."
   ]
  },
  {
   "cell_type": "code",
   "execution_count": 11,
   "id": "c3b41f3e",
   "metadata": {},
   "outputs": [],
   "source": [
    "def get_pattern_df(check_for: int, window_size: int, future: bool = False):\n",
    "    \n",
    "    \"\"\"\n",
    "    check_for: int -> Check for the candle stick at index = check_for from the data frame df\n",
    "    window_size: int -> Look into past 'window_size' bars. If 20, return 20 previous bars.\n",
    "    future: bool -> Look into future 'window_size' bars if checked. It will return additional bars if available in the dataset.\n",
    "    \n",
    "    Return the dataframe of candlesticks which belongs to the inputted pattern.\n",
    "    \"\"\"\n",
    "    \n",
    "    # Returned indexes from Annoy\n",
    "    candles_list = []\n",
    "    \n",
    "    # If the user wants to see future bars as well, future must be True\n",
    "    if future:\n",
    "        # Return future window_size bars\n",
    "        for i in range(window_size*2, 0, -1):\n",
    "            candles_list.append(df.iloc[check_for])\n",
    "            check_for -= 1\n",
    "            \n",
    "        check_for += window_size*2\n",
    "            \n",
    "    # Return past window_size bars\n",
    "    for i in range(window_size):\n",
    "        candles_list.append(df.iloc[check_for])\n",
    "        check_for += 1\n",
    "    \n",
    "    \n",
    "    return pd.DataFrame(candles_list)"
   ]
  },
  {
   "cell_type": "markdown",
   "id": "2baa35ab",
   "metadata": {},
   "source": [
    "### Execute ANN and Visualize the Data\n",
    "\n",
    "The __visualize_patterns__ function uses the __plotly__ library to generate a graph of candlestick patterns from a given dataset. \n",
    "\n",
    "The function takes four arguments:\n",
    "* main, an integer representing the index of the candlestick pattern to use as the main graph;\n",
    "* window_size, explained above;\n",
    "* closest_n, an integer specifying the number of patterns to include in the graph;\n",
    "* future, explained above. \n",
    "\n",
    "### ANN: ANNOY by Spotify\n",
    "The function first uses the AnnoyIndex method from the __annoy__ library to create an index of the candlestick patterns in the dataset, using the __manhattan__ distance metric. It then calls the __get_nns_by_vector__ method on the index to retrieve the indices of the closest_n patterns that are most similar to the main pattern. The function removes the main pattern from the list of indices if it is present. \n",
    "\n",
    "It then generates a main graph of the main pattern using the __get_pattern_df__ function and __go.Candlestick__ from plotly. It also generates subgraphs of the closest patterns using the same methods. Finally, it uses the make_subplots and update_layout functions from plotly to arrange the main and subgraphs in a grid and adjust the layout of the overall graph. The function displays the graph using the show method."
   ]
  },
  {
   "cell_type": "code",
   "execution_count": 17,
   "id": "3a793fea",
   "metadata": {},
   "outputs": [],
   "source": [
    "def visualize_patterns(main: int,\n",
    "                       window_size: int,\n",
    "                       closest_n: int,\n",
    "                       future: bool = False) -> None:\n",
    "    \"\"\"\n",
    "    main: The index of the candle stick where it is the newest bar of the input pattern \n",
    "    window_size: Length of the input pattern.\n",
    "    closest_n: return closest n patterns\n",
    "    future: Set it to true to see future patterns if available\n",
    "    \n",
    "    With plotly, visualize the price graph through candlesticks.\n",
    "    'Main' is the first subgraph, and the closest ones to the main graph are other subgraphs.\n",
    "    \"\"\"\n",
    "    \n",
    "    vector_size = len(embeddings[0])\n",
    "\n",
    "    t = AnnoyIndex(vector_size, 'manhattan')\n",
    "    for i in range(len(embeddings)):\n",
    "        t.add_item(i, embeddings[i])\n",
    "\n",
    "    t.build(1000)\n",
    "    \n",
    "    nearest_neighs = t.get_nns_by_vector(embeddings[main], closest_n)\n",
    "\n",
    "    # Remove the duplicates of main bar\n",
    "    if main in nearest_neighs:\n",
    "        nearest_neighs.remove(main)\n",
    "        \n",
    "    # Get the pattern of the inputted chart\n",
    "    df_pattern_main = get_pattern_df(main, window_size)\n",
    "    \n",
    "    # Create the subgraph spots for down below\n",
    "    fig = make_subplots(len(nearest_neighs)//2 + 1, cols=2)\n",
    "\n",
    "    # Print the main graph\n",
    "    row_i, col_i = 1, 1\n",
    "    fig.add_trace( go.Candlestick(\n",
    "                    x=df_pattern_main['time'],\n",
    "                    open=df_pattern_main['open'],\n",
    "                    high=df_pattern_main['high'],\n",
    "                    low=df_pattern_main['low'],\n",
    "                    close=df_pattern_main['close']),\n",
    "                    row=1, col=1\n",
    "                  )\n",
    "    \n",
    "    fig.update_xaxes(rangeslider= {'visible':False}, row=1, col=1)\n",
    "    \n",
    "    \n",
    "    \n",
    "    col_i += 1\n",
    "    # Print the closest charts in the form of subgraphs\n",
    "    for i in nearest_neighs:\n",
    "        df_pattern_next = get_pattern_df(i, window_size, future)\n",
    "        fig.add_trace( \n",
    "            go.Candlestick(\n",
    "                x=df_pattern_next['time'],\n",
    "                open=df_pattern_next['open'],\n",
    "                high=df_pattern_next['high'],\n",
    "                low=df_pattern_next['low'],\n",
    "                close=df_pattern_next['close']\n",
    "            ),\n",
    "            row=row_i, col=col_i\n",
    "        )\n",
    "        if future:\n",
    "            fig.add_vline(x = df_pattern_next[\"time\"].iloc[window_size*2], row=row_i, col=col_i)\n",
    "        else:\n",
    "            fig.add_vline(x = df_pattern_next[\"time\"].iloc[0], row=row_i, col=col_i)\n",
    "            \n",
    "        fig.update_xaxes(rangeslider= {'visible':False}, row=row_i, col=col_i)\n",
    "        \n",
    "        col_i = (col_i%2) + 1\n",
    "        row_i = row_i + 1 if col_i == 1 else row_i\n",
    "        \n",
    "            \n",
    "\n",
    "\n",
    "    fig.update_layout(height=1000, width=1000, xaxis_rangeslider_visible=False)\n",
    "    fig.show()"
   ]
  },
  {
   "cell_type": "markdown",
   "id": "7def6f12",
   "metadata": {},
   "source": [
    "#### Putting it all together\n",
    "Edit in between the __PARAM WINDOW__ brackets. Check the ticker on yahoo finance. As default, it is BTC-USD but you can change to anything. It mainly works best for crypto since yesterday's close is today's open. Read the comments in between the __PARAM WINDOW__ and edit accordingly."
   ]
  },
  {
   "cell_type": "code",
   "execution_count": 18,
   "id": "20a84672",
   "metadata": {},
   "outputs": [
    {
     "name": "stdout",
     "output_type": "stream",
     "text": [
      "[*********************100%***********************]  1 of 1 completed\n"
     ]
    },
    {
     "data": {
      "application/vnd.plotly.v1+json": {
       "config": {
        "plotlyServerURL": "https://plot.ly"
       },
       "data": [
        {
         "close": [
          16769.23828125,
          16795.091796875,
          16647.484375,
          17364.865234375,
          17815.650390625,
          17781.318359375,
          17206.4375,
          17104.193359375,
          17128.724609375,
          17133.15234375,
          17233.474609375,
          16848.126953125,
          17089.50390625,
          16974.826171875,
          17130.486328125,
          16908.236328125,
          17088.66015625,
          16967.1328125,
          17168.56640625,
          16444.982421875,
          16217.322265625,
          16444.626953125,
          16464.28125,
          16521.841796875,
          16604.46484375
         ],
         "high": [
          16793.91796875,
          16800.58984375,
          17505.525390625,
          17846.744140625,
          18318.53125,
          17930.0859375,
          17212.564453125,
          17245.634765625,
          17216.826171875,
          17280.546875,
          17267.916015625,
          17109.376953125,
          17091.86328125,
          17378.15234375,
          17157.767578125,
          17116.041015625,
          17088.66015625,
          17197.498046875,
          17190.9375,
          16522.2578125,
          16482.93359375,
          16594.40625,
          16666.86328125,
          16603.31640625,
          16771.474609375
         ],
         "low": [
          16698.484375,
          16614.029296875,
          16584.701171875,
          17322.58984375,
          17739.513671875,
          17111.763671875,
          16899.39453125,
          17091.8203125,
          17120.68359375,
          17100.8359375,
          16788.783203125,
          16750.55859375,
          16939.921875,
          16922.431640625,
          16903.439453125,
          16888.140625,
          16877.880859375,
          16888.388671875,
          16445.4765625,
          16139.396484375,
          16054.5302734375,
          16437.025390625,
          16416.228515625,
          16388.404296875,
          16501.767578125
         ],
         "open": [
          16793.91796875,
          16646.982421875,
          17364.546875,
          17813.64453125,
          17782.06640625,
          17206.44140625,
          17102.5,
          17129.7109375,
          17134.220703125,
          17232.1484375,
          16847.349609375,
          17089.505859375,
          16975.23828125,
          17128.89453125,
          16908.169921875,
          17090.09765625,
          16968.68359375,
          17168.001953125,
          16445.4765625,
          16217.6396484375,
          16440.22265625,
          16463.8828125,
          16521.576171875,
          16602.26953125,
          16611.63671875
         ],
         "type": "candlestick",
         "x": [
          "2022-12-18T00:00:00+00:00",
          "2022-12-17T00:00:00+00:00",
          "2022-12-16T00:00:00+00:00",
          "2022-12-15T00:00:00+00:00",
          "2022-12-14T00:00:00+00:00",
          "2022-12-13T00:00:00+00:00",
          "2022-12-12T00:00:00+00:00",
          "2022-12-11T00:00:00+00:00",
          "2022-12-10T00:00:00+00:00",
          "2022-12-09T00:00:00+00:00",
          "2022-12-08T00:00:00+00:00",
          "2022-12-07T00:00:00+00:00",
          "2022-12-06T00:00:00+00:00",
          "2022-12-05T00:00:00+00:00",
          "2022-12-04T00:00:00+00:00",
          "2022-12-03T00:00:00+00:00",
          "2022-12-02T00:00:00+00:00",
          "2022-12-01T00:00:00+00:00",
          "2022-11-30T00:00:00+00:00",
          "2022-11-29T00:00:00+00:00",
          "2022-11-28T00:00:00+00:00",
          "2022-11-27T00:00:00+00:00",
          "2022-11-26T00:00:00+00:00",
          "2022-11-25T00:00:00+00:00",
          "2022-11-24T00:00:00+00:00"
         ],
         "xaxis": "x",
         "yaxis": "y"
        },
        {
         "close": [
          609.2410278320312,
          608.2429809570312,
          606.718994140625,
          623.5089721679688,
          622.8610229492188,
          626.3159790039062,
          614.5440063476562,
          610.4359741210938,
          606.5900268554688,
          608.6339721679688,
          598.2119750976562,
          575.5369873046875,
          572.302978515625,
          575.4719848632812,
          577.5029907226562,
          574.1069946289062,
          573.9119873046875,
          569.947021484375,
          579.6510009765625,
          577.760986328125,
          580.1820068359375,
          583.4149780273438,
          586.7529907226562,
          581.3079833984375,
          581.697021484375
         ],
         "high": [
          611.1929931640625,
          608.458984375,
          628.8179931640625,
          625.094970703125,
          626.8300170898438,
          628.77001953125,
          614.5449829101562,
          610.8300170898438,
          609.0549926757812,
          611.8369750976562,
          599.5,
          575.6430053710938,
          576.3109741210938,
          577.8610229492188,
          578.3569946289062,
          576.2780151367188,
          574.0380249023438,
          579.844970703125,
          580.6229858398438,
          580.4509887695312,
          583.5900268554688,
          589.4739990234375,
          588.447998046875,
          584.1580200195312,
          582.8179931640625
         ],
         "low": [
          606.9249877929688,
          605.4110107421875,
          600.5059814453125,
          622.39501953125,
          620.2630004882812,
          613.843994140625,
          608.5130004882812,
          605.0910034179688,
          602.2420043945312,
          596.8480224609375,
          574.0560302734375,
          570.8109741210938,
          571.8140258789062,
          573.6420288085938,
          574.114013671875,
          573.4650268554688,
          569.739990234375,
          568.6300048828125,
          576.8579711914062,
          575.1669921875,
          579.85498046875,
          581.6339721679688,
          580.593994140625,
          580.218017578125,
          575.4569702148438
         ],
         "open": [
          608.0250244140625,
          607.0050048828125,
          623.4240112304688,
          622.927001953125,
          626.3519897460938,
          614.635009765625,
          610.572998046875,
          606.5059814453125,
          608.989990234375,
          598.5900268554688,
          575.5549926757812,
          572.4099731445312,
          575.5460205078125,
          577.5910034179688,
          574.114013671875,
          574.0709838867188,
          569.8300170898438,
          579.4520263671875,
          577.7529907226562,
          580.1799926757812,
          583.4119873046875,
          586.77099609375,
          581.3109741210938,
          581.9390258789062,
          576.083984375
         ],
         "type": "candlestick",
         "x": [
          "2016-09-13T00:00:00+00:00",
          "2016-09-12T00:00:00+00:00",
          "2016-09-11T00:00:00+00:00",
          "2016-09-10T00:00:00+00:00",
          "2016-09-09T00:00:00+00:00",
          "2016-09-08T00:00:00+00:00",
          "2016-09-07T00:00:00+00:00",
          "2016-09-06T00:00:00+00:00",
          "2016-09-05T00:00:00+00:00",
          "2016-09-04T00:00:00+00:00",
          "2016-09-03T00:00:00+00:00",
          "2016-09-02T00:00:00+00:00",
          "2016-09-01T00:00:00+00:00",
          "2016-08-31T00:00:00+00:00",
          "2016-08-30T00:00:00+00:00",
          "2016-08-29T00:00:00+00:00",
          "2016-08-28T00:00:00+00:00",
          "2016-08-27T00:00:00+00:00",
          "2016-08-26T00:00:00+00:00",
          "2016-08-25T00:00:00+00:00",
          "2016-08-24T00:00:00+00:00",
          "2016-08-23T00:00:00+00:00",
          "2016-08-22T00:00:00+00:00",
          "2016-08-21T00:00:00+00:00",
          "2016-08-20T00:00:00+00:00"
         ],
         "xaxis": "x2",
         "yaxis": "y2"
        },
        {
         "close": [
          6411.27001953125,
          6409.22021484375,
          6385.6201171875,
          6453.72021484375,
          6530.14013671875,
          6461.009765625,
          6419.66015625,
          6376.1298828125,
          6361.259765625,
          6388.43994140625,
          6377.77978515625,
          6317.60986328125,
          6334.27001953125,
          6332.6298828125,
          6486.39013671875,
          6480.3798828125,
          6474.75,
          6476.2900390625,
          6495.83984375,
          6475.740234375,
          6487.16015625,
          6482.35009765625,
          6489.18994140625,
          6465.41015625,
          6476.7099609375
         ],
         "high": [
          6423.25,
          6437.27978515625,
          6456.4599609375,
          6536.919921875,
          6552.16015625,
          6463.5498046875,
          6480.58984375,
          6388.6298828125,
          6400.06982421875,
          6396.85986328125,
          6547.14013671875,
          6349.16015625,
          6364.990234375,
          6503.60009765625,
          6502.27978515625,
          6507.41015625,
          6498.2900390625,
          6504.64990234375,
          6521.990234375,
          6506.009765625,
          6543.7998046875,
          6556.3798828125,
          6497.72021484375,
          6493.68017578125,
          6567.5400390625
         ],
         "low": [
          6350.169921875,
          6385.31005859375,
          6373.3701171875,
          6438.52978515625,
          6468.31005859375,
          6408.16015625,
          6363.6201171875,
          6294.56982421875,
          6342.3701171875,
          6327.3798828125,
          6311.830078125,
          6316.8798828125,
          6310.14013671875,
          6306.990234375,
          6447.91015625,
          6453.52978515625,
          6449.60986328125,
          6447.02978515625,
          6468.85986328125,
          6451.27001953125,
          6462.97998046875,
          6476,
          6449,
          6445.31005859375,
          6450.0400390625
         ],
         "open": [
          6413.6298828125,
          6386.1298828125,
          6442.60009765625,
          6522.27001953125,
          6468.5,
          6433.3798828125,
          6363.6201171875,
          6365.47021484375,
          6387.240234375,
          6378.919921875,
          6318.14013671875,
          6336.990234375,
          6337.0400390625,
          6492.35009765625,
          6482.66015625,
          6480.83984375,
          6468.43994140625,
          6484.64990234375,
          6478.89013671875,
          6472.35986328125,
          6486.0498046875,
          6490.08984375,
          6460.919921875,
          6478.06982421875,
          6542.330078125
         ],
         "type": "candlestick",
         "x": [
          "2018-11-11T00:00:00+00:00",
          "2018-11-10T00:00:00+00:00",
          "2018-11-09T00:00:00+00:00",
          "2018-11-08T00:00:00+00:00",
          "2018-11-07T00:00:00+00:00",
          "2018-11-06T00:00:00+00:00",
          "2018-11-05T00:00:00+00:00",
          "2018-11-04T00:00:00+00:00",
          "2018-11-03T00:00:00+00:00",
          "2018-11-02T00:00:00+00:00",
          "2018-11-01T00:00:00+00:00",
          "2018-10-31T00:00:00+00:00",
          "2018-10-30T00:00:00+00:00",
          "2018-10-29T00:00:00+00:00",
          "2018-10-28T00:00:00+00:00",
          "2018-10-27T00:00:00+00:00",
          "2018-10-26T00:00:00+00:00",
          "2018-10-25T00:00:00+00:00",
          "2018-10-24T00:00:00+00:00",
          "2018-10-23T00:00:00+00:00",
          "2018-10-22T00:00:00+00:00",
          "2018-10-21T00:00:00+00:00",
          "2018-10-20T00:00:00+00:00",
          "2018-10-19T00:00:00+00:00",
          "2018-10-18T00:00:00+00:00"
         ],
         "xaxis": "x3",
         "yaxis": "y3"
        },
        {
         "close": [
          613.02099609375,
          612.510986328125,
          610.2039794921875,
          612.1329956054688,
          610.8920288085938,
          613.9829711914062,
          609.7349853515625,
          605.6929931640625,
          604.72802734375,
          606.166015625,
          608.0430297851562,
          600.8259887695312,
          602.625,
          602.8419799804688,
          596.2979736328125,
          597.1489868164062,
          608.31201171875,
          609.2269897460938,
          609.8740234375,
          605.9840087890625,
          606.9730224609375,
          607.155029296875,
          610.6840209960938,
          609.2410278320312,
          608.2429809570312
         ],
         "high": [
          613.8189697265625,
          613.8140258789062,
          612.0540161132812,
          612.5679931640625,
          614.0050048828125,
          615.2369995117188,
          609.7349853515625,
          606.823974609375,
          606.5900268554688,
          608.2479858398438,
          608.1430053710938,
          603.3809814453125,
          604.5800170898438,
          603.2050170898438,
          598.4869995117188,
          603.5880126953125,
          609.5250244140625,
          610.9320068359375,
          610.1580200195312,
          607.8599853515625,
          609.260986328125,
          611.0859985351562,
          611.9520263671875,
          611.1929931640625,
          608.458984375
         ],
         "low": [
          611.468994140625,
          609.6170043945312,
          609.47900390625,
          610.4550170898438,
          609.6820068359375,
          609.9290161132812,
          604.1420288085938,
          604.8480224609375,
          604.6069946289062,
          604.1099853515625,
          600.3489990234375,
          599.7109985351562,
          602.0449829101562,
          595.7860107421875,
          596.2130126953125,
          595.8829956054688,
          607.93798828125,
          608.27001953125,
          605.8560180664062,
          605.1920166015625,
          606.7349853515625,
          607.155029296875,
          608.4099731445312,
          606.9249877929688,
          605.4110107421875
         ],
         "open": [
          612.469970703125,
          610.218017578125,
          612.052001953125,
          610.968017578125,
          613.947998046875,
          609.9290161132812,
          605.7150268554688,
          605.0189819335938,
          606.2429809570312,
          608.02197265625,
          600.8070068359375,
          602.7490234375,
          602.9609985351562,
          596.198974609375,
          597.2789916992188,
          603.5880126953125,
          609.2540283203125,
          609.8709716796875,
          606.2830200195312,
          607.218017578125,
          607.2459716796875,
          610.5880126953125,
          608.8410034179688,
          608.0250244140625,
          607.0050048828125
         ],
         "type": "candlestick",
         "x": [
          "2016-10-06T00:00:00+00:00",
          "2016-10-05T00:00:00+00:00",
          "2016-10-04T00:00:00+00:00",
          "2016-10-03T00:00:00+00:00",
          "2016-10-02T00:00:00+00:00",
          "2016-10-01T00:00:00+00:00",
          "2016-09-30T00:00:00+00:00",
          "2016-09-29T00:00:00+00:00",
          "2016-09-28T00:00:00+00:00",
          "2016-09-27T00:00:00+00:00",
          "2016-09-26T00:00:00+00:00",
          "2016-09-25T00:00:00+00:00",
          "2016-09-24T00:00:00+00:00",
          "2016-09-23T00:00:00+00:00",
          "2016-09-22T00:00:00+00:00",
          "2016-09-21T00:00:00+00:00",
          "2016-09-20T00:00:00+00:00",
          "2016-09-19T00:00:00+00:00",
          "2016-09-18T00:00:00+00:00",
          "2016-09-17T00:00:00+00:00",
          "2016-09-16T00:00:00+00:00",
          "2016-09-15T00:00:00+00:00",
          "2016-09-14T00:00:00+00:00",
          "2016-09-13T00:00:00+00:00",
          "2016-09-12T00:00:00+00:00"
         ],
         "xaxis": "x4",
         "yaxis": "y4"
        },
        {
         "close": [
          800.8759765625,
          792.7139892578125,
          790.530029296875,
          790.8289794921875,
          784.906982421875,
          778.0880126953125,
          781.4810180664062,
          780.5560302734375,
          780.0869750976562,
          769.7310180664062,
          774.6500244140625,
          772.7940063476562,
          770.8099975585938,
          768.1320190429688,
          764.2239990234375,
          758.7000122070312,
          773.8720092773438,
          771.155029296875,
          777.9439697265625,
          756.7739868164062,
          745.6909790039062,
          735.60400390625,
          735.81298828125,
          732.0349731445312,
          735.3820190429688
         ],
         "high": [
          801.3369750976562,
          793.6110229492188,
          794.7369995117188,
          792.5089721679688,
          785.031982421875,
          781.4349975585938,
          782.0339965820312,
          788.4600219726562,
          781.9219970703125,
          774.7979736328125,
          777.0919799804688,
          774.5280151367188,
          774.697998046875,
          771.5430297851562,
          765.6220092773438,
          773.468017578125,
          773.8720092773438,
          778.2479858398438,
          781.2960205078125,
          758.2750244140625,
          747.9290161132812,
          737.4710083007812,
          738.0059814453125,
          739.0180053710938,
          742.2139892578125
         ],
         "low": [
          791.4970092773438,
          790.3200073242188,
          788.0260009765625,
          784.864013671875,
          778.9630126953125,
          777.802001953125,
          776.8389892578125,
          777.9619750976562,
          770.0399780273438,
          765.4119873046875,
          772.9099731445312,
          769.6489868164062,
          765.9459838867188,
          759.75,
          758.719970703125,
          751.7130126953125,
          768.1610107421875,
          764.8560180664062,
          757.5449829101562,
          746.0460205078125,
          736.2650146484375,
          734.5590209960938,
          732.4840087890625,
          731.0850219726562,
          729.625
         ],
         "open": [
          792.2470092773438,
          790.6920166015625,
          791.0079956054688,
          785.166015625,
          778.9630126953125,
          780.0700073242188,
          780.0050048828125,
          780.64697265625,
          770.0399780273438,
          774.7520141601562,
          773.0230102539062,
          769.9439697265625,
          768.0759887695312,
          764.2109985351562,
          758.719970703125,
          773.3939819335938,
          771.6380004882812,
          778.2479858398438,
          757.5449829101562,
          746.0460205078125,
          736.2839965820312,
          736.3289794921875,
          732.4840087890625,
          735.43701171875,
          741.510986328125
         ],
         "type": "candlestick",
         "x": [
          "2016-12-20T00:00:00+00:00",
          "2016-12-19T00:00:00+00:00",
          "2016-12-18T00:00:00+00:00",
          "2016-12-17T00:00:00+00:00",
          "2016-12-16T00:00:00+00:00",
          "2016-12-15T00:00:00+00:00",
          "2016-12-14T00:00:00+00:00",
          "2016-12-13T00:00:00+00:00",
          "2016-12-12T00:00:00+00:00",
          "2016-12-11T00:00:00+00:00",
          "2016-12-10T00:00:00+00:00",
          "2016-12-09T00:00:00+00:00",
          "2016-12-08T00:00:00+00:00",
          "2016-12-07T00:00:00+00:00",
          "2016-12-06T00:00:00+00:00",
          "2016-12-05T00:00:00+00:00",
          "2016-12-04T00:00:00+00:00",
          "2016-12-03T00:00:00+00:00",
          "2016-12-02T00:00:00+00:00",
          "2016-12-01T00:00:00+00:00",
          "2016-11-30T00:00:00+00:00",
          "2016-11-29T00:00:00+00:00",
          "2016-11-28T00:00:00+00:00",
          "2016-11-27T00:00:00+00:00",
          "2016-11-26T00:00:00+00:00"
         ],
         "xaxis": "x5",
         "yaxis": "y5"
        }
       ],
       "layout": {
        "height": 1000,
        "shapes": [
         {
          "type": "line",
          "x0": "2016-09-13T00:00:00+00:00",
          "x1": "2016-09-13T00:00:00+00:00",
          "xref": "x2",
          "y0": 0,
          "y1": 1,
          "yref": "y2 domain"
         },
         {
          "type": "line",
          "x0": "2018-11-11T00:00:00+00:00",
          "x1": "2018-11-11T00:00:00+00:00",
          "xref": "x3",
          "y0": 0,
          "y1": 1,
          "yref": "y3 domain"
         },
         {
          "type": "line",
          "x0": "2016-10-06T00:00:00+00:00",
          "x1": "2016-10-06T00:00:00+00:00",
          "xref": "x4",
          "y0": 0,
          "y1": 1,
          "yref": "y4 domain"
         },
         {
          "type": "line",
          "x0": "2016-12-20T00:00:00+00:00",
          "x1": "2016-12-20T00:00:00+00:00",
          "xref": "x5",
          "y0": 0,
          "y1": 1,
          "yref": "y5 domain"
         }
        ],
        "template": {
         "data": {
          "bar": [
           {
            "error_x": {
             "color": "#2a3f5f"
            },
            "error_y": {
             "color": "#2a3f5f"
            },
            "marker": {
             "line": {
              "color": "#E5ECF6",
              "width": 0.5
             },
             "pattern": {
              "fillmode": "overlay",
              "size": 10,
              "solidity": 0.2
             }
            },
            "type": "bar"
           }
          ],
          "barpolar": [
           {
            "marker": {
             "line": {
              "color": "#E5ECF6",
              "width": 0.5
             },
             "pattern": {
              "fillmode": "overlay",
              "size": 10,
              "solidity": 0.2
             }
            },
            "type": "barpolar"
           }
          ],
          "carpet": [
           {
            "aaxis": {
             "endlinecolor": "#2a3f5f",
             "gridcolor": "white",
             "linecolor": "white",
             "minorgridcolor": "white",
             "startlinecolor": "#2a3f5f"
            },
            "baxis": {
             "endlinecolor": "#2a3f5f",
             "gridcolor": "white",
             "linecolor": "white",
             "minorgridcolor": "white",
             "startlinecolor": "#2a3f5f"
            },
            "type": "carpet"
           }
          ],
          "choropleth": [
           {
            "colorbar": {
             "outlinewidth": 0,
             "ticks": ""
            },
            "type": "choropleth"
           }
          ],
          "contour": [
           {
            "colorbar": {
             "outlinewidth": 0,
             "ticks": ""
            },
            "colorscale": [
             [
              0,
              "#0d0887"
             ],
             [
              0.1111111111111111,
              "#46039f"
             ],
             [
              0.2222222222222222,
              "#7201a8"
             ],
             [
              0.3333333333333333,
              "#9c179e"
             ],
             [
              0.4444444444444444,
              "#bd3786"
             ],
             [
              0.5555555555555556,
              "#d8576b"
             ],
             [
              0.6666666666666666,
              "#ed7953"
             ],
             [
              0.7777777777777778,
              "#fb9f3a"
             ],
             [
              0.8888888888888888,
              "#fdca26"
             ],
             [
              1,
              "#f0f921"
             ]
            ],
            "type": "contour"
           }
          ],
          "contourcarpet": [
           {
            "colorbar": {
             "outlinewidth": 0,
             "ticks": ""
            },
            "type": "contourcarpet"
           }
          ],
          "heatmap": [
           {
            "colorbar": {
             "outlinewidth": 0,
             "ticks": ""
            },
            "colorscale": [
             [
              0,
              "#0d0887"
             ],
             [
              0.1111111111111111,
              "#46039f"
             ],
             [
              0.2222222222222222,
              "#7201a8"
             ],
             [
              0.3333333333333333,
              "#9c179e"
             ],
             [
              0.4444444444444444,
              "#bd3786"
             ],
             [
              0.5555555555555556,
              "#d8576b"
             ],
             [
              0.6666666666666666,
              "#ed7953"
             ],
             [
              0.7777777777777778,
              "#fb9f3a"
             ],
             [
              0.8888888888888888,
              "#fdca26"
             ],
             [
              1,
              "#f0f921"
             ]
            ],
            "type": "heatmap"
           }
          ],
          "heatmapgl": [
           {
            "colorbar": {
             "outlinewidth": 0,
             "ticks": ""
            },
            "colorscale": [
             [
              0,
              "#0d0887"
             ],
             [
              0.1111111111111111,
              "#46039f"
             ],
             [
              0.2222222222222222,
              "#7201a8"
             ],
             [
              0.3333333333333333,
              "#9c179e"
             ],
             [
              0.4444444444444444,
              "#bd3786"
             ],
             [
              0.5555555555555556,
              "#d8576b"
             ],
             [
              0.6666666666666666,
              "#ed7953"
             ],
             [
              0.7777777777777778,
              "#fb9f3a"
             ],
             [
              0.8888888888888888,
              "#fdca26"
             ],
             [
              1,
              "#f0f921"
             ]
            ],
            "type": "heatmapgl"
           }
          ],
          "histogram": [
           {
            "marker": {
             "pattern": {
              "fillmode": "overlay",
              "size": 10,
              "solidity": 0.2
             }
            },
            "type": "histogram"
           }
          ],
          "histogram2d": [
           {
            "colorbar": {
             "outlinewidth": 0,
             "ticks": ""
            },
            "colorscale": [
             [
              0,
              "#0d0887"
             ],
             [
              0.1111111111111111,
              "#46039f"
             ],
             [
              0.2222222222222222,
              "#7201a8"
             ],
             [
              0.3333333333333333,
              "#9c179e"
             ],
             [
              0.4444444444444444,
              "#bd3786"
             ],
             [
              0.5555555555555556,
              "#d8576b"
             ],
             [
              0.6666666666666666,
              "#ed7953"
             ],
             [
              0.7777777777777778,
              "#fb9f3a"
             ],
             [
              0.8888888888888888,
              "#fdca26"
             ],
             [
              1,
              "#f0f921"
             ]
            ],
            "type": "histogram2d"
           }
          ],
          "histogram2dcontour": [
           {
            "colorbar": {
             "outlinewidth": 0,
             "ticks": ""
            },
            "colorscale": [
             [
              0,
              "#0d0887"
             ],
             [
              0.1111111111111111,
              "#46039f"
             ],
             [
              0.2222222222222222,
              "#7201a8"
             ],
             [
              0.3333333333333333,
              "#9c179e"
             ],
             [
              0.4444444444444444,
              "#bd3786"
             ],
             [
              0.5555555555555556,
              "#d8576b"
             ],
             [
              0.6666666666666666,
              "#ed7953"
             ],
             [
              0.7777777777777778,
              "#fb9f3a"
             ],
             [
              0.8888888888888888,
              "#fdca26"
             ],
             [
              1,
              "#f0f921"
             ]
            ],
            "type": "histogram2dcontour"
           }
          ],
          "mesh3d": [
           {
            "colorbar": {
             "outlinewidth": 0,
             "ticks": ""
            },
            "type": "mesh3d"
           }
          ],
          "parcoords": [
           {
            "line": {
             "colorbar": {
              "outlinewidth": 0,
              "ticks": ""
             }
            },
            "type": "parcoords"
           }
          ],
          "pie": [
           {
            "automargin": true,
            "type": "pie"
           }
          ],
          "scatter": [
           {
            "fillpattern": {
             "fillmode": "overlay",
             "size": 10,
             "solidity": 0.2
            },
            "type": "scatter"
           }
          ],
          "scatter3d": [
           {
            "line": {
             "colorbar": {
              "outlinewidth": 0,
              "ticks": ""
             }
            },
            "marker": {
             "colorbar": {
              "outlinewidth": 0,
              "ticks": ""
             }
            },
            "type": "scatter3d"
           }
          ],
          "scattercarpet": [
           {
            "marker": {
             "colorbar": {
              "outlinewidth": 0,
              "ticks": ""
             }
            },
            "type": "scattercarpet"
           }
          ],
          "scattergeo": [
           {
            "marker": {
             "colorbar": {
              "outlinewidth": 0,
              "ticks": ""
             }
            },
            "type": "scattergeo"
           }
          ],
          "scattergl": [
           {
            "marker": {
             "colorbar": {
              "outlinewidth": 0,
              "ticks": ""
             }
            },
            "type": "scattergl"
           }
          ],
          "scattermapbox": [
           {
            "marker": {
             "colorbar": {
              "outlinewidth": 0,
              "ticks": ""
             }
            },
            "type": "scattermapbox"
           }
          ],
          "scatterpolar": [
           {
            "marker": {
             "colorbar": {
              "outlinewidth": 0,
              "ticks": ""
             }
            },
            "type": "scatterpolar"
           }
          ],
          "scatterpolargl": [
           {
            "marker": {
             "colorbar": {
              "outlinewidth": 0,
              "ticks": ""
             }
            },
            "type": "scatterpolargl"
           }
          ],
          "scatterternary": [
           {
            "marker": {
             "colorbar": {
              "outlinewidth": 0,
              "ticks": ""
             }
            },
            "type": "scatterternary"
           }
          ],
          "surface": [
           {
            "colorbar": {
             "outlinewidth": 0,
             "ticks": ""
            },
            "colorscale": [
             [
              0,
              "#0d0887"
             ],
             [
              0.1111111111111111,
              "#46039f"
             ],
             [
              0.2222222222222222,
              "#7201a8"
             ],
             [
              0.3333333333333333,
              "#9c179e"
             ],
             [
              0.4444444444444444,
              "#bd3786"
             ],
             [
              0.5555555555555556,
              "#d8576b"
             ],
             [
              0.6666666666666666,
              "#ed7953"
             ],
             [
              0.7777777777777778,
              "#fb9f3a"
             ],
             [
              0.8888888888888888,
              "#fdca26"
             ],
             [
              1,
              "#f0f921"
             ]
            ],
            "type": "surface"
           }
          ],
          "table": [
           {
            "cells": {
             "fill": {
              "color": "#EBF0F8"
             },
             "line": {
              "color": "white"
             }
            },
            "header": {
             "fill": {
              "color": "#C8D4E3"
             },
             "line": {
              "color": "white"
             }
            },
            "type": "table"
           }
          ]
         },
         "layout": {
          "annotationdefaults": {
           "arrowcolor": "#2a3f5f",
           "arrowhead": 0,
           "arrowwidth": 1
          },
          "autotypenumbers": "strict",
          "coloraxis": {
           "colorbar": {
            "outlinewidth": 0,
            "ticks": ""
           }
          },
          "colorscale": {
           "diverging": [
            [
             0,
             "#8e0152"
            ],
            [
             0.1,
             "#c51b7d"
            ],
            [
             0.2,
             "#de77ae"
            ],
            [
             0.3,
             "#f1b6da"
            ],
            [
             0.4,
             "#fde0ef"
            ],
            [
             0.5,
             "#f7f7f7"
            ],
            [
             0.6,
             "#e6f5d0"
            ],
            [
             0.7,
             "#b8e186"
            ],
            [
             0.8,
             "#7fbc41"
            ],
            [
             0.9,
             "#4d9221"
            ],
            [
             1,
             "#276419"
            ]
           ],
           "sequential": [
            [
             0,
             "#0d0887"
            ],
            [
             0.1111111111111111,
             "#46039f"
            ],
            [
             0.2222222222222222,
             "#7201a8"
            ],
            [
             0.3333333333333333,
             "#9c179e"
            ],
            [
             0.4444444444444444,
             "#bd3786"
            ],
            [
             0.5555555555555556,
             "#d8576b"
            ],
            [
             0.6666666666666666,
             "#ed7953"
            ],
            [
             0.7777777777777778,
             "#fb9f3a"
            ],
            [
             0.8888888888888888,
             "#fdca26"
            ],
            [
             1,
             "#f0f921"
            ]
           ],
           "sequentialminus": [
            [
             0,
             "#0d0887"
            ],
            [
             0.1111111111111111,
             "#46039f"
            ],
            [
             0.2222222222222222,
             "#7201a8"
            ],
            [
             0.3333333333333333,
             "#9c179e"
            ],
            [
             0.4444444444444444,
             "#bd3786"
            ],
            [
             0.5555555555555556,
             "#d8576b"
            ],
            [
             0.6666666666666666,
             "#ed7953"
            ],
            [
             0.7777777777777778,
             "#fb9f3a"
            ],
            [
             0.8888888888888888,
             "#fdca26"
            ],
            [
             1,
             "#f0f921"
            ]
           ]
          },
          "colorway": [
           "#636efa",
           "#EF553B",
           "#00cc96",
           "#ab63fa",
           "#FFA15A",
           "#19d3f3",
           "#FF6692",
           "#B6E880",
           "#FF97FF",
           "#FECB52"
          ],
          "font": {
           "color": "#2a3f5f"
          },
          "geo": {
           "bgcolor": "white",
           "lakecolor": "white",
           "landcolor": "#E5ECF6",
           "showlakes": true,
           "showland": true,
           "subunitcolor": "white"
          },
          "hoverlabel": {
           "align": "left"
          },
          "hovermode": "closest",
          "mapbox": {
           "style": "light"
          },
          "paper_bgcolor": "white",
          "plot_bgcolor": "#E5ECF6",
          "polar": {
           "angularaxis": {
            "gridcolor": "white",
            "linecolor": "white",
            "ticks": ""
           },
           "bgcolor": "#E5ECF6",
           "radialaxis": {
            "gridcolor": "white",
            "linecolor": "white",
            "ticks": ""
           }
          },
          "scene": {
           "xaxis": {
            "backgroundcolor": "#E5ECF6",
            "gridcolor": "white",
            "gridwidth": 2,
            "linecolor": "white",
            "showbackground": true,
            "ticks": "",
            "zerolinecolor": "white"
           },
           "yaxis": {
            "backgroundcolor": "#E5ECF6",
            "gridcolor": "white",
            "gridwidth": 2,
            "linecolor": "white",
            "showbackground": true,
            "ticks": "",
            "zerolinecolor": "white"
           },
           "zaxis": {
            "backgroundcolor": "#E5ECF6",
            "gridcolor": "white",
            "gridwidth": 2,
            "linecolor": "white",
            "showbackground": true,
            "ticks": "",
            "zerolinecolor": "white"
           }
          },
          "shapedefaults": {
           "line": {
            "color": "#2a3f5f"
           }
          },
          "ternary": {
           "aaxis": {
            "gridcolor": "white",
            "linecolor": "white",
            "ticks": ""
           },
           "baxis": {
            "gridcolor": "white",
            "linecolor": "white",
            "ticks": ""
           },
           "bgcolor": "#E5ECF6",
           "caxis": {
            "gridcolor": "white",
            "linecolor": "white",
            "ticks": ""
           }
          },
          "title": {
           "x": 0.05
          },
          "xaxis": {
           "automargin": true,
           "gridcolor": "white",
           "linecolor": "white",
           "ticks": "",
           "title": {
            "standoff": 15
           },
           "zerolinecolor": "white",
           "zerolinewidth": 2
          },
          "yaxis": {
           "automargin": true,
           "gridcolor": "white",
           "linecolor": "white",
           "ticks": "",
           "title": {
            "standoff": 15
           },
           "zerolinecolor": "white",
           "zerolinewidth": 2
          }
         }
        },
        "width": 1000,
        "xaxis": {
         "anchor": "y",
         "domain": [
          0,
          0.45
         ],
         "rangeslider": {
          "visible": false
         }
        },
        "xaxis2": {
         "anchor": "y2",
         "domain": [
          0.55,
          1
         ],
         "rangeslider": {
          "visible": false
         }
        },
        "xaxis3": {
         "anchor": "y3",
         "domain": [
          0,
          0.45
         ],
         "rangeslider": {
          "visible": false
         }
        },
        "xaxis4": {
         "anchor": "y4",
         "domain": [
          0.55,
          1
         ],
         "rangeslider": {
          "visible": false
         }
        },
        "xaxis5": {
         "anchor": "y5",
         "domain": [
          0,
          0.45
         ],
         "rangeslider": {
          "visible": false
         }
        },
        "xaxis6": {
         "anchor": "y6",
         "domain": [
          0.55,
          1
         ]
        },
        "yaxis": {
         "anchor": "x",
         "domain": [
          0.7333333333333333,
          1
         ]
        },
        "yaxis2": {
         "anchor": "x2",
         "domain": [
          0.7333333333333333,
          1
         ]
        },
        "yaxis3": {
         "anchor": "x3",
         "domain": [
          0.36666666666666664,
          0.6333333333333333
         ]
        },
        "yaxis4": {
         "anchor": "x4",
         "domain": [
          0.36666666666666664,
          0.6333333333333333
         ]
        },
        "yaxis5": {
         "anchor": "x5",
         "domain": [
          0,
          0.26666666666666666
         ]
        },
        "yaxis6": {
         "anchor": "x6",
         "domain": [
          0,
          0.26666666666666666
         ]
        }
       }
      },
      "text/html": [
       "<div>                            <div id=\"342ff118-9fc2-4a44-9d86-483250438066\" class=\"plotly-graph-div\" style=\"height:1000px; width:1000px;\"></div>            <script type=\"text/javascript\">                require([\"plotly\"], function(Plotly) {                    window.PLOTLYENV=window.PLOTLYENV || {};                                    if (document.getElementById(\"342ff118-9fc2-4a44-9d86-483250438066\")) {                    Plotly.newPlot(                        \"342ff118-9fc2-4a44-9d86-483250438066\",                        [{\"close\":[16769.23828125,16795.091796875,16647.484375,17364.865234375,17815.650390625,17781.318359375,17206.4375,17104.193359375,17128.724609375,17133.15234375,17233.474609375,16848.126953125,17089.50390625,16974.826171875,17130.486328125,16908.236328125,17088.66015625,16967.1328125,17168.56640625,16444.982421875,16217.322265625,16444.626953125,16464.28125,16521.841796875,16604.46484375],\"high\":[16793.91796875,16800.58984375,17505.525390625,17846.744140625,18318.53125,17930.0859375,17212.564453125,17245.634765625,17216.826171875,17280.546875,17267.916015625,17109.376953125,17091.86328125,17378.15234375,17157.767578125,17116.041015625,17088.66015625,17197.498046875,17190.9375,16522.2578125,16482.93359375,16594.40625,16666.86328125,16603.31640625,16771.474609375],\"low\":[16698.484375,16614.029296875,16584.701171875,17322.58984375,17739.513671875,17111.763671875,16899.39453125,17091.8203125,17120.68359375,17100.8359375,16788.783203125,16750.55859375,16939.921875,16922.431640625,16903.439453125,16888.140625,16877.880859375,16888.388671875,16445.4765625,16139.396484375,16054.5302734375,16437.025390625,16416.228515625,16388.404296875,16501.767578125],\"open\":[16793.91796875,16646.982421875,17364.546875,17813.64453125,17782.06640625,17206.44140625,17102.5,17129.7109375,17134.220703125,17232.1484375,16847.349609375,17089.505859375,16975.23828125,17128.89453125,16908.169921875,17090.09765625,16968.68359375,17168.001953125,16445.4765625,16217.6396484375,16440.22265625,16463.8828125,16521.576171875,16602.26953125,16611.63671875],\"x\":[\"2022-12-18T00:00:00+00:00\",\"2022-12-17T00:00:00+00:00\",\"2022-12-16T00:00:00+00:00\",\"2022-12-15T00:00:00+00:00\",\"2022-12-14T00:00:00+00:00\",\"2022-12-13T00:00:00+00:00\",\"2022-12-12T00:00:00+00:00\",\"2022-12-11T00:00:00+00:00\",\"2022-12-10T00:00:00+00:00\",\"2022-12-09T00:00:00+00:00\",\"2022-12-08T00:00:00+00:00\",\"2022-12-07T00:00:00+00:00\",\"2022-12-06T00:00:00+00:00\",\"2022-12-05T00:00:00+00:00\",\"2022-12-04T00:00:00+00:00\",\"2022-12-03T00:00:00+00:00\",\"2022-12-02T00:00:00+00:00\",\"2022-12-01T00:00:00+00:00\",\"2022-11-30T00:00:00+00:00\",\"2022-11-29T00:00:00+00:00\",\"2022-11-28T00:00:00+00:00\",\"2022-11-27T00:00:00+00:00\",\"2022-11-26T00:00:00+00:00\",\"2022-11-25T00:00:00+00:00\",\"2022-11-24T00:00:00+00:00\"],\"type\":\"candlestick\",\"xaxis\":\"x\",\"yaxis\":\"y\"},{\"close\":[609.2410278320312,608.2429809570312,606.718994140625,623.5089721679688,622.8610229492188,626.3159790039062,614.5440063476562,610.4359741210938,606.5900268554688,608.6339721679688,598.2119750976562,575.5369873046875,572.302978515625,575.4719848632812,577.5029907226562,574.1069946289062,573.9119873046875,569.947021484375,579.6510009765625,577.760986328125,580.1820068359375,583.4149780273438,586.7529907226562,581.3079833984375,581.697021484375],\"high\":[611.1929931640625,608.458984375,628.8179931640625,625.094970703125,626.8300170898438,628.77001953125,614.5449829101562,610.8300170898438,609.0549926757812,611.8369750976562,599.5,575.6430053710938,576.3109741210938,577.8610229492188,578.3569946289062,576.2780151367188,574.0380249023438,579.844970703125,580.6229858398438,580.4509887695312,583.5900268554688,589.4739990234375,588.447998046875,584.1580200195312,582.8179931640625],\"low\":[606.9249877929688,605.4110107421875,600.5059814453125,622.39501953125,620.2630004882812,613.843994140625,608.5130004882812,605.0910034179688,602.2420043945312,596.8480224609375,574.0560302734375,570.8109741210938,571.8140258789062,573.6420288085938,574.114013671875,573.4650268554688,569.739990234375,568.6300048828125,576.8579711914062,575.1669921875,579.85498046875,581.6339721679688,580.593994140625,580.218017578125,575.4569702148438],\"open\":[608.0250244140625,607.0050048828125,623.4240112304688,622.927001953125,626.3519897460938,614.635009765625,610.572998046875,606.5059814453125,608.989990234375,598.5900268554688,575.5549926757812,572.4099731445312,575.5460205078125,577.5910034179688,574.114013671875,574.0709838867188,569.8300170898438,579.4520263671875,577.7529907226562,580.1799926757812,583.4119873046875,586.77099609375,581.3109741210938,581.9390258789062,576.083984375],\"x\":[\"2016-09-13T00:00:00+00:00\",\"2016-09-12T00:00:00+00:00\",\"2016-09-11T00:00:00+00:00\",\"2016-09-10T00:00:00+00:00\",\"2016-09-09T00:00:00+00:00\",\"2016-09-08T00:00:00+00:00\",\"2016-09-07T00:00:00+00:00\",\"2016-09-06T00:00:00+00:00\",\"2016-09-05T00:00:00+00:00\",\"2016-09-04T00:00:00+00:00\",\"2016-09-03T00:00:00+00:00\",\"2016-09-02T00:00:00+00:00\",\"2016-09-01T00:00:00+00:00\",\"2016-08-31T00:00:00+00:00\",\"2016-08-30T00:00:00+00:00\",\"2016-08-29T00:00:00+00:00\",\"2016-08-28T00:00:00+00:00\",\"2016-08-27T00:00:00+00:00\",\"2016-08-26T00:00:00+00:00\",\"2016-08-25T00:00:00+00:00\",\"2016-08-24T00:00:00+00:00\",\"2016-08-23T00:00:00+00:00\",\"2016-08-22T00:00:00+00:00\",\"2016-08-21T00:00:00+00:00\",\"2016-08-20T00:00:00+00:00\"],\"type\":\"candlestick\",\"xaxis\":\"x2\",\"yaxis\":\"y2\"},{\"close\":[6411.27001953125,6409.22021484375,6385.6201171875,6453.72021484375,6530.14013671875,6461.009765625,6419.66015625,6376.1298828125,6361.259765625,6388.43994140625,6377.77978515625,6317.60986328125,6334.27001953125,6332.6298828125,6486.39013671875,6480.3798828125,6474.75,6476.2900390625,6495.83984375,6475.740234375,6487.16015625,6482.35009765625,6489.18994140625,6465.41015625,6476.7099609375],\"high\":[6423.25,6437.27978515625,6456.4599609375,6536.919921875,6552.16015625,6463.5498046875,6480.58984375,6388.6298828125,6400.06982421875,6396.85986328125,6547.14013671875,6349.16015625,6364.990234375,6503.60009765625,6502.27978515625,6507.41015625,6498.2900390625,6504.64990234375,6521.990234375,6506.009765625,6543.7998046875,6556.3798828125,6497.72021484375,6493.68017578125,6567.5400390625],\"low\":[6350.169921875,6385.31005859375,6373.3701171875,6438.52978515625,6468.31005859375,6408.16015625,6363.6201171875,6294.56982421875,6342.3701171875,6327.3798828125,6311.830078125,6316.8798828125,6310.14013671875,6306.990234375,6447.91015625,6453.52978515625,6449.60986328125,6447.02978515625,6468.85986328125,6451.27001953125,6462.97998046875,6476.0,6449.0,6445.31005859375,6450.0400390625],\"open\":[6413.6298828125,6386.1298828125,6442.60009765625,6522.27001953125,6468.5,6433.3798828125,6363.6201171875,6365.47021484375,6387.240234375,6378.919921875,6318.14013671875,6336.990234375,6337.0400390625,6492.35009765625,6482.66015625,6480.83984375,6468.43994140625,6484.64990234375,6478.89013671875,6472.35986328125,6486.0498046875,6490.08984375,6460.919921875,6478.06982421875,6542.330078125],\"x\":[\"2018-11-11T00:00:00+00:00\",\"2018-11-10T00:00:00+00:00\",\"2018-11-09T00:00:00+00:00\",\"2018-11-08T00:00:00+00:00\",\"2018-11-07T00:00:00+00:00\",\"2018-11-06T00:00:00+00:00\",\"2018-11-05T00:00:00+00:00\",\"2018-11-04T00:00:00+00:00\",\"2018-11-03T00:00:00+00:00\",\"2018-11-02T00:00:00+00:00\",\"2018-11-01T00:00:00+00:00\",\"2018-10-31T00:00:00+00:00\",\"2018-10-30T00:00:00+00:00\",\"2018-10-29T00:00:00+00:00\",\"2018-10-28T00:00:00+00:00\",\"2018-10-27T00:00:00+00:00\",\"2018-10-26T00:00:00+00:00\",\"2018-10-25T00:00:00+00:00\",\"2018-10-24T00:00:00+00:00\",\"2018-10-23T00:00:00+00:00\",\"2018-10-22T00:00:00+00:00\",\"2018-10-21T00:00:00+00:00\",\"2018-10-20T00:00:00+00:00\",\"2018-10-19T00:00:00+00:00\",\"2018-10-18T00:00:00+00:00\"],\"type\":\"candlestick\",\"xaxis\":\"x3\",\"yaxis\":\"y3\"},{\"close\":[613.02099609375,612.510986328125,610.2039794921875,612.1329956054688,610.8920288085938,613.9829711914062,609.7349853515625,605.6929931640625,604.72802734375,606.166015625,608.0430297851562,600.8259887695312,602.625,602.8419799804688,596.2979736328125,597.1489868164062,608.31201171875,609.2269897460938,609.8740234375,605.9840087890625,606.9730224609375,607.155029296875,610.6840209960938,609.2410278320312,608.2429809570312],\"high\":[613.8189697265625,613.8140258789062,612.0540161132812,612.5679931640625,614.0050048828125,615.2369995117188,609.7349853515625,606.823974609375,606.5900268554688,608.2479858398438,608.1430053710938,603.3809814453125,604.5800170898438,603.2050170898438,598.4869995117188,603.5880126953125,609.5250244140625,610.9320068359375,610.1580200195312,607.8599853515625,609.260986328125,611.0859985351562,611.9520263671875,611.1929931640625,608.458984375],\"low\":[611.468994140625,609.6170043945312,609.47900390625,610.4550170898438,609.6820068359375,609.9290161132812,604.1420288085938,604.8480224609375,604.6069946289062,604.1099853515625,600.3489990234375,599.7109985351562,602.0449829101562,595.7860107421875,596.2130126953125,595.8829956054688,607.93798828125,608.27001953125,605.8560180664062,605.1920166015625,606.7349853515625,607.155029296875,608.4099731445312,606.9249877929688,605.4110107421875],\"open\":[612.469970703125,610.218017578125,612.052001953125,610.968017578125,613.947998046875,609.9290161132812,605.7150268554688,605.0189819335938,606.2429809570312,608.02197265625,600.8070068359375,602.7490234375,602.9609985351562,596.198974609375,597.2789916992188,603.5880126953125,609.2540283203125,609.8709716796875,606.2830200195312,607.218017578125,607.2459716796875,610.5880126953125,608.8410034179688,608.0250244140625,607.0050048828125],\"x\":[\"2016-10-06T00:00:00+00:00\",\"2016-10-05T00:00:00+00:00\",\"2016-10-04T00:00:00+00:00\",\"2016-10-03T00:00:00+00:00\",\"2016-10-02T00:00:00+00:00\",\"2016-10-01T00:00:00+00:00\",\"2016-09-30T00:00:00+00:00\",\"2016-09-29T00:00:00+00:00\",\"2016-09-28T00:00:00+00:00\",\"2016-09-27T00:00:00+00:00\",\"2016-09-26T00:00:00+00:00\",\"2016-09-25T00:00:00+00:00\",\"2016-09-24T00:00:00+00:00\",\"2016-09-23T00:00:00+00:00\",\"2016-09-22T00:00:00+00:00\",\"2016-09-21T00:00:00+00:00\",\"2016-09-20T00:00:00+00:00\",\"2016-09-19T00:00:00+00:00\",\"2016-09-18T00:00:00+00:00\",\"2016-09-17T00:00:00+00:00\",\"2016-09-16T00:00:00+00:00\",\"2016-09-15T00:00:00+00:00\",\"2016-09-14T00:00:00+00:00\",\"2016-09-13T00:00:00+00:00\",\"2016-09-12T00:00:00+00:00\"],\"type\":\"candlestick\",\"xaxis\":\"x4\",\"yaxis\":\"y4\"},{\"close\":[800.8759765625,792.7139892578125,790.530029296875,790.8289794921875,784.906982421875,778.0880126953125,781.4810180664062,780.5560302734375,780.0869750976562,769.7310180664062,774.6500244140625,772.7940063476562,770.8099975585938,768.1320190429688,764.2239990234375,758.7000122070312,773.8720092773438,771.155029296875,777.9439697265625,756.7739868164062,745.6909790039062,735.60400390625,735.81298828125,732.0349731445312,735.3820190429688],\"high\":[801.3369750976562,793.6110229492188,794.7369995117188,792.5089721679688,785.031982421875,781.4349975585938,782.0339965820312,788.4600219726562,781.9219970703125,774.7979736328125,777.0919799804688,774.5280151367188,774.697998046875,771.5430297851562,765.6220092773438,773.468017578125,773.8720092773438,778.2479858398438,781.2960205078125,758.2750244140625,747.9290161132812,737.4710083007812,738.0059814453125,739.0180053710938,742.2139892578125],\"low\":[791.4970092773438,790.3200073242188,788.0260009765625,784.864013671875,778.9630126953125,777.802001953125,776.8389892578125,777.9619750976562,770.0399780273438,765.4119873046875,772.9099731445312,769.6489868164062,765.9459838867188,759.75,758.719970703125,751.7130126953125,768.1610107421875,764.8560180664062,757.5449829101562,746.0460205078125,736.2650146484375,734.5590209960938,732.4840087890625,731.0850219726562,729.625],\"open\":[792.2470092773438,790.6920166015625,791.0079956054688,785.166015625,778.9630126953125,780.0700073242188,780.0050048828125,780.64697265625,770.0399780273438,774.7520141601562,773.0230102539062,769.9439697265625,768.0759887695312,764.2109985351562,758.719970703125,773.3939819335938,771.6380004882812,778.2479858398438,757.5449829101562,746.0460205078125,736.2839965820312,736.3289794921875,732.4840087890625,735.43701171875,741.510986328125],\"x\":[\"2016-12-20T00:00:00+00:00\",\"2016-12-19T00:00:00+00:00\",\"2016-12-18T00:00:00+00:00\",\"2016-12-17T00:00:00+00:00\",\"2016-12-16T00:00:00+00:00\",\"2016-12-15T00:00:00+00:00\",\"2016-12-14T00:00:00+00:00\",\"2016-12-13T00:00:00+00:00\",\"2016-12-12T00:00:00+00:00\",\"2016-12-11T00:00:00+00:00\",\"2016-12-10T00:00:00+00:00\",\"2016-12-09T00:00:00+00:00\",\"2016-12-08T00:00:00+00:00\",\"2016-12-07T00:00:00+00:00\",\"2016-12-06T00:00:00+00:00\",\"2016-12-05T00:00:00+00:00\",\"2016-12-04T00:00:00+00:00\",\"2016-12-03T00:00:00+00:00\",\"2016-12-02T00:00:00+00:00\",\"2016-12-01T00:00:00+00:00\",\"2016-11-30T00:00:00+00:00\",\"2016-11-29T00:00:00+00:00\",\"2016-11-28T00:00:00+00:00\",\"2016-11-27T00:00:00+00:00\",\"2016-11-26T00:00:00+00:00\"],\"type\":\"candlestick\",\"xaxis\":\"x5\",\"yaxis\":\"y5\"}],                        {\"template\":{\"data\":{\"histogram2dcontour\":[{\"type\":\"histogram2dcontour\",\"colorbar\":{\"outlinewidth\":0,\"ticks\":\"\"},\"colorscale\":[[0.0,\"#0d0887\"],[0.1111111111111111,\"#46039f\"],[0.2222222222222222,\"#7201a8\"],[0.3333333333333333,\"#9c179e\"],[0.4444444444444444,\"#bd3786\"],[0.5555555555555556,\"#d8576b\"],[0.6666666666666666,\"#ed7953\"],[0.7777777777777778,\"#fb9f3a\"],[0.8888888888888888,\"#fdca26\"],[1.0,\"#f0f921\"]]}],\"choropleth\":[{\"type\":\"choropleth\",\"colorbar\":{\"outlinewidth\":0,\"ticks\":\"\"}}],\"histogram2d\":[{\"type\":\"histogram2d\",\"colorbar\":{\"outlinewidth\":0,\"ticks\":\"\"},\"colorscale\":[[0.0,\"#0d0887\"],[0.1111111111111111,\"#46039f\"],[0.2222222222222222,\"#7201a8\"],[0.3333333333333333,\"#9c179e\"],[0.4444444444444444,\"#bd3786\"],[0.5555555555555556,\"#d8576b\"],[0.6666666666666666,\"#ed7953\"],[0.7777777777777778,\"#fb9f3a\"],[0.8888888888888888,\"#fdca26\"],[1.0,\"#f0f921\"]]}],\"heatmap\":[{\"type\":\"heatmap\",\"colorbar\":{\"outlinewidth\":0,\"ticks\":\"\"},\"colorscale\":[[0.0,\"#0d0887\"],[0.1111111111111111,\"#46039f\"],[0.2222222222222222,\"#7201a8\"],[0.3333333333333333,\"#9c179e\"],[0.4444444444444444,\"#bd3786\"],[0.5555555555555556,\"#d8576b\"],[0.6666666666666666,\"#ed7953\"],[0.7777777777777778,\"#fb9f3a\"],[0.8888888888888888,\"#fdca26\"],[1.0,\"#f0f921\"]]}],\"heatmapgl\":[{\"type\":\"heatmapgl\",\"colorbar\":{\"outlinewidth\":0,\"ticks\":\"\"},\"colorscale\":[[0.0,\"#0d0887\"],[0.1111111111111111,\"#46039f\"],[0.2222222222222222,\"#7201a8\"],[0.3333333333333333,\"#9c179e\"],[0.4444444444444444,\"#bd3786\"],[0.5555555555555556,\"#d8576b\"],[0.6666666666666666,\"#ed7953\"],[0.7777777777777778,\"#fb9f3a\"],[0.8888888888888888,\"#fdca26\"],[1.0,\"#f0f921\"]]}],\"contourcarpet\":[{\"type\":\"contourcarpet\",\"colorbar\":{\"outlinewidth\":0,\"ticks\":\"\"}}],\"contour\":[{\"type\":\"contour\",\"colorbar\":{\"outlinewidth\":0,\"ticks\":\"\"},\"colorscale\":[[0.0,\"#0d0887\"],[0.1111111111111111,\"#46039f\"],[0.2222222222222222,\"#7201a8\"],[0.3333333333333333,\"#9c179e\"],[0.4444444444444444,\"#bd3786\"],[0.5555555555555556,\"#d8576b\"],[0.6666666666666666,\"#ed7953\"],[0.7777777777777778,\"#fb9f3a\"],[0.8888888888888888,\"#fdca26\"],[1.0,\"#f0f921\"]]}],\"surface\":[{\"type\":\"surface\",\"colorbar\":{\"outlinewidth\":0,\"ticks\":\"\"},\"colorscale\":[[0.0,\"#0d0887\"],[0.1111111111111111,\"#46039f\"],[0.2222222222222222,\"#7201a8\"],[0.3333333333333333,\"#9c179e\"],[0.4444444444444444,\"#bd3786\"],[0.5555555555555556,\"#d8576b\"],[0.6666666666666666,\"#ed7953\"],[0.7777777777777778,\"#fb9f3a\"],[0.8888888888888888,\"#fdca26\"],[1.0,\"#f0f921\"]]}],\"mesh3d\":[{\"type\":\"mesh3d\",\"colorbar\":{\"outlinewidth\":0,\"ticks\":\"\"}}],\"scatter\":[{\"fillpattern\":{\"fillmode\":\"overlay\",\"size\":10,\"solidity\":0.2},\"type\":\"scatter\"}],\"parcoords\":[{\"type\":\"parcoords\",\"line\":{\"colorbar\":{\"outlinewidth\":0,\"ticks\":\"\"}}}],\"scatterpolargl\":[{\"type\":\"scatterpolargl\",\"marker\":{\"colorbar\":{\"outlinewidth\":0,\"ticks\":\"\"}}}],\"bar\":[{\"error_x\":{\"color\":\"#2a3f5f\"},\"error_y\":{\"color\":\"#2a3f5f\"},\"marker\":{\"line\":{\"color\":\"#E5ECF6\",\"width\":0.5},\"pattern\":{\"fillmode\":\"overlay\",\"size\":10,\"solidity\":0.2}},\"type\":\"bar\"}],\"scattergeo\":[{\"type\":\"scattergeo\",\"marker\":{\"colorbar\":{\"outlinewidth\":0,\"ticks\":\"\"}}}],\"scatterpolar\":[{\"type\":\"scatterpolar\",\"marker\":{\"colorbar\":{\"outlinewidth\":0,\"ticks\":\"\"}}}],\"histogram\":[{\"marker\":{\"pattern\":{\"fillmode\":\"overlay\",\"size\":10,\"solidity\":0.2}},\"type\":\"histogram\"}],\"scattergl\":[{\"type\":\"scattergl\",\"marker\":{\"colorbar\":{\"outlinewidth\":0,\"ticks\":\"\"}}}],\"scatter3d\":[{\"type\":\"scatter3d\",\"line\":{\"colorbar\":{\"outlinewidth\":0,\"ticks\":\"\"}},\"marker\":{\"colorbar\":{\"outlinewidth\":0,\"ticks\":\"\"}}}],\"scattermapbox\":[{\"type\":\"scattermapbox\",\"marker\":{\"colorbar\":{\"outlinewidth\":0,\"ticks\":\"\"}}}],\"scatterternary\":[{\"type\":\"scatterternary\",\"marker\":{\"colorbar\":{\"outlinewidth\":0,\"ticks\":\"\"}}}],\"scattercarpet\":[{\"type\":\"scattercarpet\",\"marker\":{\"colorbar\":{\"outlinewidth\":0,\"ticks\":\"\"}}}],\"carpet\":[{\"aaxis\":{\"endlinecolor\":\"#2a3f5f\",\"gridcolor\":\"white\",\"linecolor\":\"white\",\"minorgridcolor\":\"white\",\"startlinecolor\":\"#2a3f5f\"},\"baxis\":{\"endlinecolor\":\"#2a3f5f\",\"gridcolor\":\"white\",\"linecolor\":\"white\",\"minorgridcolor\":\"white\",\"startlinecolor\":\"#2a3f5f\"},\"type\":\"carpet\"}],\"table\":[{\"cells\":{\"fill\":{\"color\":\"#EBF0F8\"},\"line\":{\"color\":\"white\"}},\"header\":{\"fill\":{\"color\":\"#C8D4E3\"},\"line\":{\"color\":\"white\"}},\"type\":\"table\"}],\"barpolar\":[{\"marker\":{\"line\":{\"color\":\"#E5ECF6\",\"width\":0.5},\"pattern\":{\"fillmode\":\"overlay\",\"size\":10,\"solidity\":0.2}},\"type\":\"barpolar\"}],\"pie\":[{\"automargin\":true,\"type\":\"pie\"}]},\"layout\":{\"autotypenumbers\":\"strict\",\"colorway\":[\"#636efa\",\"#EF553B\",\"#00cc96\",\"#ab63fa\",\"#FFA15A\",\"#19d3f3\",\"#FF6692\",\"#B6E880\",\"#FF97FF\",\"#FECB52\"],\"font\":{\"color\":\"#2a3f5f\"},\"hovermode\":\"closest\",\"hoverlabel\":{\"align\":\"left\"},\"paper_bgcolor\":\"white\",\"plot_bgcolor\":\"#E5ECF6\",\"polar\":{\"bgcolor\":\"#E5ECF6\",\"angularaxis\":{\"gridcolor\":\"white\",\"linecolor\":\"white\",\"ticks\":\"\"},\"radialaxis\":{\"gridcolor\":\"white\",\"linecolor\":\"white\",\"ticks\":\"\"}},\"ternary\":{\"bgcolor\":\"#E5ECF6\",\"aaxis\":{\"gridcolor\":\"white\",\"linecolor\":\"white\",\"ticks\":\"\"},\"baxis\":{\"gridcolor\":\"white\",\"linecolor\":\"white\",\"ticks\":\"\"},\"caxis\":{\"gridcolor\":\"white\",\"linecolor\":\"white\",\"ticks\":\"\"}},\"coloraxis\":{\"colorbar\":{\"outlinewidth\":0,\"ticks\":\"\"}},\"colorscale\":{\"sequential\":[[0.0,\"#0d0887\"],[0.1111111111111111,\"#46039f\"],[0.2222222222222222,\"#7201a8\"],[0.3333333333333333,\"#9c179e\"],[0.4444444444444444,\"#bd3786\"],[0.5555555555555556,\"#d8576b\"],[0.6666666666666666,\"#ed7953\"],[0.7777777777777778,\"#fb9f3a\"],[0.8888888888888888,\"#fdca26\"],[1.0,\"#f0f921\"]],\"sequentialminus\":[[0.0,\"#0d0887\"],[0.1111111111111111,\"#46039f\"],[0.2222222222222222,\"#7201a8\"],[0.3333333333333333,\"#9c179e\"],[0.4444444444444444,\"#bd3786\"],[0.5555555555555556,\"#d8576b\"],[0.6666666666666666,\"#ed7953\"],[0.7777777777777778,\"#fb9f3a\"],[0.8888888888888888,\"#fdca26\"],[1.0,\"#f0f921\"]],\"diverging\":[[0,\"#8e0152\"],[0.1,\"#c51b7d\"],[0.2,\"#de77ae\"],[0.3,\"#f1b6da\"],[0.4,\"#fde0ef\"],[0.5,\"#f7f7f7\"],[0.6,\"#e6f5d0\"],[0.7,\"#b8e186\"],[0.8,\"#7fbc41\"],[0.9,\"#4d9221\"],[1,\"#276419\"]]},\"xaxis\":{\"gridcolor\":\"white\",\"linecolor\":\"white\",\"ticks\":\"\",\"title\":{\"standoff\":15},\"zerolinecolor\":\"white\",\"automargin\":true,\"zerolinewidth\":2},\"yaxis\":{\"gridcolor\":\"white\",\"linecolor\":\"white\",\"ticks\":\"\",\"title\":{\"standoff\":15},\"zerolinecolor\":\"white\",\"automargin\":true,\"zerolinewidth\":2},\"scene\":{\"xaxis\":{\"backgroundcolor\":\"#E5ECF6\",\"gridcolor\":\"white\",\"linecolor\":\"white\",\"showbackground\":true,\"ticks\":\"\",\"zerolinecolor\":\"white\",\"gridwidth\":2},\"yaxis\":{\"backgroundcolor\":\"#E5ECF6\",\"gridcolor\":\"white\",\"linecolor\":\"white\",\"showbackground\":true,\"ticks\":\"\",\"zerolinecolor\":\"white\",\"gridwidth\":2},\"zaxis\":{\"backgroundcolor\":\"#E5ECF6\",\"gridcolor\":\"white\",\"linecolor\":\"white\",\"showbackground\":true,\"ticks\":\"\",\"zerolinecolor\":\"white\",\"gridwidth\":2}},\"shapedefaults\":{\"line\":{\"color\":\"#2a3f5f\"}},\"annotationdefaults\":{\"arrowcolor\":\"#2a3f5f\",\"arrowhead\":0,\"arrowwidth\":1},\"geo\":{\"bgcolor\":\"white\",\"landcolor\":\"#E5ECF6\",\"subunitcolor\":\"white\",\"showland\":true,\"showlakes\":true,\"lakecolor\":\"white\"},\"title\":{\"x\":0.05},\"mapbox\":{\"style\":\"light\"}}},\"xaxis\":{\"anchor\":\"y\",\"domain\":[0.0,0.45],\"rangeslider\":{\"visible\":false}},\"yaxis\":{\"anchor\":\"x\",\"domain\":[0.7333333333333333,1.0]},\"xaxis2\":{\"anchor\":\"y2\",\"domain\":[0.55,1.0],\"rangeslider\":{\"visible\":false}},\"yaxis2\":{\"anchor\":\"x2\",\"domain\":[0.7333333333333333,1.0]},\"xaxis3\":{\"anchor\":\"y3\",\"domain\":[0.0,0.45],\"rangeslider\":{\"visible\":false}},\"yaxis3\":{\"anchor\":\"x3\",\"domain\":[0.36666666666666664,0.6333333333333333]},\"xaxis4\":{\"anchor\":\"y4\",\"domain\":[0.55,1.0],\"rangeslider\":{\"visible\":false}},\"yaxis4\":{\"anchor\":\"x4\",\"domain\":[0.36666666666666664,0.6333333333333333]},\"xaxis5\":{\"anchor\":\"y5\",\"domain\":[0.0,0.45],\"rangeslider\":{\"visible\":false}},\"yaxis5\":{\"anchor\":\"x5\",\"domain\":[0.0,0.26666666666666666]},\"xaxis6\":{\"anchor\":\"y6\",\"domain\":[0.55,1.0]},\"yaxis6\":{\"anchor\":\"x6\",\"domain\":[0.0,0.26666666666666666]},\"shapes\":[{\"type\":\"line\",\"x0\":\"2016-09-13T00:00:00+00:00\",\"x1\":\"2016-09-13T00:00:00+00:00\",\"xref\":\"x2\",\"y0\":0,\"y1\":1,\"yref\":\"y2 domain\"},{\"type\":\"line\",\"x0\":\"2018-11-11T00:00:00+00:00\",\"x1\":\"2018-11-11T00:00:00+00:00\",\"xref\":\"x3\",\"y0\":0,\"y1\":1,\"yref\":\"y3 domain\"},{\"type\":\"line\",\"x0\":\"2016-10-06T00:00:00+00:00\",\"x1\":\"2016-10-06T00:00:00+00:00\",\"xref\":\"x4\",\"y0\":0,\"y1\":1,\"yref\":\"y4 domain\"},{\"type\":\"line\",\"x0\":\"2016-12-20T00:00:00+00:00\",\"x1\":\"2016-12-20T00:00:00+00:00\",\"xref\":\"x5\",\"y0\":0,\"y1\":1,\"yref\":\"y5 domain\"}],\"height\":1000,\"width\":1000},                        {\"responsive\": true}                    ).then(function(){\n",
       "                            \n",
       "var gd = document.getElementById('342ff118-9fc2-4a44-9d86-483250438066');\n",
       "var x = new MutationObserver(function (mutations, observer) {{\n",
       "        var display = window.getComputedStyle(gd).display;\n",
       "        if (!display || display === 'none') {{\n",
       "            console.log([gd, 'removed!']);\n",
       "            Plotly.purge(gd);\n",
       "            observer.disconnect();\n",
       "        }}\n",
       "}});\n",
       "\n",
       "// Listen for the removal of the full notebook cells\n",
       "var notebookContainer = gd.closest('#notebook-container');\n",
       "if (notebookContainer) {{\n",
       "    x.observe(notebookContainer, {childList: true});\n",
       "}}\n",
       "\n",
       "// Listen for the clearing of the current output cell\n",
       "var outputEl = gd.closest('.output');\n",
       "if (outputEl) {{\n",
       "    x.observe(outputEl, {childList: true});\n",
       "}}\n",
       "\n",
       "                        })                };                });            </script>        </div>"
      ]
     },
     "metadata": {},
     "output_type": "display_data"
    },
    {
     "data": {
      "text/html": [
       "<div>\n",
       "<style scoped>\n",
       "    .dataframe tbody tr th:only-of-type {\n",
       "        vertical-align: middle;\n",
       "    }\n",
       "\n",
       "    .dataframe tbody tr th {\n",
       "        vertical-align: top;\n",
       "    }\n",
       "\n",
       "    .dataframe thead th {\n",
       "        text-align: right;\n",
       "    }\n",
       "</style>\n",
       "<table border=\"1\" class=\"dataframe\">\n",
       "  <thead>\n",
       "    <tr style=\"text-align: right;\">\n",
       "      <th></th>\n",
       "      <th>time</th>\n",
       "      <th>change</th>\n",
       "      <th>Candle(1)</th>\n",
       "      <th>Candle(2)</th>\n",
       "      <th>Candle(3)</th>\n",
       "      <th>Candle(4)</th>\n",
       "      <th>Candle(5)</th>\n",
       "      <th>Candle(6)</th>\n",
       "      <th>Candle(7)</th>\n",
       "      <th>Candle(8)</th>\n",
       "      <th>...</th>\n",
       "      <th>Candle(15)</th>\n",
       "      <th>Candle(16)</th>\n",
       "      <th>Candle(17)</th>\n",
       "      <th>Candle(18)</th>\n",
       "      <th>Candle(19)</th>\n",
       "      <th>Candle(20)</th>\n",
       "      <th>Candle(21)</th>\n",
       "      <th>Candle(22)</th>\n",
       "      <th>Candle(23)</th>\n",
       "      <th>Candle(24)</th>\n",
       "    </tr>\n",
       "  </thead>\n",
       "  <tbody>\n",
       "    <tr>\n",
       "      <th>0</th>\n",
       "      <td>2022-12-18 00:00:00+00:00</td>\n",
       "      <td>-0.146956</td>\n",
       "      <td>0.889707</td>\n",
       "      <td>-4.129463</td>\n",
       "      <td>-2.519301</td>\n",
       "      <td>0.188864</td>\n",
       "      <td>3.341057</td>\n",
       "      <td>0.607733</td>\n",
       "      <td>-0.148967</td>\n",
       "      <td>-0.032077</td>\n",
       "      <td>...</td>\n",
       "      <td>-1.064133</td>\n",
       "      <td>0.707047</td>\n",
       "      <td>-1.170020</td>\n",
       "      <td>4.396892</td>\n",
       "      <td>1.401824</td>\n",
       "      <td>-1.355823</td>\n",
       "      <td>-0.116958</td>\n",
       "      <td>-0.346788</td>\n",
       "      <td>-0.484438</td>\n",
       "      <td>-0.043174</td>\n",
       "    </tr>\n",
       "    <tr>\n",
       "      <th>1</th>\n",
       "      <td>2022-12-17 00:00:00+00:00</td>\n",
       "      <td>0.889707</td>\n",
       "      <td>-4.129463</td>\n",
       "      <td>-2.519301</td>\n",
       "      <td>0.188864</td>\n",
       "      <td>3.341057</td>\n",
       "      <td>0.607733</td>\n",
       "      <td>-0.148967</td>\n",
       "      <td>-0.032077</td>\n",
       "      <td>-0.574485</td>\n",
       "      <td>...</td>\n",
       "      <td>0.707047</td>\n",
       "      <td>-1.170020</td>\n",
       "      <td>4.396892</td>\n",
       "      <td>1.401824</td>\n",
       "      <td>-1.355823</td>\n",
       "      <td>-0.116958</td>\n",
       "      <td>-0.346788</td>\n",
       "      <td>-0.484438</td>\n",
       "      <td>-0.043174</td>\n",
       "      <td>2.563156</td>\n",
       "    </tr>\n",
       "    <tr>\n",
       "      <th>2</th>\n",
       "      <td>2022-12-16 00:00:00+00:00</td>\n",
       "      <td>-4.129463</td>\n",
       "      <td>-2.519301</td>\n",
       "      <td>0.188864</td>\n",
       "      <td>3.341057</td>\n",
       "      <td>0.607733</td>\n",
       "      <td>-0.148967</td>\n",
       "      <td>-0.032077</td>\n",
       "      <td>-0.574485</td>\n",
       "      <td>2.291904</td>\n",
       "      <td>...</td>\n",
       "      <td>-1.170020</td>\n",
       "      <td>4.396892</td>\n",
       "      <td>1.401824</td>\n",
       "      <td>-1.355823</td>\n",
       "      <td>-0.116958</td>\n",
       "      <td>-0.346788</td>\n",
       "      <td>-0.484438</td>\n",
       "      <td>-0.043174</td>\n",
       "      <td>2.563156</td>\n",
       "      <td>2.581808</td>\n",
       "    </tr>\n",
       "    <tr>\n",
       "      <th>3</th>\n",
       "      <td>2022-12-15 00:00:00+00:00</td>\n",
       "      <td>-2.519301</td>\n",
       "      <td>0.188864</td>\n",
       "      <td>3.341057</td>\n",
       "      <td>0.607733</td>\n",
       "      <td>-0.148967</td>\n",
       "      <td>-0.032077</td>\n",
       "      <td>-0.574485</td>\n",
       "      <td>2.291904</td>\n",
       "      <td>-1.412439</td>\n",
       "      <td>...</td>\n",
       "      <td>4.396892</td>\n",
       "      <td>1.401824</td>\n",
       "      <td>-1.355823</td>\n",
       "      <td>-0.116958</td>\n",
       "      <td>-0.346788</td>\n",
       "      <td>-0.484438</td>\n",
       "      <td>-0.043174</td>\n",
       "      <td>2.563156</td>\n",
       "      <td>2.581808</td>\n",
       "      <td>-3.093319</td>\n",
       "    </tr>\n",
       "    <tr>\n",
       "      <th>4</th>\n",
       "      <td>2022-12-14 00:00:00+00:00</td>\n",
       "      <td>0.188864</td>\n",
       "      <td>3.341057</td>\n",
       "      <td>0.607733</td>\n",
       "      <td>-0.148967</td>\n",
       "      <td>-0.032077</td>\n",
       "      <td>-0.574485</td>\n",
       "      <td>2.291904</td>\n",
       "      <td>-1.412439</td>\n",
       "      <td>0.673131</td>\n",
       "      <td>...</td>\n",
       "      <td>1.401824</td>\n",
       "      <td>-1.355823</td>\n",
       "      <td>-0.116958</td>\n",
       "      <td>-0.346788</td>\n",
       "      <td>-0.484438</td>\n",
       "      <td>-0.043174</td>\n",
       "      <td>2.563156</td>\n",
       "      <td>2.581808</td>\n",
       "      <td>-3.093319</td>\n",
       "      <td>-2.519535</td>\n",
       "    </tr>\n",
       "    <tr>\n",
       "      <th>...</th>\n",
       "      <td>...</td>\n",
       "      <td>...</td>\n",
       "      <td>...</td>\n",
       "      <td>...</td>\n",
       "      <td>...</td>\n",
       "      <td>...</td>\n",
       "      <td>...</td>\n",
       "      <td>...</td>\n",
       "      <td>...</td>\n",
       "      <td>...</td>\n",
       "      <td>...</td>\n",
       "      <td>...</td>\n",
       "      <td>...</td>\n",
       "      <td>...</td>\n",
       "      <td>...</td>\n",
       "      <td>...</td>\n",
       "      <td>...</td>\n",
       "      <td>...</td>\n",
       "      <td>...</td>\n",
       "      <td>...</td>\n",
       "      <td>...</td>\n",
       "    </tr>\n",
       "    <tr>\n",
       "      <th>3010</th>\n",
       "      <td>2014-09-21 00:00:00+00:00</td>\n",
       "      <td>-2.270110</td>\n",
       "      <td>3.605767</td>\n",
       "      <td>-6.910351</td>\n",
       "      <td>-7.096262</td>\n",
       "      <td>-1.831006</td>\n",
       "      <td>0.000000</td>\n",
       "      <td>0.000000</td>\n",
       "      <td>0.000000</td>\n",
       "      <td>0.000000</td>\n",
       "      <td>...</td>\n",
       "      <td>0.000000</td>\n",
       "      <td>0.000000</td>\n",
       "      <td>0.000000</td>\n",
       "      <td>0.000000</td>\n",
       "      <td>0.000000</td>\n",
       "      <td>0.000000</td>\n",
       "      <td>0.000000</td>\n",
       "      <td>0.000000</td>\n",
       "      <td>0.000000</td>\n",
       "      <td>0.000000</td>\n",
       "    </tr>\n",
       "    <tr>\n",
       "      <th>3011</th>\n",
       "      <td>2014-09-20 00:00:00+00:00</td>\n",
       "      <td>3.605767</td>\n",
       "      <td>-6.910351</td>\n",
       "      <td>-7.096262</td>\n",
       "      <td>-1.831006</td>\n",
       "      <td>0.000000</td>\n",
       "      <td>0.000000</td>\n",
       "      <td>0.000000</td>\n",
       "      <td>0.000000</td>\n",
       "      <td>0.000000</td>\n",
       "      <td>...</td>\n",
       "      <td>0.000000</td>\n",
       "      <td>0.000000</td>\n",
       "      <td>0.000000</td>\n",
       "      <td>0.000000</td>\n",
       "      <td>0.000000</td>\n",
       "      <td>0.000000</td>\n",
       "      <td>0.000000</td>\n",
       "      <td>0.000000</td>\n",
       "      <td>0.000000</td>\n",
       "      <td>0.000000</td>\n",
       "    </tr>\n",
       "    <tr>\n",
       "      <th>3012</th>\n",
       "      <td>2014-09-19 00:00:00+00:00</td>\n",
       "      <td>-6.910351</td>\n",
       "      <td>-7.096262</td>\n",
       "      <td>-1.831006</td>\n",
       "      <td>0.000000</td>\n",
       "      <td>0.000000</td>\n",
       "      <td>0.000000</td>\n",
       "      <td>0.000000</td>\n",
       "      <td>0.000000</td>\n",
       "      <td>0.000000</td>\n",
       "      <td>...</td>\n",
       "      <td>0.000000</td>\n",
       "      <td>0.000000</td>\n",
       "      <td>0.000000</td>\n",
       "      <td>0.000000</td>\n",
       "      <td>0.000000</td>\n",
       "      <td>0.000000</td>\n",
       "      <td>0.000000</td>\n",
       "      <td>0.000000</td>\n",
       "      <td>0.000000</td>\n",
       "      <td>0.000000</td>\n",
       "    </tr>\n",
       "    <tr>\n",
       "      <th>3013</th>\n",
       "      <td>2014-09-18 00:00:00+00:00</td>\n",
       "      <td>-7.096262</td>\n",
       "      <td>-1.831006</td>\n",
       "      <td>0.000000</td>\n",
       "      <td>0.000000</td>\n",
       "      <td>0.000000</td>\n",
       "      <td>0.000000</td>\n",
       "      <td>0.000000</td>\n",
       "      <td>0.000000</td>\n",
       "      <td>0.000000</td>\n",
       "      <td>...</td>\n",
       "      <td>0.000000</td>\n",
       "      <td>0.000000</td>\n",
       "      <td>0.000000</td>\n",
       "      <td>0.000000</td>\n",
       "      <td>0.000000</td>\n",
       "      <td>0.000000</td>\n",
       "      <td>0.000000</td>\n",
       "      <td>0.000000</td>\n",
       "      <td>0.000000</td>\n",
       "      <td>0.000000</td>\n",
       "    </tr>\n",
       "    <tr>\n",
       "      <th>3014</th>\n",
       "      <td>2014-09-17 00:00:00+00:00</td>\n",
       "      <td>-1.831006</td>\n",
       "      <td>0.000000</td>\n",
       "      <td>0.000000</td>\n",
       "      <td>0.000000</td>\n",
       "      <td>0.000000</td>\n",
       "      <td>0.000000</td>\n",
       "      <td>0.000000</td>\n",
       "      <td>0.000000</td>\n",
       "      <td>0.000000</td>\n",
       "      <td>...</td>\n",
       "      <td>0.000000</td>\n",
       "      <td>0.000000</td>\n",
       "      <td>0.000000</td>\n",
       "      <td>0.000000</td>\n",
       "      <td>0.000000</td>\n",
       "      <td>0.000000</td>\n",
       "      <td>0.000000</td>\n",
       "      <td>0.000000</td>\n",
       "      <td>0.000000</td>\n",
       "      <td>0.000000</td>\n",
       "    </tr>\n",
       "  </tbody>\n",
       "</table>\n",
       "<p>3015 rows × 26 columns</p>\n",
       "</div>"
      ],
      "text/plain": [
       "                          time    change  Candle(1)  Candle(2)  Candle(3)  \\\n",
       "0    2022-12-18 00:00:00+00:00 -0.146956   0.889707  -4.129463  -2.519301   \n",
       "1    2022-12-17 00:00:00+00:00  0.889707  -4.129463  -2.519301   0.188864   \n",
       "2    2022-12-16 00:00:00+00:00 -4.129463  -2.519301   0.188864   3.341057   \n",
       "3    2022-12-15 00:00:00+00:00 -2.519301   0.188864   3.341057   0.607733   \n",
       "4    2022-12-14 00:00:00+00:00  0.188864   3.341057   0.607733  -0.148967   \n",
       "...                        ...       ...        ...        ...        ...   \n",
       "3010 2014-09-21 00:00:00+00:00 -2.270110   3.605767  -6.910351  -7.096262   \n",
       "3011 2014-09-20 00:00:00+00:00  3.605767  -6.910351  -7.096262  -1.831006   \n",
       "3012 2014-09-19 00:00:00+00:00 -6.910351  -7.096262  -1.831006   0.000000   \n",
       "3013 2014-09-18 00:00:00+00:00 -7.096262  -1.831006   0.000000   0.000000   \n",
       "3014 2014-09-17 00:00:00+00:00 -1.831006   0.000000   0.000000   0.000000   \n",
       "\n",
       "      Candle(4)  Candle(5)  Candle(6)  Candle(7)  Candle(8)  ...  Candle(15)  \\\n",
       "0      0.188864   3.341057   0.607733  -0.148967  -0.032077  ...   -1.064133   \n",
       "1      3.341057   0.607733  -0.148967  -0.032077  -0.574485  ...    0.707047   \n",
       "2      0.607733  -0.148967  -0.032077  -0.574485   2.291904  ...   -1.170020   \n",
       "3     -0.148967  -0.032077  -0.574485   2.291904  -1.412439  ...    4.396892   \n",
       "4     -0.032077  -0.574485   2.291904  -1.412439   0.673131  ...    1.401824   \n",
       "...         ...        ...        ...        ...        ...  ...         ...   \n",
       "3010  -1.831006   0.000000   0.000000   0.000000   0.000000  ...    0.000000   \n",
       "3011   0.000000   0.000000   0.000000   0.000000   0.000000  ...    0.000000   \n",
       "3012   0.000000   0.000000   0.000000   0.000000   0.000000  ...    0.000000   \n",
       "3013   0.000000   0.000000   0.000000   0.000000   0.000000  ...    0.000000   \n",
       "3014   0.000000   0.000000   0.000000   0.000000   0.000000  ...    0.000000   \n",
       "\n",
       "      Candle(16)  Candle(17)  Candle(18)  Candle(19)  Candle(20)  Candle(21)  \\\n",
       "0       0.707047   -1.170020    4.396892    1.401824   -1.355823   -0.116958   \n",
       "1      -1.170020    4.396892    1.401824   -1.355823   -0.116958   -0.346788   \n",
       "2       4.396892    1.401824   -1.355823   -0.116958   -0.346788   -0.484438   \n",
       "3       1.401824   -1.355823   -0.116958   -0.346788   -0.484438   -0.043174   \n",
       "4      -1.355823   -0.116958   -0.346788   -0.484438   -0.043174    2.563156   \n",
       "...          ...         ...         ...         ...         ...         ...   \n",
       "3010    0.000000    0.000000    0.000000    0.000000    0.000000    0.000000   \n",
       "3011    0.000000    0.000000    0.000000    0.000000    0.000000    0.000000   \n",
       "3012    0.000000    0.000000    0.000000    0.000000    0.000000    0.000000   \n",
       "3013    0.000000    0.000000    0.000000    0.000000    0.000000    0.000000   \n",
       "3014    0.000000    0.000000    0.000000    0.000000    0.000000    0.000000   \n",
       "\n",
       "      Candle(22)  Candle(23)  Candle(24)  \n",
       "0      -0.346788   -0.484438   -0.043174  \n",
       "1      -0.484438   -0.043174    2.563156  \n",
       "2      -0.043174    2.563156    2.581808  \n",
       "3       2.563156    2.581808   -3.093319  \n",
       "4       2.581808   -3.093319   -2.519535  \n",
       "...          ...         ...         ...  \n",
       "3010    0.000000    0.000000    0.000000  \n",
       "3011    0.000000    0.000000    0.000000  \n",
       "3012    0.000000    0.000000    0.000000  \n",
       "3013    0.000000    0.000000    0.000000  \n",
       "3014    0.000000    0.000000    0.000000  \n",
       "\n",
       "[3015 rows x 26 columns]"
      ]
     },
     "execution_count": 18,
     "metadata": {},
     "output_type": "execute_result"
    }
   ],
   "source": [
    "# PARAM WINDOW BEGIN ----------------------------\n",
    "\n",
    "# What stock/currency/comod you want to see?\n",
    "ticker_str = \"BTC-USD\"\n",
    "\n",
    "# What is the time interval you want to work with?\n",
    "interval_str = \"1D\"\n",
    "\n",
    "# How many candle sticks you want to look into? (As increases, the similarity will decrease with a high chance)\n",
    "window_size = 15\n",
    "\n",
    "# How many results you want to retrieve (as increases, the quality decreases)?\n",
    "closest_n = 5\n",
    "\n",
    "# Input pattern index: If set to 0, start tracingback from the most recent bar. If you increase the value,\n",
    "# you will start tracingback from the n newest bar.\n",
    "input_pattern_index = 0\n",
    "\n",
    "# Do you want to see what happened after the pattern you inputted happened in other times? \n",
    "# Advice: To check the quality of results, set to False. If you like it, then set it to true without changing anything else\n",
    "# and see what happened afterwards in those times.\n",
    "see_future = False\n",
    "\n",
    "# PARAM WINDOW END ------------------------------\n",
    "\n",
    "\n",
    "\n",
    "df, change_df = get_data(ticker = ticker_str, interval = interval_str)\n",
    "\n",
    "\n",
    "embeddings, change_df = alter_df(change_df, window_size)\n",
    "\n",
    "vector_size = len(embeddings[0])\n",
    "\n",
    "visualize_patterns(input_pattern_index,\n",
    "                   window_size,\n",
    "                   closest_n,\n",
    "                   future = see_future)\n",
    "\n",
    "change_df\n"
   ]
  },
  {
   "cell_type": "code",
   "execution_count": null,
   "id": "aa9c488e",
   "metadata": {},
   "outputs": [],
   "source": []
  }
 ],
 "metadata": {
  "kernelspec": {
   "display_name": "Python 3 (ipykernel)",
   "language": "python",
   "name": "python3"
  },
  "language_info": {
   "codemirror_mode": {
    "name": "ipython",
    "version": 3
   },
   "file_extension": ".py",
   "mimetype": "text/x-python",
   "name": "python",
   "nbconvert_exporter": "python",
   "pygments_lexer": "ipython3",
   "version": "3.9.12"
  }
 },
 "nbformat": 4,
 "nbformat_minor": 5
}
