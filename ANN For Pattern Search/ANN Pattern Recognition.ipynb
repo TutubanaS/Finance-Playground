{
 "cells": [
  {
   "cell_type": "markdown",
   "id": "d07f2b78",
   "metadata": {},
   "source": [
    "## Approximate Nearest Neighbours for Stock Market Pattern Search/Recognition\n",
    "The purpose of this notebook is to identify candlestick patterns in the stock market that are similar to a given input pattern using approximate nearest neighbor algorithms. There are helper functions defined and all of them are used in the last cell.\n"
   ]
  },
  {
   "cell_type": "markdown",
   "id": "3d6cb924",
   "metadata": {},
   "source": [
    "### Import Libraries\n",
    "* Pandas: For Dataframes and Data Management\n",
    "* Annoy: For Vector Similarity Search\n",
    "* Yahoo Finances: For Data Retrivial\n",
    "* Plotly: For Visualizations"
   ]
  },
  {
   "cell_type": "code",
   "execution_count": 1,
   "id": "4c7ecb43",
   "metadata": {},
   "outputs": [],
   "source": [
    "#!pip install yfinance"
   ]
  },
  {
   "cell_type": "code",
   "execution_count": 2,
   "id": "04c8c153",
   "metadata": {},
   "outputs": [],
   "source": [
    "import pandas as pd\n",
    "\n",
    "from annoy import AnnoyIndex\n",
    "\n",
    "#import investpy\n",
    "import yfinance as yf\n",
    "\n",
    "import plotly.graph_objects as go\n",
    "import plotly.express as py\n",
    "from plotly.subplots import make_subplots"
   ]
  },
  {
   "cell_type": "markdown",
   "id": "25528eec",
   "metadata": {},
   "source": [
    "#### Data Retrivial with Yahoo Finance\n",
    "The get_data function retrieves stock market data for a given ticker (i.e. a specific stock or index) and time interval. \n",
    "\n",
    "After the retrivial, the function processes the data by sorting it from newest to oldest, removing the \"Volume\" and \"Adj Close\" columns, resetting the index, and renaming the columns to \"time\", \"open\", \"high\", \"low\", and \"close\". \n",
    "\n",
    "It also calculates the daily change in the stock price by dividing the difference between the closing and opening prices by the opening price, multiplying by 10000, and expressing the result as a percentage.\n",
    "\n",
    "The function returns two dataframes: one containing the raw data and one containing the time and change data."
   ]
  },
  {
   "cell_type": "code",
   "execution_count": 3,
   "id": "3a1ce266",
   "metadata": {},
   "outputs": [],
   "source": [
    "def get_data(ticker: str, interval: str):\n",
    "    \"\"\"\n",
    "    ticker = \n",
    "    interval = \n",
    "    \"\"\"\n",
    "\n",
    "    df = yf.download(  # or pdr.get_data_yahoo(...\n",
    "        # tickers list or string as well\n",
    "        tickers = ticker,\n",
    "\n",
    "        # use \"period\" instead of start/end\n",
    "        # valid periods: 1d,5d,1mo,3mo,6mo,1y,2y,5y,10y,ytd,max\n",
    "        # (optional, default is '1mo')\n",
    "        period = \"10y\",\n",
    "\n",
    "        # fetch data by interval (including intraday if period < 60 days)\n",
    "        # valid intervals: 1m,2m,5m,15m,30m,60m,90m,1h,1d,5d,1wk,1mo,3mo\n",
    "        # (optional, default is '1d')\n",
    "        interval = interval,\n",
    "\n",
    "        # Whether to ignore timezone when aligning ticker data from \n",
    "        # different timezones. Default is True. False may be useful for \n",
    "        # minute/hourly data.\n",
    "        ignore_tz = False,\n",
    "\n",
    "        # group by ticker (to access via data['SPY'])\n",
    "        # (optional, default is 'column')\n",
    "        group_by = 'column',\n",
    "\n",
    "        # adjust all OHLC automatically\n",
    "        # (optional, default is False)\n",
    "        auto_adjust = False,\n",
    "\n",
    "        # identify and attempt repair of currency unit mixups e.g. $/cents\n",
    "        repair = False,\n",
    "\n",
    "        # download pre/post regular market hours data\n",
    "        # (optional, default is False)\n",
    "        prepost = False,\n",
    "\n",
    "        # use threads for mass downloading? (True/False/Integer)\n",
    "        # (optional, default is True)\n",
    "        threads = True,\n",
    "\n",
    "        # proxy URL scheme use use when downloading?\n",
    "        # (optional, default is None)\n",
    "        proxy = None\n",
    "    )\n",
    "\n",
    "    # Sort it from newest bar to oldest bar\n",
    "    df = df.iloc[::-1]\n",
    "    df = df.drop([\"Volume\", \"Adj Close\"], axis = 1)\n",
    "    df = df.reset_index()\n",
    "    df.columns = [\"time\", \"open\", \"high\", \"low\", \"close\"]\n",
    "\n",
    "    # Calculate the daily change\n",
    "    df[\"change\"] = ( (df.close - df.open) / (df.open * 100) ) * 10000\n",
    "\n",
    "\n",
    "    # finalize the change dataframe\n",
    "    change_df = df[[\"time\", \"change\"]].reset_index().drop([\"index\"], axis=1).copy()\n",
    "    \n",
    "    return df, change_df"
   ]
  },
  {
   "cell_type": "markdown",
   "id": "0c31b3d6",
   "metadata": {},
   "source": [
    "#### Making the data ready for ANN algorithms\n",
    "\n",
    "The __alter_df__ function modifies a dataframe containing stock market data and generates a list of embeddings based on that data."
   ]
  },
  {
   "cell_type": "code",
   "execution_count": 4,
   "id": "23adc101",
   "metadata": {},
   "outputs": [],
   "source": [
    "# Add previous bars to the most recent bar in the list for the window of window size\n",
    "def alter_df(change_df, window_size):\n",
    "    change_list = change_df[\"change\"].tolist()\n",
    "    \n",
    "    # Move elements in the list by 1\n",
    "    for i in range(window_size-1):\n",
    "        change_list.pop(0)\n",
    "        change_list.append(0)\n",
    "        \n",
    "        # Assign a column name\n",
    "        change_df[\"Candle(\" + str(i+1) +\")\"] = change_list\n",
    "    \n",
    "    # Create a list of embeddings\n",
    "    embeddings = change_df.drop(\"time\", axis=1).values.tolist()\n",
    "    \n",
    "    # Get rid of the Null Values\n",
    "    for i in range(window_size-1):\n",
    "        embeddings.pop()\n",
    "        \n",
    "    return embeddings, change_df"
   ]
  },
  {
   "cell_type": "markdown",
   "id": "1f0f79f0",
   "metadata": {},
   "source": [
    "#### Retrieving/Reconstructing the Patterns\n",
    "\n",
    "The __get_pattern_df__ function generates a dataframe containing a specified number of candlestick patterns from a larger dataset. \n",
    "\n",
    "The function takes three arguments: \n",
    "* check_for, an integer representing the index of the candlestick pattern to check for\n",
    "* window_size, an integer specifying the number of previous or future bars to include in the dataframe\n",
    "* future, a boolean value indicating whether to include future bars in the dataframe.\n",
    "\n",
    "If future is set to __True__, the function will retrieve __window_size__ bars from the past and __window_size__ bars from the future, if available in the dataset. If future is False or not specified, the function will retrieve only window_size bars from the past. To check the quality of the results, keep it false. Otherwise it will be difficult to say if they are close enough or not.\n",
    "\n",
    "The function generates a list of candlestick patterns by iterating over a range of values and appending the appropriate rows from the input dataset to the list. The list is then converted to a dataframe and returned by the function."
   ]
  },
  {
   "cell_type": "code",
   "execution_count": 5,
   "id": "c3b41f3e",
   "metadata": {},
   "outputs": [],
   "source": [
    "def get_pattern_df(check_for: int, window_size: int, future: bool = False):\n",
    "    \n",
    "    \"\"\"\n",
    "    check_for: int -> Check for the candle stick at index = check_for from the data frame df\n",
    "    window_size: int -> Look into past 'window_size' bars. If 20, return 20 previous bars.\n",
    "    future: bool -> Look into future 'window_size' bars if checked. It will return additional bars if available in the dataset.\n",
    "    \n",
    "    Return the dataframe of candlesticks which belongs to the inputted pattern.\n",
    "    \"\"\"\n",
    "    \n",
    "    # Returned indexes from Annoy\n",
    "    candles_list = []\n",
    "    \n",
    "    # If the user wants to see future bars as well, future must be True\n",
    "    if future:\n",
    "        # Return future window_size bars\n",
    "        for i in range(window_size*2, 0, -1):\n",
    "            candles_list.append(df.iloc[check_for])\n",
    "            check_for -= 1\n",
    "            \n",
    "        check_for += window_size*2\n",
    "            \n",
    "    # Return past window_size bars\n",
    "    for i in range(window_size):\n",
    "        candles_list.append(df.iloc[check_for])\n",
    "        check_for += 1\n",
    "    \n",
    "    \n",
    "    return pd.DataFrame(candles_list)"
   ]
  },
  {
   "cell_type": "markdown",
   "id": "fe5b17e7",
   "metadata": {},
   "source": [
    "### Execute ANN and Visualize the Data\n",
    "\n",
    "The __visualize_patterns__ function uses the __plotly__ library to generate a graph of candlestick patterns from a given dataset. \n",
    "\n",
    "The function takes four arguments:\n",
    "* main, an integer representing the index of the candlestick pattern to use as the main graph;\n",
    "* window_size, explained above;\n",
    "* closest_n, an integer specifying the number of patterns to include in the graph;\n",
    "* future, explained above. \n",
    "\n",
    "### ANN: ANNOY by Spotify\n",
    "The function first uses the AnnoyIndex method from the __annoy__ library to create an index of the candlestick patterns in the dataset, using the __manhattan__ distance metric. It then calls the __get_nns_by_vector__ method on the index to retrieve the indices of the closest_n patterns that are most similar to the main pattern. The function removes the main pattern from the list of indices if it is present. \n",
    "\n",
    "It then generates a main graph of the main pattern using the __get_pattern_df__ function and __go.Candlestick__ from plotly. It also generates subgraphs of the closest patterns using the same methods. Finally, it uses the make_subplots and update_layout functions from plotly to arrange the main and subgraphs in a grid and adjust the layout of the overall graph. The function displays the graph using the show method."
   ]
  },
  {
   "cell_type": "code",
   "execution_count": 6,
   "id": "3a793fea",
   "metadata": {},
   "outputs": [],
   "source": [
    "def visualize_patterns(main: int,\n",
    "                       window_size: int,\n",
    "                       closest_n: int,\n",
    "                       future: bool = False) -> None:\n",
    "    \"\"\"\n",
    "    main: The index of the candle stick where it is the newest bar of the input pattern \n",
    "    window_size: Length of the input pattern.\n",
    "    closest_n: return closest n patterns\n",
    "    future: Set it to true to see future patterns if available\n",
    "    \n",
    "    With plotly, visualize the price graph through candlesticks.\n",
    "    'Main' is the first subgraph, and the closest ones to the main graph are other subgraphs.\n",
    "    \"\"\"\n",
    "    \n",
    "    vector_size = len(embeddings[0])\n",
    "\n",
    "    t = AnnoyIndex(vector_size, 'manhattan')\n",
    "    for i in range(len(embeddings)):\n",
    "        t.add_item(i, embeddings[i])\n",
    "\n",
    "    t.build(1000)\n",
    "    \n",
    "    nearest_neighs = t.get_nns_by_vector(embeddings[main], closest_n)\n",
    "\n",
    "    # Remove the duplicates of main bar\n",
    "    if main in nearest_neighs:\n",
    "        nearest_neighs.remove(main)\n",
    "        \n",
    "    # Get the pattern of the inputted chart\n",
    "    df_pattern_main = get_pattern_df(main, window_size)\n",
    "    \n",
    "    # Create the subgraph spots for down below\n",
    "    fig = make_subplots(len(nearest_neighs)//2 + 1, cols=2)\n",
    "\n",
    "    # Print the main graph\n",
    "    row_i, col_i = 1, 1\n",
    "    fig.add_trace( go.Candlestick(\n",
    "                    x=df_pattern_main['time'],\n",
    "                    open=df_pattern_main['open'],\n",
    "                    high=df_pattern_main['high'],\n",
    "                    low=df_pattern_main['low'],\n",
    "                    close=df_pattern_main['close']),\n",
    "                    row=1, col=1\n",
    "                  )\n",
    "    \n",
    "    fig.update_xaxes(rangeslider= {'visible':False}, row=1, col=1)\n",
    "    \n",
    "    \n",
    "    \n",
    "    col_i += 1\n",
    "    # Print the closest charts in the form of subgraphs\n",
    "    for i in nearest_neighs:\n",
    "        df_pattern_next = get_pattern_df(i, window_size, future)\n",
    "        fig.add_trace( \n",
    "            go.Candlestick(\n",
    "                x=df_pattern_next['time'],\n",
    "                open=df_pattern_next['open'],\n",
    "                high=df_pattern_next['high'],\n",
    "                low=df_pattern_next['low'],\n",
    "                close=df_pattern_next['close']\n",
    "            ),\n",
    "            row=row_i, col=col_i\n",
    "        )\n",
    "        if future:\n",
    "            fig.add_vline(x = df_pattern_next[\"time\"].iloc[window_size*2], row=row_i, col=col_i)\n",
    "        else:\n",
    "            fig.add_vline(x = df_pattern_next[\"time\"].iloc[0], row=row_i, col=col_i)\n",
    "            \n",
    "        fig.update_xaxes(rangeslider= {'visible':False}, row=row_i, col=col_i)\n",
    "        \n",
    "        col_i = (col_i%2) + 1\n",
    "        row_i = row_i + 1 if col_i == 1 else row_i\n",
    "        \n",
    "            \n",
    "\n",
    "\n",
    "    fig.update_layout(height=1000, width=1000, xaxis_rangeslider_visible=False)\n",
    "    fig.show()"
   ]
  },
  {
   "cell_type": "markdown",
   "id": "a696cc01",
   "metadata": {},
   "source": [
    "#### Putting it all together\n",
    "Edit in between the __PARAM WINDOW__ brackets. Check the ticker on yahoo finance. As default, it is BTC-USD but you can change to anything. It mainly works best for crypto since yesterday's close is today's open. Read the comments in between the __PARAM WINDOW__ and edit accordingly."
   ]
  },
  {
   "cell_type": "code",
   "execution_count": 20,
   "id": "20a84672",
   "metadata": {},
   "outputs": [
    {
     "name": "stdout",
     "output_type": "stream",
     "text": [
      "[*********************100%***********************]  1 of 1 completed\n"
     ]
    },
    {
     "data": {
      "application/vnd.plotly.v1+json": {
       "config": {
        "plotlyServerURL": "https://plot.ly"
       },
       "data": [
        {
         "close": [
          123.1500015258789,
          125.3499984741211,
          137.57000732421875,
          137.8000030517578,
          149.8699951171875,
          150.22999572753906,
          157.6699981689453,
          156.8000030517578,
          160.9499969482422,
          167.82000732421875,
          179.0500030517578,
          173.44000244140625,
          174.0399932861328,
          179.82000732421875,
          182.4499969482422,
          194.86000061035156,
          194.6999969482422,
          194.6999969482422,
          180.8300018310547,
          182.9199981689453,
          182.86000061035156,
          183.1999969482422,
          169.91000366210938,
          167.8699951171875,
          180.19000244140625
         ],
         "high": [
          128.6199951171875,
          136.6300048828125,
          141.25999450683594,
          148.47000122070312,
          155.25,
          160.99000549316406,
          160.92999267578125,
          161.6199951171875,
          175.0500030517578,
          177.3699951171875,
          182.5,
          175.1999969482422,
          179.3800048828125,
          183.64999389648438,
          191.27000427246094,
          196.25,
          198.9199981689453,
          194.75999450683594,
          186.3800048828125,
          188.5,
          185.1999969482422,
          183.6199951171875,
          170.9199981689453,
          176.77000427246094,
          185.19000244140625
         ],
         "low": [
          121.0199966430664,
          122.26000213623047,
          135.88999938964844,
          137.66000366210938,
          145.82000732421875,
          150.0399932861328,
          153.27999877929688,
          155.30999755859375,
          156.91000366210938,
          167.52000427246094,
          173.36000061035156,
          169.05999755859375,
          172.22000122070312,
          175.3300018310547,
          180.5500030517578,
          191.11000061035156,
          191.8000030517578,
          180.6300048828125,
          178.75,
          179,
          180.6300048828125,
          172.5,
          166.19000244140625,
          167.5399932861328,
          176.5500030517578
         ],
         "open": [
          126.37000274658203,
          136,
          139.33999633789062,
          146.0500030517578,
          154,
          159.63999938964844,
          153.44000244140625,
          159.25,
          174.8699951171875,
          176.10000610351562,
          173.83999633789062,
          172.1999969482422,
          175.02999877929688,
          181.22000122070312,
          189.44000244140625,
          191.77999877929688,
          197.0800018310547,
          182.42999267578125,
          184.99000549316406,
          179.9600067138672,
          185.05999755859375,
          173.57000732421875,
          168.6300048828125,
          175.85000610351562,
          185.0500030517578
         ],
         "type": "candlestick",
         "x": [
          "2022-12-23T00:00:00-05:00",
          "2022-12-22T00:00:00-05:00",
          "2022-12-21T00:00:00-05:00",
          "2022-12-20T00:00:00-05:00",
          "2022-12-19T00:00:00-05:00",
          "2022-12-16T00:00:00-05:00",
          "2022-12-15T00:00:00-05:00",
          "2022-12-14T00:00:00-05:00",
          "2022-12-13T00:00:00-05:00",
          "2022-12-12T00:00:00-05:00",
          "2022-12-09T00:00:00-05:00",
          "2022-12-08T00:00:00-05:00",
          "2022-12-07T00:00:00-05:00",
          "2022-12-06T00:00:00-05:00",
          "2022-12-05T00:00:00-05:00",
          "2022-12-02T00:00:00-05:00",
          "2022-12-01T00:00:00-05:00",
          "2022-11-30T00:00:00-05:00",
          "2022-11-29T00:00:00-05:00",
          "2022-11-28T00:00:00-05:00",
          "2022-11-25T00:00:00-05:00",
          "2022-11-23T00:00:00-05:00",
          "2022-11-22T00:00:00-05:00",
          "2022-11-21T00:00:00-05:00",
          "2022-11-18T00:00:00-05:00"
         ],
         "xaxis": "x",
         "yaxis": "y"
        },
        {
         "close": [
          14.197333335876465,
          13.821332931518555,
          14.157999992370605,
          13.896666526794434,
          14.464667320251465,
          15.352666854858398,
          15.026666641235352,
          14.148667335510254,
          13.834667205810547,
          14.36400032043457,
          14.461999893188477,
          13.612667083740234,
          13.585332870483398,
          13.206000328063965,
          12.927332878112793,
          13.27400016784668,
          13.208000183105469,
          13.625332832336426,
          14.576000213623047,
          13.866000175476074,
          13.857333183288574,
          13.323332786560059,
          13.234000205993652,
          13.79466724395752,
          13.859333038330078,
          13.84866714477539,
          14.060667037963867,
          14.440667152404785,
          13.8186674118042,
          13.423333168029785,
          11.906000137329102,
          12.150667190551758,
          12.311332702636719,
          12.677332878112793,
          12.708000183105469,
          12.572667121887207,
          12.77066707611084,
          13.072667121887207,
          13.020000457763672,
          13.296667098999023,
          13.658666610717773,
          13.819999694824219,
          14.104000091552734,
          14.015999794006348,
          14.015999794006348,
          13.851332664489746,
          13.646666526794434,
          13.662667274475098,
          13.599332809448242,
          13.793333053588867,
          14.197333335876465,
          14.696000099182129,
          14.678000450134277,
          15.259332656860352,
          15.660667419433594,
          15.72266674041748,
          16.002666473388672,
          15.59866714477539,
          15.39799976348877,
          15.852666854858398,
          16.099332809448242,
          15.62733268737793,
          15.922666549682617,
          16.413999557495117,
          16.862667083740234,
          16.8439998626709,
          16.98933219909668,
          16.70400047302246,
          16.320667266845703,
          16.836000442504883,
          16.866666793823242,
          16.53333282470703,
          14.510000228881836,
          13.973333358764648,
          13.998000144958496
         ],
         "high": [
          14.84000015258789,
          14.239999771118164,
          14.447999954223633,
          14.449999809265137,
          14.543999671936035,
          15.392666816711426,
          15.715332984924316,
          15.218000411987305,
          14.41333293914795,
          14.432666778564453,
          14.563332557678223,
          14.5,
          13.800000190734863,
          13.895999908447266,
          13.28600025177002,
          13.332667350769043,
          13.486000061035156,
          13.74666690826416,
          14.621999740600586,
          14.449333190917969,
          14.186667442321777,
          13.779999732971191,
          13.586000442504883,
          13.8100004196167,
          13.87733268737793,
          14.267999649047852,
          14.090666770935059,
          14.512666702270508,
          14.577333450317383,
          14.013333320617676,
          12.960000038146973,
          12.226667404174805,
          12.47933292388916,
          12.755999565124512,
          12.898667335510254,
          12.843999862670898,
          12.802666664123535,
          13.12600040435791,
          13.288666725158691,
          13.324666976928711,
          13.791999816894531,
          13.850666999816895,
          14.258000373840332,
          14.184666633605957,
          14.166000366210938,
          14.319999694824219,
          13.956666946411133,
          13.866666793823242,
          13.750666618347168,
          13.946666717529297,
          14.84000015258789,
          15.136667251586914,
          15.326666831970215,
          15.74666690826416,
          15.949999809265137,
          16.10333251953125,
          16.100000381469727,
          15.862000465393066,
          15.795999526977539,
          16.279333114624023,
          16.5,
          16.30666732788086,
          16.200000762939453,
          16.989999771118164,
          17.166667938232422,
          17.132667541503906,
          17.333332061767578,
          16.77666664123535,
          16.845333099365234,
          17.459999084472656,
          17.666667938232422,
          17.280000686645508,
          14.557332992553711,
          14.26533317565918,
          14.347332954406738
         ],
         "low": [
          14.09000015258789,
          13.533332824707031,
          14.017999649047852,
          13.759332656860352,
          13.905332565307617,
          14.536666870117188,
          14.800000190734863,
          14.083333015441895,
          13.567333221435547,
          13.761333465576172,
          14.059332847595215,
          13.586000442504883,
          13.239999771118164,
          12.96066665649414,
          12.288000106811523,
          12.721332550048828,
          12.938667297363281,
          12.933333396911621,
          13.667332649230957,
          13.800000190734863,
          13.546667098999023,
          13.176667213439941,
          12.699999809265137,
          13.035332679748535,
          13.41866683959961,
          13.712667465209961,
          13.767999649047852,
          13.90133285522461,
          13.789999961853027,
          13.149999618530273,
          11.866666793823242,
          11.814666748046875,
          11.991999626159668,
          12.199999809265137,
          12.473333358764648,
          12.353333473205566,
          12.514666557312012,
          12.666666984558105,
          12.871333122253418,
          12.986000061035156,
          13.303999900817871,
          13.5,
          13.846667289733887,
          13.684000015258789,
          13.847999572753906,
          13.8013334274292,
          13.444666862487793,
          13.505999565124512,
          13.359999656677246,
          13.603333473205566,
          14.09000015258789,
          14.526666641235352,
          14.017999649047852,
          15.166666984558105,
          15.557332992553711,
          15.567333221435547,
          15.668000221252441,
          15.366666793823242,
          15.221332550048828,
          15.600000381469727,
          15.407333374023438,
          15.495332717895508,
          15.737333297729492,
          16.29400062561035,
          16.6299991607666,
          16.786666870117188,
          16.85533332824707,
          15.666000366210938,
          16.170000076293945,
          16.55533218383789,
          16.5,
          15.229999542236328,
          13.887999534606934,
          13.946000099182129,
          13.751333236694336
         ],
         "open": [
          14.796667098999023,
          14.157999992370605,
          14.186667442321777,
          14.433333396911621,
          13.934666633605957,
          14.666666984558105,
          15.353333473205566,
          15.067333221435547,
          13.720666885375977,
          14.00333309173584,
          14.450667381286621,
          14.454667091369629,
          13.37399959564209,
          13.84000015258789,
          13.272666931152344,
          13.133333206176758,
          13.307332992553711,
          13.138667106628418,
          13.757332801818848,
          14.42199993133545,
          14.053999900817871,
          13.466667175292969,
          13.333333015441895,
          13.21399974822998,
          13.573332786560059,
          13.805333137512207,
          13.90666675567627,
          13.965332984924316,
          14.4399995803833,
          13.97599983215332,
          12.133333206176758,
          11.990667343139648,
          12.258000373840332,
          12.250666618347168,
          12.596667289733887,
          12.665332794189453,
          12.596667289733887,
          12.714667320251465,
          13.129332542419434,
          13.078666687011719,
          13.356666564941406,
          13.635333061218262,
          13.90133285522461,
          14.001333236694336,
          14.038000106811523,
          14.020000457763672,
          13.821999549865723,
          13.565999984741211,
          13.623332977294922,
          13.631333351135254,
          14.796667098999023,
          14.942667007446289,
          15.316666603088379,
          15.73466682434082,
          15.744000434875488,
          16.092666625976562,
          15.796667098999023,
          15.66333293914795,
          15.685999870300293,
          16.252666473388672,
          15.433333396911621,
          15.766667366027832,
          16.18000030517578,
          16.862667083740234,
          16.94266700744629,
          17.114667892456055,
          17.23200035095215,
          15.817333221435547,
          16.643333435058594,
          17.416667938232422,
          17.238666534423828,
          15.333333015441895,
          13.917332649230957,
          14.109333038330078,
          14.333999633789062
         ],
         "type": "candlestick",
         "x": [
          "2014-03-26T00:00:00-04:00",
          "2014-03-27T00:00:00-04:00",
          "2014-03-28T00:00:00-04:00",
          "2014-03-31T00:00:00-04:00",
          "2014-04-01T00:00:00-04:00",
          "2014-04-02T00:00:00-04:00",
          "2014-04-03T00:00:00-04:00",
          "2014-04-04T00:00:00-04:00",
          "2014-04-07T00:00:00-04:00",
          "2014-04-08T00:00:00-04:00",
          "2014-04-09T00:00:00-04:00",
          "2014-04-10T00:00:00-04:00",
          "2014-04-11T00:00:00-04:00",
          "2014-04-14T00:00:00-04:00",
          "2014-04-15T00:00:00-04:00",
          "2014-04-16T00:00:00-04:00",
          "2014-04-17T00:00:00-04:00",
          "2014-04-21T00:00:00-04:00",
          "2014-04-22T00:00:00-04:00",
          "2014-04-23T00:00:00-04:00",
          "2014-04-24T00:00:00-04:00",
          "2014-04-25T00:00:00-04:00",
          "2014-04-28T00:00:00-04:00",
          "2014-04-29T00:00:00-04:00",
          "2014-04-30T00:00:00-04:00",
          "2014-05-01T00:00:00-04:00",
          "2014-05-02T00:00:00-04:00",
          "2014-05-05T00:00:00-04:00",
          "2014-05-06T00:00:00-04:00",
          "2014-05-07T00:00:00-04:00",
          "2014-05-08T00:00:00-04:00",
          "2014-05-09T00:00:00-04:00",
          "2014-05-12T00:00:00-04:00",
          "2014-05-13T00:00:00-04:00",
          "2014-05-14T00:00:00-04:00",
          "2014-05-15T00:00:00-04:00",
          "2014-05-16T00:00:00-04:00",
          "2014-05-19T00:00:00-04:00",
          "2014-05-20T00:00:00-04:00",
          "2014-05-21T00:00:00-04:00",
          "2014-05-22T00:00:00-04:00",
          "2014-05-23T00:00:00-04:00",
          "2014-05-27T00:00:00-04:00",
          "2014-05-28T00:00:00-04:00",
          "2014-05-29T00:00:00-04:00",
          "2014-05-30T00:00:00-04:00",
          "2014-06-02T00:00:00-04:00",
          "2014-06-03T00:00:00-04:00",
          "2014-06-04T00:00:00-04:00",
          "2014-06-05T00:00:00-04:00",
          "2014-03-26T00:00:00-04:00",
          "2014-03-25T00:00:00-04:00",
          "2014-03-24T00:00:00-04:00",
          "2014-03-21T00:00:00-04:00",
          "2014-03-20T00:00:00-04:00",
          "2014-03-19T00:00:00-04:00",
          "2014-03-18T00:00:00-04:00",
          "2014-03-17T00:00:00-04:00",
          "2014-03-14T00:00:00-04:00",
          "2014-03-13T00:00:00-04:00",
          "2014-03-12T00:00:00-04:00",
          "2014-03-11T00:00:00-04:00",
          "2014-03-10T00:00:00-04:00",
          "2014-03-07T00:00:00-05:00",
          "2014-03-06T00:00:00-05:00",
          "2014-03-05T00:00:00-05:00",
          "2014-03-04T00:00:00-05:00",
          "2014-03-03T00:00:00-05:00",
          "2014-02-28T00:00:00-05:00",
          "2014-02-27T00:00:00-05:00",
          "2014-02-26T00:00:00-05:00",
          "2014-02-25T00:00:00-05:00",
          "2014-02-24T00:00:00-05:00",
          "2014-02-21T00:00:00-05:00",
          "2014-02-20T00:00:00-05:00"
         ],
         "xaxis": "x2",
         "yaxis": "y2"
        },
        {
         "close": [
          15.600666999816895,
          16.273332595825195,
          17.00200080871582,
          17.022666931152344,
          16.470666885375977,
          16.32266616821289,
          16.131999969482422,
          15.968000411987305,
          15.133999824523926,
          15.487333297729492,
          15.463333129882812,
          15.222000122070312,
          14.0686674118042,
          13.690667152404785,
          13.67199993133545,
          12.84866714477539,
          13.03266716003418,
          12.708666801452637,
          12.579999923706055,
          12.657333374023438,
          12.54800033569336,
          12.343999862670898,
          11.9313325881958,
          12.90666675567627,
          13.105999946594238,
          13.729999542236328,
          13.633333206176758,
          14.192000389099121,
          14.473333358764648,
          13.950667381286621,
          14.260666847229004,
          14.32800006866455,
          15.001999855041504,
          14.982666969299316,
          15.095333099365234,
          14.641332626342773,
          14.790666580200195,
          14.909333229064941,
          14.650667190551758,
          14.618000030517578,
          14.855999946594238,
          14.897333145141602,
          15.14466667175293,
          14.970000267028809,
          15.65999984741211,
          15.539999961853027,
          15.355999946594238,
          15.337332725524902,
          15.928000450134277,
          15.90666675567627,
          15.600666999816895,
          15.912667274475098,
          16.097999572753906,
          15.675999641418457,
          16.5086669921875,
          17.243999481201172,
          17.593332290649414,
          17.516666412353516,
          18.21733283996582,
          18.082000732421875,
          18.224000930786133,
          17.7586669921875,
          17.84666633605957,
          17.89466667175293,
          18.40399932861328,
          18.15399932861328,
          18.213333129882812,
          18.33066749572754,
          17.851999282836914,
          19.45400047302246,
          19.058666229248047,
          19.278667449951172,
          18.657333374023438,
          18.57466697692871,
          18.32200050354004
         ],
         "high": [
          16,
          16.475332260131836,
          17.107332229614258,
          17.22333335876465,
          17.1473331451416,
          16.706666946411133,
          16.245332717895508,
          16.132667541503906,
          15.498000144958496,
          15.633333206176758,
          15.496000289916992,
          15.399999618530273,
          14.815999984741211,
          13.733332633972168,
          13.826666831970215,
          13.595999717712402,
          13.29800033569336,
          13.331999778747559,
          13,
          12.826000213623047,
          12.817333221435547,
          12.661333084106445,
          12.445332527160645,
          12.932000160217285,
          13.41866683959961,
          14.066666603088379,
          14.055999755859375,
          14.462667465209961,
          14.726667404174805,
          14.892000198364258,
          14.326666831970215,
          14.44333267211914,
          15.133333206176758,
          15.649333000183105,
          15.184666633605957,
          15.126667022705078,
          14.812000274658203,
          15.057332992553711,
          15.022666931152344,
          15.148667335510254,
          14.859999656677246,
          15.011333465576172,
          15.539999961853027,
          15.276666641235352,
          16.10466766357422,
          15.696666717529297,
          15.483332633972168,
          15.399999618530273,
          15.929332733154297,
          16.100000381469727,
          16,
          16.28066635131836,
          16.26533317565918,
          16.44533348083496,
          17.266666412353516,
          17.687999725341797,
          17.706666946411133,
          17.978666305541992,
          18.32266616821289,
          18.319332122802734,
          18.333332061767578,
          17.92533302307129,
          18.1299991607666,
          18.03333282470703,
          18.558666229248047,
          18.333332061767578,
          18.743999481201172,
          18.406667709350586,
          18.079999923706055,
          19.744667053222656,
          19.29599952697754,
          19.280000686645508,
          18.67733383178711,
          18.68866729736328,
          18.357999801635742
         ],
         "low": [
          15.433333396911621,
          15.847999572753906,
          16.232667922973633,
          16.566667556762695,
          16.34000015258789,
          16.280000686645508,
          15.795999526977539,
          15.73466682434082,
          14.966667175292969,
          15.199999809265137,
          15.016667366027832,
          15.100000381469727,
          13.928000450134277,
          13.016667366027832,
          13.06933307647705,
          12.785332679748535,
          12.414667129516602,
          12.583333015441895,
          12.523332595825195,
          12.336000442504883,
          12.468000411987305,
          12.273332595825195,
          11.799332618713379,
          11.973999977111816,
          12.789999961853027,
          13.453332901000977,
          13.566666603088379,
          13.934000015258789,
          14.233332633972168,
          13.933333396911621,
          13.833999633789062,
          14.026666641235352,
          14.284667015075684,
          14.837332725524902,
          14.737333297729492,
          14.423333168029785,
          14.366666793823242,
          14.73466682434082,
          14.63266658782959,
          14.539999961853027,
          14.489999771118164,
          14.720000267028809,
          15.085332870483398,
          14.814666748046875,
          15.633999824523926,
          15.386667251586914,
          15.244000434875488,
          15.152000427246094,
          15.542667388916016,
          15.720000267028809,
          15.433333396911621,
          15.800000190734863,
          15.477999687194824,
          15.408666610717773,
          16.404666900634766,
          17.200000762939453,
          17.049999237060547,
          17.498666763305664,
          17.983333587646484,
          17.902666091918945,
          17.648000717163086,
          17.242000579833984,
          17.788667678833008,
          17.706666946411133,
          18.19266700744629,
          17.974000930786133,
          18.029333114624023,
          17.74066734313965,
          17.37266731262207,
          19.14466667175293,
          18.92533302307129,
          18.75200080871582,
          18.299999237060547,
          18.34000015258789,
          17.8786678314209
         ],
         "open": [
          15.923333168029785,
          16.368000030517578,
          16.257333755493164,
          16.667999267578125,
          17.1200008392334,
          16.46266746520996,
          16.133333206176758,
          15.983332633972168,
          15.46733283996582,
          15.286666870117188,
          15.288000106811523,
          15.299332618713379,
          14.797332763671875,
          13.520000457763672,
          13.184000015258789,
          13.273332595825195,
          12.956000328063965,
          13.321999549865723,
          12.74666690826416,
          12.473333358764648,
          12.583333015441895,
          12.34000015258789,
          12.36733341217041,
          12.073332786560059,
          13.245332717895508,
          13.629332542419434,
          13.666666984558105,
          14.016667366027832,
          14.609333038330078,
          14.863332748413086,
          14.025333404541016,
          14.083333015441895,
          14.36533260345459,
          15.248000144958496,
          15.007332801818848,
          14.866666793823242,
          14.414667129516602,
          14.88266658782959,
          14.959333419799805,
          14.687333106994629,
          14.630000114440918,
          14.732666969299316,
          15.347332954406738,
          15.259332656860352,
          15.959333419799805,
          15.637999534606934,
          15.416000366210938,
          15.264666557312012,
          15.609999656677246,
          15.87600040435791,
          15.923333168029785,
          16.137332916259766,
          15.723999977111816,
          16.433332443237305,
          17,
          17.59000015258789,
          17.343332290649414,
          17.933332443237305,
          18.082000732421875,
          18.316667556762695,
          17.71666717529297,
          17.908666610717773,
          18.014667510986328,
          17.886667251586914,
          18.44933319091797,
          18.110000610351562,
          18.512666702270508,
          17.99066734313965,
          17.459333419799805,
          19.154666900634766,
          19.219999313354492,
          18.841333389282227,
          18.579999923706055,
          18.477333068847656,
          17.916667938232422
         ],
         "type": "candlestick",
         "x": [
          "2019-05-01T00:00:00-04:00",
          "2019-05-02T00:00:00-04:00",
          "2019-05-03T00:00:00-04:00",
          "2019-05-06T00:00:00-04:00",
          "2019-05-07T00:00:00-04:00",
          "2019-05-08T00:00:00-04:00",
          "2019-05-09T00:00:00-04:00",
          "2019-05-10T00:00:00-04:00",
          "2019-05-13T00:00:00-04:00",
          "2019-05-14T00:00:00-04:00",
          "2019-05-15T00:00:00-04:00",
          "2019-05-16T00:00:00-04:00",
          "2019-05-17T00:00:00-04:00",
          "2019-05-20T00:00:00-04:00",
          "2019-05-21T00:00:00-04:00",
          "2019-05-22T00:00:00-04:00",
          "2019-05-23T00:00:00-04:00",
          "2019-05-24T00:00:00-04:00",
          "2019-05-28T00:00:00-04:00",
          "2019-05-29T00:00:00-04:00",
          "2019-05-30T00:00:00-04:00",
          "2019-05-31T00:00:00-04:00",
          "2019-06-03T00:00:00-04:00",
          "2019-06-04T00:00:00-04:00",
          "2019-06-05T00:00:00-04:00",
          "2019-06-06T00:00:00-04:00",
          "2019-06-07T00:00:00-04:00",
          "2019-06-10T00:00:00-04:00",
          "2019-06-11T00:00:00-04:00",
          "2019-06-12T00:00:00-04:00",
          "2019-06-13T00:00:00-04:00",
          "2019-06-14T00:00:00-04:00",
          "2019-06-17T00:00:00-04:00",
          "2019-06-18T00:00:00-04:00",
          "2019-06-19T00:00:00-04:00",
          "2019-06-20T00:00:00-04:00",
          "2019-06-21T00:00:00-04:00",
          "2019-06-24T00:00:00-04:00",
          "2019-06-25T00:00:00-04:00",
          "2019-06-26T00:00:00-04:00",
          "2019-06-27T00:00:00-04:00",
          "2019-06-28T00:00:00-04:00",
          "2019-07-01T00:00:00-04:00",
          "2019-07-02T00:00:00-04:00",
          "2019-07-03T00:00:00-04:00",
          "2019-07-05T00:00:00-04:00",
          "2019-07-08T00:00:00-04:00",
          "2019-07-09T00:00:00-04:00",
          "2019-07-10T00:00:00-04:00",
          "2019-07-11T00:00:00-04:00",
          "2019-05-01T00:00:00-04:00",
          "2019-04-30T00:00:00-04:00",
          "2019-04-29T00:00:00-04:00",
          "2019-04-26T00:00:00-04:00",
          "2019-04-25T00:00:00-04:00",
          "2019-04-24T00:00:00-04:00",
          "2019-04-23T00:00:00-04:00",
          "2019-04-22T00:00:00-04:00",
          "2019-04-18T00:00:00-04:00",
          "2019-04-17T00:00:00-04:00",
          "2019-04-16T00:00:00-04:00",
          "2019-04-15T00:00:00-04:00",
          "2019-04-12T00:00:00-04:00",
          "2019-04-11T00:00:00-04:00",
          "2019-04-10T00:00:00-04:00",
          "2019-04-09T00:00:00-04:00",
          "2019-04-08T00:00:00-04:00",
          "2019-04-05T00:00:00-04:00",
          "2019-04-04T00:00:00-04:00",
          "2019-04-03T00:00:00-04:00",
          "2019-04-02T00:00:00-04:00",
          "2019-04-01T00:00:00-04:00",
          "2019-03-29T00:00:00-04:00",
          "2019-03-28T00:00:00-04:00",
          "2019-03-27T00:00:00-04:00"
         ],
         "xaxis": "x3",
         "yaxis": "y3"
        },
        {
         "close": [
          13.185333251953125,
          13.522000312805176,
          13.447333335876465,
          13.157333374023438,
          12.964667320251465,
          13.220000267028809,
          13.069999694824219,
          13.093999862670898,
          13.361332893371582,
          13.69333267211914,
          13.755999565124512,
          13.642666816711426,
          13.6813325881958,
          13.76200008392334,
          13.829999923706055,
          13.932666778564453,
          13.720666885375977,
          13.751333236694336,
          13.380000114440918,
          13.60200023651123,
          14.24666690826416,
          14.093999862670898,
          13.897333145141602,
          13.399999618530273,
          13.107333183288574,
          13.396666526794434,
          13.34000015258789,
          13.434000015258789,
          13.349332809448242,
          13.100666999816895,
          12.93066692352295,
          13.273332595825195,
          13.570667266845703,
          13.273332595825195,
          13.339332580566406,
          13.517333030700684,
          13.489333152770996,
          13.482666969299316,
          13.600666999816895,
          13.33133316040039,
          13.182000160217285,
          12.719332695007324,
          12.534667015075684,
          12.494667053222656,
          12.704000473022461,
          12.880666732788086,
          12.996000289916992,
          12.670666694641113,
          12.356666564941406,
          12.570667266845703,
          13.185333251953125,
          13.38466739654541,
          14.133999824523926,
          14.089332580566406,
          14.346667289733887,
          14.666000366210938,
          14.730667114257812,
          14.841333389282227,
          14.989333152770996,
          14.862000465393066,
          15,
          14.900667190551758,
          14.88266658782959,
          14.907333374023438,
          15.03933334350586,
          15.040666580200195,
          14.994000434875488,
          15.043333053588867,
          15.272000312805176,
          15.077333450317383,
          15.335332870483398,
          15.37399959564209,
          15.052666664123535,
          15.146666526794434,
          15.333999633789062
         ],
         "high": [
          13.546667098999023,
          13.550000190734863,
          13.766667366027832,
          13.326000213623047,
          13.32800006866455,
          13.424667358398438,
          13.232666969299316,
          13.194666862487793,
          13.501333236694336,
          13.713333129882812,
          13.961999893188477,
          13.850000381469727,
          13.800000190734863,
          13.8186674118042,
          14.01200008392334,
          14.066666603088379,
          13.998666763305664,
          13.883333206176758,
          13.821999549865723,
          13.665332794189453,
          14.378000259399414,
          14.221332550048828,
          14.210000038146973,
          13.61400032043457,
          13.421333312988281,
          13.609333038330078,
          13.479999542236328,
          13.592000007629395,
          13.393333435058594,
          13.428667068481445,
          13.22599983215332,
          13.29800033569336,
          13.77733325958252,
          13.533332824707031,
          13.437999725341797,
          13.596667289733887,
          13.645999908447266,
          13.545999526977539,
          14.24666690826416,
          13.687999725341797,
          13.499333381652832,
          13.233332633972168,
          12.846667289733887,
          12.764666557312012,
          12.897333145141602,
          12.952667236328125,
          13.166000366210938,
          12.800000190734863,
          12.77400016784668,
          12.592000007629395,
          13.546667098999023,
          14.073332786560059,
          14.173333168029785,
          14.407333374023438,
          14.69333267211914,
          14.857333183288574,
          14.920000076293945,
          15.143333435058594,
          15.232666969299316,
          15.007332801818848,
          15.011333465576172,
          15.043999671936035,
          14.988666534423828,
          15.145999908447266,
          15.300000190734863,
          15.109999656677246,
          15.171333312988281,
          15.324666976928711,
          15.435999870300293,
          15.30666732788086,
          15.466667175292969,
          15.390666961669922,
          15.313332557678223,
          15.324666976928711,
          15.775333404541016
         ],
         "low": [
          13.079999923706055,
          13.266667366027832,
          13.380666732788086,
          13.090666770935059,
          12.91333293914795,
          12.9399995803833,
          12.896666526794434,
          12.990667343139648,
          13.09333324432373,
          13.266667366027832,
          13.666666984558105,
          13.593999862670898,
          13.437333106994629,
          13.533332824707031,
          13.711333274841309,
          13.766667366027832,
          13.640666961669922,
          13.684000015258789,
          13.371999740600586,
          13.303333282470703,
          13.883333206176758,
          13.921333312988281,
          13.874667167663574,
          13.347332954406738,
          13.053333282470703,
          13.310667037963867,
          13.220666885375977,
          13.361332893371582,
          13.136667251586914,
          13.08666706085205,
          12.800000190734863,
          12.883999824523926,
          13.204000473022461,
          13.136667251586914,
          13.160667419433594,
          13.350000381469727,
          13.41333293914795,
          13.34000015258789,
          13.44333267211914,
          13.321999549865723,
          13.053999900817871,
          12.540666580200195,
          12.500666618347168,
          12.469332695007324,
          12.397333145141602,
          12.670000076293945,
          12.750666618347168,
          12.263333320617676,
          12.027999877929688,
          12.199999809265137,
          13.079999923706055,
          13.366666793823242,
          13.90999984741211,
          14.034667015075684,
          14.333333015441895,
          14.588000297546387,
          14.718000411987305,
          14.814666748046875,
          14.853333473205566,
          14.845333099365234,
          14.835332870483398,
          14.81933307647705,
          14.853333473205566,
          14.894000053405762,
          14.995332717895508,
          14.935999870300293,
          14.894000053405762,
          14.974666595458984,
          15.109999656677246,
          15.072667121887207,
          15.15999984741211,
          14.803333282470703,
          14.947333335876465,
          14.760000228881836,
          15.291999816894531
         ],
         "open": [
          13.488666534423828,
          13.267999649047852,
          13.699999809265137,
          13.303333282470703,
          13.272666931152344,
          13,
          13.137332916259766,
          13.050000190734863,
          13.099332809448242,
          13.361332893371582,
          13.800000190734863,
          13.789999961853027,
          13.758000373840332,
          13.760000228881836,
          13.732666969299316,
          13.766667366027832,
          13.976667404174805,
          13.833999633789062,
          13.706666946411133,
          13.480667114257812,
          14.153332710266113,
          14.206666946411133,
          14.149333000183105,
          13.497332572937012,
          13.399999618530273,
          13.423333168029785,
          13.456666946411133,
          13.396666526794434,
          13.366666793823242,
          13.37733268737793,
          13.136667251586914,
          13.065999984741211,
          13.315999984741211,
          13.474666595458984,
          13.239999771118164,
          13.399999618530273,
          13.526666641235352,
          13.399999618530273,
          14.089332580566406,
          13.600000381469727,
          13.499333381652832,
          13.202667236328125,
          12.670000076293945,
          12.600000381469727,
          12.600000381469727,
          12.906000137329102,
          12.919333457946777,
          12.458666801452637,
          12.736666679382324,
          12.28266716003418,
          13.488666534423828,
          13.934000015258789,
          14.028667449951172,
          14.407333374023438,
          14.676667213439941,
          14.809332847595215,
          14.87399959564209,
          15.136667251586914,
          14.954667091369629,
          14.944666862487793,
          14.902667045593262,
          14.921333312988281,
          14.95533275604248,
          15.03266716003418,
          15.067999839782715,
          15.02733325958252,
          15.07800006866455,
          15.215999603271484,
          15.121333122253418,
          15.199999809265137,
          15.333333015441895,
          15.045999526977539,
          15.157999992370605,
          15.291333198547363,
          15.699999809265137
         ],
         "type": "candlestick",
         "x": [
          "2016-09-02T00:00:00-04:00",
          "2016-09-06T00:00:00-04:00",
          "2016-09-07T00:00:00-04:00",
          "2016-09-08T00:00:00-04:00",
          "2016-09-09T00:00:00-04:00",
          "2016-09-12T00:00:00-04:00",
          "2016-09-13T00:00:00-04:00",
          "2016-09-14T00:00:00-04:00",
          "2016-09-15T00:00:00-04:00",
          "2016-09-16T00:00:00-04:00",
          "2016-09-19T00:00:00-04:00",
          "2016-09-20T00:00:00-04:00",
          "2016-09-21T00:00:00-04:00",
          "2016-09-22T00:00:00-04:00",
          "2016-09-23T00:00:00-04:00",
          "2016-09-26T00:00:00-04:00",
          "2016-09-27T00:00:00-04:00",
          "2016-09-28T00:00:00-04:00",
          "2016-09-29T00:00:00-04:00",
          "2016-09-30T00:00:00-04:00",
          "2016-10-03T00:00:00-04:00",
          "2016-10-04T00:00:00-04:00",
          "2016-10-05T00:00:00-04:00",
          "2016-10-06T00:00:00-04:00",
          "2016-10-07T00:00:00-04:00",
          "2016-10-10T00:00:00-04:00",
          "2016-10-11T00:00:00-04:00",
          "2016-10-12T00:00:00-04:00",
          "2016-10-13T00:00:00-04:00",
          "2016-10-14T00:00:00-04:00",
          "2016-10-17T00:00:00-04:00",
          "2016-10-18T00:00:00-04:00",
          "2016-10-19T00:00:00-04:00",
          "2016-10-20T00:00:00-04:00",
          "2016-10-21T00:00:00-04:00",
          "2016-10-24T00:00:00-04:00",
          "2016-10-25T00:00:00-04:00",
          "2016-10-26T00:00:00-04:00",
          "2016-10-27T00:00:00-04:00",
          "2016-10-28T00:00:00-04:00",
          "2016-10-31T00:00:00-04:00",
          "2016-11-01T00:00:00-04:00",
          "2016-11-02T00:00:00-04:00",
          "2016-11-03T00:00:00-04:00",
          "2016-11-04T00:00:00-04:00",
          "2016-11-07T00:00:00-05:00",
          "2016-11-08T00:00:00-05:00",
          "2016-11-09T00:00:00-05:00",
          "2016-11-10T00:00:00-05:00",
          "2016-11-11T00:00:00-05:00",
          "2016-09-02T00:00:00-04:00",
          "2016-09-01T00:00:00-04:00",
          "2016-08-31T00:00:00-04:00",
          "2016-08-30T00:00:00-04:00",
          "2016-08-29T00:00:00-04:00",
          "2016-08-26T00:00:00-04:00",
          "2016-08-25T00:00:00-04:00",
          "2016-08-24T00:00:00-04:00",
          "2016-08-23T00:00:00-04:00",
          "2016-08-22T00:00:00-04:00",
          "2016-08-19T00:00:00-04:00",
          "2016-08-18T00:00:00-04:00",
          "2016-08-17T00:00:00-04:00",
          "2016-08-16T00:00:00-04:00",
          "2016-08-15T00:00:00-04:00",
          "2016-08-12T00:00:00-04:00",
          "2016-08-11T00:00:00-04:00",
          "2016-08-10T00:00:00-04:00",
          "2016-08-09T00:00:00-04:00",
          "2016-08-08T00:00:00-04:00",
          "2016-08-05T00:00:00-04:00",
          "2016-08-04T00:00:00-04:00",
          "2016-08-03T00:00:00-04:00",
          "2016-08-02T00:00:00-04:00",
          "2016-08-01T00:00:00-04:00"
         ],
         "xaxis": "x4",
         "yaxis": "y4"
        },
        {
         "close": [
          17.382667541503906,
          17.42533302307129,
          17.58799934387207,
          17.288000106811523,
          16.66866683959961,
          16.694000244140625,
          16.80933380126953,
          16.463333129882812,
          16.440000534057617,
          16.35066795349121,
          16.178667068481445,
          16.016000747680664,
          16.761333465576172,
          17.013999938964844,
          17.374666213989258,
          17.30466651916504,
          17.28533363342285,
          17.134000778198242,
          15.793999671936035,
          14.97266674041748,
          15.137332916259766,
          15.313332557678223,
          15.09000015258789,
          15.165332794189453,
          15.364666938781738,
          15.689332962036133,
          15.40666675567627,
          15.685999870300293,
          15.682666778564453,
          14.777999877929688,
          16.184667587280273,
          15.873332977294922,
          15.910667419433594,
          16.113332748413086,
          16.172666549682617,
          15.928667068481445,
          15.39799976348877,
          16.08133316040039,
          16.01333236694336,
          16.1286678314209,
          16.738666534423828,
          16.606666564941406,
          16.780000686645508,
          17.245332717895508,
          16.93199920654297,
          17.18000030517578,
          16.516000747680664,
          16.58066749572754,
          16.185333251953125,
          16.447999954223633,
          17.382667541503906,
          16.923999786376953,
          18.613332748413086,
          18.687332153320312,
          18.739999771118164,
          18.565332412719727,
          18.80733299255371,
          18.492666244506836,
          19.069332122802734,
          18.746000289916992,
          18.941333770751953,
          17.979999542236328,
          17.590667724609375,
          17.549999237060547,
          17.44933319091797,
          17.503332138061523,
          17.118667602539062,
          16.95599937438965,
          17.047332763671875,
          17.117332458496094,
          17.32933235168457,
          17.46733283996582,
          17.42533302307129,
          17.354000091552734,
          17.33066749572754
         ],
         "high": [
          17.497333526611328,
          17.64666748046875,
          17.706666946411133,
          17.428667068481445,
          17.06800079345703,
          16.920000076293945,
          16.856000900268555,
          16.997333526611328,
          16.648666381835938,
          16.576000213623047,
          16.510000228881836,
          16.17733383178711,
          16.8526668548584,
          17.100000381469727,
          17.499332427978516,
          17.430667877197266,
          17.525333404541016,
          17.702667236328125,
          16.392667770385742,
          15.93066692352295,
          15.498000144958496,
          15.399333000183105,
          15.32800006866455,
          15.65133285522461,
          15.493332862854004,
          15.692667007446289,
          15.826000213623047,
          15.751999855041504,
          15.853333473205566,
          15.640666961669922,
          16.30666732788086,
          16.100000381469727,
          16.03333282470703,
          16.20800018310547,
          16.503999710083008,
          16.156667709350586,
          16.090667724609375,
          16.445999145507812,
          16.189332962036133,
          16.191999435424805,
          16.788000106811523,
          16.82266616821289,
          17.049999237060547,
          17.25666618347168,
          17.266666412353516,
          17.332666397094727,
          16.79199981689453,
          16.728666305541992,
          16.851999282836914,
          16.50666618347168,
          17.497333526611328,
          18.293333053588867,
          18.826000213623047,
          18.986000061035156,
          18.76066780090332,
          19.03266716003418,
          18.992000579833984,
          18.860000610351562,
          19.42799949645996,
          19.200000762939453,
          18.992666244506836,
          18.133333206176758,
          17.631999969482422,
          17.615999221801758,
          17.700000762939453,
          17.57866668701172,
          17.1299991607666,
          17.253332138061523,
          17.249332427978516,
          17.288667678833008,
          17.817333221435547,
          17.472667694091797,
          17.53333282470703,
          17.709333419799805,
          17.35333251953125
         ],
         "low": [
          16.827999114990234,
          17.299999237060547,
          17.488000869750977,
          17.01799964904785,
          16.31399917602539,
          16.333332061767578,
          16.46933364868164,
          16.406667709350586,
          16.404666900634766,
          16.091999053955078,
          16.007999420166016,
          15.710000038146973,
          16.357332229614258,
          16.735332489013672,
          17.18666648864746,
          17.048667907714844,
          16.842666625976562,
          16.959999084472656,
          15.680000305175781,
          14.733332633972168,
          14.866666793823242,
          14.48799991607666,
          14.606666564941406,
          15.103333473205566,
          15.034000396728516,
          15.386667251586914,
          15.370667457580566,
          15.466667175292969,
          15.41333293914795,
          14.687333106994629,
          15.216667175292969,
          15.709333419799805,
          15.670666694641113,
          15.916666984558105,
          16.08799934387207,
          15.768667221069336,
          15.368666648864746,
          15.233332633972168,
          15.813332557678223,
          15.786666870117188,
          16.133333206176758,
          16.371999740600586,
          16.683332443237305,
          16.566667556762695,
          16.801332473754883,
          17.034000396728516,
          16.373332977294922,
          16.399999618530273,
          16.14466667175293,
          16.042667388916016,
          16.827999114990234,
          16.608667373657227,
          18.46666717529297,
          18.575332641601562,
          18.243999481201172,
          18.46666717529297,
          18.501333236694336,
          18.167333602905273,
          18.69333267211914,
          18.67333221435547,
          18.286666870117188,
          17.833999633789062,
          17.44266700744629,
          17.3526668548584,
          17.444000244140625,
          17.21266746520996,
          16.840667724609375,
          16.884000778198242,
          16.866666793823242,
          16.774667739868164,
          17.316667556762695,
          17.233333587646484,
          17.100000381469727,
          17.30733299255371,
          16.972000122070312
         ],
         "open": [
          17.010000228881836,
          17.493999481201172,
          17.55733299255371,
          17.19933319091797,
          17,
          16.347999572753906,
          16.7413330078125,
          16.834667205810547,
          16.549999237060547,
          16.266666412353516,
          16.461332321166992,
          16.14666748046875,
          16.68000030517578,
          16.87066650390625,
          17.275333404541016,
          17.235332489013672,
          17.34000015258789,
          17.483333587646484,
          16.30933380126953,
          15.904666900634766,
          15.216667175292969,
          14.666666984558105,
          14.64799976348877,
          15.558667182922363,
          15.114666938781738,
          15.618000030517578,
          15.545999526977539,
          15.644000053405762,
          15.751333236694336,
          15.616666793823242,
          15.30666732788086,
          16.075332641601562,
          15.87600040435791,
          16.167333602905273,
          16.200000762939453,
          16.03266716003418,
          16.066667556762695,
          15.63266658782959,
          16.145999908447266,
          15.940667152404785,
          16.170000076293945,
          16.648000717163086,
          16.70800018310547,
          16.666667938232422,
          17.166000366210938,
          17.05733299255371,
          16.707332611083984,
          16.530000686645508,
          16.81399917602539,
          16.34666633605957,
          17.010000228881836,
          18.291332244873047,
          18.700000762939453,
          18.69733238220215,
          18.633333206176758,
          18.865999221801758,
          18.507999420166016,
          18.836666107177734,
          18.93400001525879,
          19.17799949645996,
          18.366666793823242,
          17.913333892822266,
          17.459333419799805,
          17.566667556762695,
          17.665332794189453,
          17.21266746520996,
          16.96933364868164,
          17.101333618164062,
          16.97800064086914,
          17.257999420166016,
          17.549999237060547,
          17.43199920654297,
          17.499332427978516,
          17.46733283996582,
          17.205333709716797
         ],
         "type": "candlestick",
         "x": [
          "2014-09-16T00:00:00-04:00",
          "2014-09-17T00:00:00-04:00",
          "2014-09-18T00:00:00-04:00",
          "2014-09-19T00:00:00-04:00",
          "2014-09-22T00:00:00-04:00",
          "2014-09-23T00:00:00-04:00",
          "2014-09-24T00:00:00-04:00",
          "2014-09-25T00:00:00-04:00",
          "2014-09-26T00:00:00-04:00",
          "2014-09-29T00:00:00-04:00",
          "2014-09-30T00:00:00-04:00",
          "2014-10-01T00:00:00-04:00",
          "2014-10-02T00:00:00-04:00",
          "2014-10-03T00:00:00-04:00",
          "2014-10-06T00:00:00-04:00",
          "2014-10-07T00:00:00-04:00",
          "2014-10-08T00:00:00-04:00",
          "2014-10-09T00:00:00-04:00",
          "2014-10-10T00:00:00-04:00",
          "2014-10-13T00:00:00-04:00",
          "2014-10-14T00:00:00-04:00",
          "2014-10-15T00:00:00-04:00",
          "2014-10-16T00:00:00-04:00",
          "2014-10-17T00:00:00-04:00",
          "2014-10-20T00:00:00-04:00",
          "2014-10-21T00:00:00-04:00",
          "2014-10-22T00:00:00-04:00",
          "2014-10-23T00:00:00-04:00",
          "2014-10-24T00:00:00-04:00",
          "2014-10-27T00:00:00-04:00",
          "2014-10-28T00:00:00-04:00",
          "2014-10-29T00:00:00-04:00",
          "2014-10-30T00:00:00-04:00",
          "2014-10-31T00:00:00-04:00",
          "2014-11-03T00:00:00-05:00",
          "2014-11-04T00:00:00-05:00",
          "2014-11-05T00:00:00-05:00",
          "2014-11-06T00:00:00-05:00",
          "2014-11-07T00:00:00-05:00",
          "2014-11-10T00:00:00-05:00",
          "2014-11-11T00:00:00-05:00",
          "2014-11-12T00:00:00-05:00",
          "2014-11-13T00:00:00-05:00",
          "2014-11-14T00:00:00-05:00",
          "2014-11-17T00:00:00-05:00",
          "2014-11-18T00:00:00-05:00",
          "2014-11-19T00:00:00-05:00",
          "2014-11-20T00:00:00-05:00",
          "2014-11-21T00:00:00-05:00",
          "2014-11-24T00:00:00-05:00",
          "2014-09-16T00:00:00-04:00",
          "2014-09-15T00:00:00-04:00",
          "2014-09-12T00:00:00-04:00",
          "2014-09-11T00:00:00-04:00",
          "2014-09-10T00:00:00-04:00",
          "2014-09-09T00:00:00-04:00",
          "2014-09-08T00:00:00-04:00",
          "2014-09-05T00:00:00-04:00",
          "2014-09-04T00:00:00-04:00",
          "2014-09-03T00:00:00-04:00",
          "2014-09-02T00:00:00-04:00",
          "2014-08-29T00:00:00-04:00",
          "2014-08-28T00:00:00-04:00",
          "2014-08-27T00:00:00-04:00",
          "2014-08-26T00:00:00-04:00",
          "2014-08-25T00:00:00-04:00",
          "2014-08-22T00:00:00-04:00",
          "2014-08-21T00:00:00-04:00",
          "2014-08-20T00:00:00-04:00",
          "2014-08-19T00:00:00-04:00",
          "2014-08-18T00:00:00-04:00",
          "2014-08-15T00:00:00-04:00",
          "2014-08-14T00:00:00-04:00",
          "2014-08-13T00:00:00-04:00",
          "2014-08-12T00:00:00-04:00"
         ],
         "xaxis": "x5",
         "yaxis": "y5"
        }
       ],
       "layout": {
        "height": 1000,
        "shapes": [
         {
          "type": "line",
          "x0": "2014-03-26T00:00:00-04:00",
          "x1": "2014-03-26T00:00:00-04:00",
          "xref": "x2",
          "y0": 0,
          "y1": 1,
          "yref": "y2 domain"
         },
         {
          "type": "line",
          "x0": "2019-05-01T00:00:00-04:00",
          "x1": "2019-05-01T00:00:00-04:00",
          "xref": "x3",
          "y0": 0,
          "y1": 1,
          "yref": "y3 domain"
         },
         {
          "type": "line",
          "x0": "2016-09-02T00:00:00-04:00",
          "x1": "2016-09-02T00:00:00-04:00",
          "xref": "x4",
          "y0": 0,
          "y1": 1,
          "yref": "y4 domain"
         },
         {
          "type": "line",
          "x0": "2014-09-16T00:00:00-04:00",
          "x1": "2014-09-16T00:00:00-04:00",
          "xref": "x5",
          "y0": 0,
          "y1": 1,
          "yref": "y5 domain"
         }
        ],
        "template": {
         "data": {
          "bar": [
           {
            "error_x": {
             "color": "#2a3f5f"
            },
            "error_y": {
             "color": "#2a3f5f"
            },
            "marker": {
             "line": {
              "color": "#E5ECF6",
              "width": 0.5
             },
             "pattern": {
              "fillmode": "overlay",
              "size": 10,
              "solidity": 0.2
             }
            },
            "type": "bar"
           }
          ],
          "barpolar": [
           {
            "marker": {
             "line": {
              "color": "#E5ECF6",
              "width": 0.5
             },
             "pattern": {
              "fillmode": "overlay",
              "size": 10,
              "solidity": 0.2
             }
            },
            "type": "barpolar"
           }
          ],
          "carpet": [
           {
            "aaxis": {
             "endlinecolor": "#2a3f5f",
             "gridcolor": "white",
             "linecolor": "white",
             "minorgridcolor": "white",
             "startlinecolor": "#2a3f5f"
            },
            "baxis": {
             "endlinecolor": "#2a3f5f",
             "gridcolor": "white",
             "linecolor": "white",
             "minorgridcolor": "white",
             "startlinecolor": "#2a3f5f"
            },
            "type": "carpet"
           }
          ],
          "choropleth": [
           {
            "colorbar": {
             "outlinewidth": 0,
             "ticks": ""
            },
            "type": "choropleth"
           }
          ],
          "contour": [
           {
            "colorbar": {
             "outlinewidth": 0,
             "ticks": ""
            },
            "colorscale": [
             [
              0,
              "#0d0887"
             ],
             [
              0.1111111111111111,
              "#46039f"
             ],
             [
              0.2222222222222222,
              "#7201a8"
             ],
             [
              0.3333333333333333,
              "#9c179e"
             ],
             [
              0.4444444444444444,
              "#bd3786"
             ],
             [
              0.5555555555555556,
              "#d8576b"
             ],
             [
              0.6666666666666666,
              "#ed7953"
             ],
             [
              0.7777777777777778,
              "#fb9f3a"
             ],
             [
              0.8888888888888888,
              "#fdca26"
             ],
             [
              1,
              "#f0f921"
             ]
            ],
            "type": "contour"
           }
          ],
          "contourcarpet": [
           {
            "colorbar": {
             "outlinewidth": 0,
             "ticks": ""
            },
            "type": "contourcarpet"
           }
          ],
          "heatmap": [
           {
            "colorbar": {
             "outlinewidth": 0,
             "ticks": ""
            },
            "colorscale": [
             [
              0,
              "#0d0887"
             ],
             [
              0.1111111111111111,
              "#46039f"
             ],
             [
              0.2222222222222222,
              "#7201a8"
             ],
             [
              0.3333333333333333,
              "#9c179e"
             ],
             [
              0.4444444444444444,
              "#bd3786"
             ],
             [
              0.5555555555555556,
              "#d8576b"
             ],
             [
              0.6666666666666666,
              "#ed7953"
             ],
             [
              0.7777777777777778,
              "#fb9f3a"
             ],
             [
              0.8888888888888888,
              "#fdca26"
             ],
             [
              1,
              "#f0f921"
             ]
            ],
            "type": "heatmap"
           }
          ],
          "heatmapgl": [
           {
            "colorbar": {
             "outlinewidth": 0,
             "ticks": ""
            },
            "colorscale": [
             [
              0,
              "#0d0887"
             ],
             [
              0.1111111111111111,
              "#46039f"
             ],
             [
              0.2222222222222222,
              "#7201a8"
             ],
             [
              0.3333333333333333,
              "#9c179e"
             ],
             [
              0.4444444444444444,
              "#bd3786"
             ],
             [
              0.5555555555555556,
              "#d8576b"
             ],
             [
              0.6666666666666666,
              "#ed7953"
             ],
             [
              0.7777777777777778,
              "#fb9f3a"
             ],
             [
              0.8888888888888888,
              "#fdca26"
             ],
             [
              1,
              "#f0f921"
             ]
            ],
            "type": "heatmapgl"
           }
          ],
          "histogram": [
           {
            "marker": {
             "pattern": {
              "fillmode": "overlay",
              "size": 10,
              "solidity": 0.2
             }
            },
            "type": "histogram"
           }
          ],
          "histogram2d": [
           {
            "colorbar": {
             "outlinewidth": 0,
             "ticks": ""
            },
            "colorscale": [
             [
              0,
              "#0d0887"
             ],
             [
              0.1111111111111111,
              "#46039f"
             ],
             [
              0.2222222222222222,
              "#7201a8"
             ],
             [
              0.3333333333333333,
              "#9c179e"
             ],
             [
              0.4444444444444444,
              "#bd3786"
             ],
             [
              0.5555555555555556,
              "#d8576b"
             ],
             [
              0.6666666666666666,
              "#ed7953"
             ],
             [
              0.7777777777777778,
              "#fb9f3a"
             ],
             [
              0.8888888888888888,
              "#fdca26"
             ],
             [
              1,
              "#f0f921"
             ]
            ],
            "type": "histogram2d"
           }
          ],
          "histogram2dcontour": [
           {
            "colorbar": {
             "outlinewidth": 0,
             "ticks": ""
            },
            "colorscale": [
             [
              0,
              "#0d0887"
             ],
             [
              0.1111111111111111,
              "#46039f"
             ],
             [
              0.2222222222222222,
              "#7201a8"
             ],
             [
              0.3333333333333333,
              "#9c179e"
             ],
             [
              0.4444444444444444,
              "#bd3786"
             ],
             [
              0.5555555555555556,
              "#d8576b"
             ],
             [
              0.6666666666666666,
              "#ed7953"
             ],
             [
              0.7777777777777778,
              "#fb9f3a"
             ],
             [
              0.8888888888888888,
              "#fdca26"
             ],
             [
              1,
              "#f0f921"
             ]
            ],
            "type": "histogram2dcontour"
           }
          ],
          "mesh3d": [
           {
            "colorbar": {
             "outlinewidth": 0,
             "ticks": ""
            },
            "type": "mesh3d"
           }
          ],
          "parcoords": [
           {
            "line": {
             "colorbar": {
              "outlinewidth": 0,
              "ticks": ""
             }
            },
            "type": "parcoords"
           }
          ],
          "pie": [
           {
            "automargin": true,
            "type": "pie"
           }
          ],
          "scatter": [
           {
            "fillpattern": {
             "fillmode": "overlay",
             "size": 10,
             "solidity": 0.2
            },
            "type": "scatter"
           }
          ],
          "scatter3d": [
           {
            "line": {
             "colorbar": {
              "outlinewidth": 0,
              "ticks": ""
             }
            },
            "marker": {
             "colorbar": {
              "outlinewidth": 0,
              "ticks": ""
             }
            },
            "type": "scatter3d"
           }
          ],
          "scattercarpet": [
           {
            "marker": {
             "colorbar": {
              "outlinewidth": 0,
              "ticks": ""
             }
            },
            "type": "scattercarpet"
           }
          ],
          "scattergeo": [
           {
            "marker": {
             "colorbar": {
              "outlinewidth": 0,
              "ticks": ""
             }
            },
            "type": "scattergeo"
           }
          ],
          "scattergl": [
           {
            "marker": {
             "colorbar": {
              "outlinewidth": 0,
              "ticks": ""
             }
            },
            "type": "scattergl"
           }
          ],
          "scattermapbox": [
           {
            "marker": {
             "colorbar": {
              "outlinewidth": 0,
              "ticks": ""
             }
            },
            "type": "scattermapbox"
           }
          ],
          "scatterpolar": [
           {
            "marker": {
             "colorbar": {
              "outlinewidth": 0,
              "ticks": ""
             }
            },
            "type": "scatterpolar"
           }
          ],
          "scatterpolargl": [
           {
            "marker": {
             "colorbar": {
              "outlinewidth": 0,
              "ticks": ""
             }
            },
            "type": "scatterpolargl"
           }
          ],
          "scatterternary": [
           {
            "marker": {
             "colorbar": {
              "outlinewidth": 0,
              "ticks": ""
             }
            },
            "type": "scatterternary"
           }
          ],
          "surface": [
           {
            "colorbar": {
             "outlinewidth": 0,
             "ticks": ""
            },
            "colorscale": [
             [
              0,
              "#0d0887"
             ],
             [
              0.1111111111111111,
              "#46039f"
             ],
             [
              0.2222222222222222,
              "#7201a8"
             ],
             [
              0.3333333333333333,
              "#9c179e"
             ],
             [
              0.4444444444444444,
              "#bd3786"
             ],
             [
              0.5555555555555556,
              "#d8576b"
             ],
             [
              0.6666666666666666,
              "#ed7953"
             ],
             [
              0.7777777777777778,
              "#fb9f3a"
             ],
             [
              0.8888888888888888,
              "#fdca26"
             ],
             [
              1,
              "#f0f921"
             ]
            ],
            "type": "surface"
           }
          ],
          "table": [
           {
            "cells": {
             "fill": {
              "color": "#EBF0F8"
             },
             "line": {
              "color": "white"
             }
            },
            "header": {
             "fill": {
              "color": "#C8D4E3"
             },
             "line": {
              "color": "white"
             }
            },
            "type": "table"
           }
          ]
         },
         "layout": {
          "annotationdefaults": {
           "arrowcolor": "#2a3f5f",
           "arrowhead": 0,
           "arrowwidth": 1
          },
          "autotypenumbers": "strict",
          "coloraxis": {
           "colorbar": {
            "outlinewidth": 0,
            "ticks": ""
           }
          },
          "colorscale": {
           "diverging": [
            [
             0,
             "#8e0152"
            ],
            [
             0.1,
             "#c51b7d"
            ],
            [
             0.2,
             "#de77ae"
            ],
            [
             0.3,
             "#f1b6da"
            ],
            [
             0.4,
             "#fde0ef"
            ],
            [
             0.5,
             "#f7f7f7"
            ],
            [
             0.6,
             "#e6f5d0"
            ],
            [
             0.7,
             "#b8e186"
            ],
            [
             0.8,
             "#7fbc41"
            ],
            [
             0.9,
             "#4d9221"
            ],
            [
             1,
             "#276419"
            ]
           ],
           "sequential": [
            [
             0,
             "#0d0887"
            ],
            [
             0.1111111111111111,
             "#46039f"
            ],
            [
             0.2222222222222222,
             "#7201a8"
            ],
            [
             0.3333333333333333,
             "#9c179e"
            ],
            [
             0.4444444444444444,
             "#bd3786"
            ],
            [
             0.5555555555555556,
             "#d8576b"
            ],
            [
             0.6666666666666666,
             "#ed7953"
            ],
            [
             0.7777777777777778,
             "#fb9f3a"
            ],
            [
             0.8888888888888888,
             "#fdca26"
            ],
            [
             1,
             "#f0f921"
            ]
           ],
           "sequentialminus": [
            [
             0,
             "#0d0887"
            ],
            [
             0.1111111111111111,
             "#46039f"
            ],
            [
             0.2222222222222222,
             "#7201a8"
            ],
            [
             0.3333333333333333,
             "#9c179e"
            ],
            [
             0.4444444444444444,
             "#bd3786"
            ],
            [
             0.5555555555555556,
             "#d8576b"
            ],
            [
             0.6666666666666666,
             "#ed7953"
            ],
            [
             0.7777777777777778,
             "#fb9f3a"
            ],
            [
             0.8888888888888888,
             "#fdca26"
            ],
            [
             1,
             "#f0f921"
            ]
           ]
          },
          "colorway": [
           "#636efa",
           "#EF553B",
           "#00cc96",
           "#ab63fa",
           "#FFA15A",
           "#19d3f3",
           "#FF6692",
           "#B6E880",
           "#FF97FF",
           "#FECB52"
          ],
          "font": {
           "color": "#2a3f5f"
          },
          "geo": {
           "bgcolor": "white",
           "lakecolor": "white",
           "landcolor": "#E5ECF6",
           "showlakes": true,
           "showland": true,
           "subunitcolor": "white"
          },
          "hoverlabel": {
           "align": "left"
          },
          "hovermode": "closest",
          "mapbox": {
           "style": "light"
          },
          "paper_bgcolor": "white",
          "plot_bgcolor": "#E5ECF6",
          "polar": {
           "angularaxis": {
            "gridcolor": "white",
            "linecolor": "white",
            "ticks": ""
           },
           "bgcolor": "#E5ECF6",
           "radialaxis": {
            "gridcolor": "white",
            "linecolor": "white",
            "ticks": ""
           }
          },
          "scene": {
           "xaxis": {
            "backgroundcolor": "#E5ECF6",
            "gridcolor": "white",
            "gridwidth": 2,
            "linecolor": "white",
            "showbackground": true,
            "ticks": "",
            "zerolinecolor": "white"
           },
           "yaxis": {
            "backgroundcolor": "#E5ECF6",
            "gridcolor": "white",
            "gridwidth": 2,
            "linecolor": "white",
            "showbackground": true,
            "ticks": "",
            "zerolinecolor": "white"
           },
           "zaxis": {
            "backgroundcolor": "#E5ECF6",
            "gridcolor": "white",
            "gridwidth": 2,
            "linecolor": "white",
            "showbackground": true,
            "ticks": "",
            "zerolinecolor": "white"
           }
          },
          "shapedefaults": {
           "line": {
            "color": "#2a3f5f"
           }
          },
          "ternary": {
           "aaxis": {
            "gridcolor": "white",
            "linecolor": "white",
            "ticks": ""
           },
           "baxis": {
            "gridcolor": "white",
            "linecolor": "white",
            "ticks": ""
           },
           "bgcolor": "#E5ECF6",
           "caxis": {
            "gridcolor": "white",
            "linecolor": "white",
            "ticks": ""
           }
          },
          "title": {
           "x": 0.05
          },
          "xaxis": {
           "automargin": true,
           "gridcolor": "white",
           "linecolor": "white",
           "ticks": "",
           "title": {
            "standoff": 15
           },
           "zerolinecolor": "white",
           "zerolinewidth": 2
          },
          "yaxis": {
           "automargin": true,
           "gridcolor": "white",
           "linecolor": "white",
           "ticks": "",
           "title": {
            "standoff": 15
           },
           "zerolinecolor": "white",
           "zerolinewidth": 2
          }
         }
        },
        "width": 1000,
        "xaxis": {
         "anchor": "y",
         "domain": [
          0,
          0.45
         ],
         "rangeslider": {
          "visible": false
         }
        },
        "xaxis2": {
         "anchor": "y2",
         "domain": [
          0.55,
          1
         ],
         "rangeslider": {
          "visible": false
         }
        },
        "xaxis3": {
         "anchor": "y3",
         "domain": [
          0,
          0.45
         ],
         "rangeslider": {
          "visible": false
         }
        },
        "xaxis4": {
         "anchor": "y4",
         "domain": [
          0.55,
          1
         ],
         "rangeslider": {
          "visible": false
         }
        },
        "xaxis5": {
         "anchor": "y5",
         "domain": [
          0,
          0.45
         ],
         "rangeslider": {
          "visible": false
         }
        },
        "xaxis6": {
         "anchor": "y6",
         "domain": [
          0.55,
          1
         ]
        },
        "yaxis": {
         "anchor": "x",
         "domain": [
          0.7333333333333333,
          1
         ]
        },
        "yaxis2": {
         "anchor": "x2",
         "domain": [
          0.7333333333333333,
          1
         ]
        },
        "yaxis3": {
         "anchor": "x3",
         "domain": [
          0.36666666666666664,
          0.6333333333333333
         ]
        },
        "yaxis4": {
         "anchor": "x4",
         "domain": [
          0.36666666666666664,
          0.6333333333333333
         ]
        },
        "yaxis5": {
         "anchor": "x5",
         "domain": [
          0,
          0.26666666666666666
         ]
        },
        "yaxis6": {
         "anchor": "x6",
         "domain": [
          0,
          0.26666666666666666
         ]
        }
       }
      },
      "text/html": [
       "<div>                            <div id=\"db4bb7e7-8d25-4a1e-b363-4b0837438b78\" class=\"plotly-graph-div\" style=\"height:1000px; width:1000px;\"></div>            <script type=\"text/javascript\">                require([\"plotly\"], function(Plotly) {                    window.PLOTLYENV=window.PLOTLYENV || {};                                    if (document.getElementById(\"db4bb7e7-8d25-4a1e-b363-4b0837438b78\")) {                    Plotly.newPlot(                        \"db4bb7e7-8d25-4a1e-b363-4b0837438b78\",                        [{\"close\":[123.1500015258789,125.3499984741211,137.57000732421875,137.8000030517578,149.8699951171875,150.22999572753906,157.6699981689453,156.8000030517578,160.9499969482422,167.82000732421875,179.0500030517578,173.44000244140625,174.0399932861328,179.82000732421875,182.4499969482422,194.86000061035156,194.6999969482422,194.6999969482422,180.8300018310547,182.9199981689453,182.86000061035156,183.1999969482422,169.91000366210938,167.8699951171875,180.19000244140625],\"high\":[128.6199951171875,136.6300048828125,141.25999450683594,148.47000122070312,155.25,160.99000549316406,160.92999267578125,161.6199951171875,175.0500030517578,177.3699951171875,182.5,175.1999969482422,179.3800048828125,183.64999389648438,191.27000427246094,196.25,198.9199981689453,194.75999450683594,186.3800048828125,188.5,185.1999969482422,183.6199951171875,170.9199981689453,176.77000427246094,185.19000244140625],\"low\":[121.0199966430664,122.26000213623047,135.88999938964844,137.66000366210938,145.82000732421875,150.0399932861328,153.27999877929688,155.30999755859375,156.91000366210938,167.52000427246094,173.36000061035156,169.05999755859375,172.22000122070312,175.3300018310547,180.5500030517578,191.11000061035156,191.8000030517578,180.6300048828125,178.75,179.0,180.6300048828125,172.5,166.19000244140625,167.5399932861328,176.5500030517578],\"open\":[126.37000274658203,136.0,139.33999633789062,146.0500030517578,154.0,159.63999938964844,153.44000244140625,159.25,174.8699951171875,176.10000610351562,173.83999633789062,172.1999969482422,175.02999877929688,181.22000122070312,189.44000244140625,191.77999877929688,197.0800018310547,182.42999267578125,184.99000549316406,179.9600067138672,185.05999755859375,173.57000732421875,168.6300048828125,175.85000610351562,185.0500030517578],\"x\":[\"2022-12-23T00:00:00-05:00\",\"2022-12-22T00:00:00-05:00\",\"2022-12-21T00:00:00-05:00\",\"2022-12-20T00:00:00-05:00\",\"2022-12-19T00:00:00-05:00\",\"2022-12-16T00:00:00-05:00\",\"2022-12-15T00:00:00-05:00\",\"2022-12-14T00:00:00-05:00\",\"2022-12-13T00:00:00-05:00\",\"2022-12-12T00:00:00-05:00\",\"2022-12-09T00:00:00-05:00\",\"2022-12-08T00:00:00-05:00\",\"2022-12-07T00:00:00-05:00\",\"2022-12-06T00:00:00-05:00\",\"2022-12-05T00:00:00-05:00\",\"2022-12-02T00:00:00-05:00\",\"2022-12-01T00:00:00-05:00\",\"2022-11-30T00:00:00-05:00\",\"2022-11-29T00:00:00-05:00\",\"2022-11-28T00:00:00-05:00\",\"2022-11-25T00:00:00-05:00\",\"2022-11-23T00:00:00-05:00\",\"2022-11-22T00:00:00-05:00\",\"2022-11-21T00:00:00-05:00\",\"2022-11-18T00:00:00-05:00\"],\"type\":\"candlestick\",\"xaxis\":\"x\",\"yaxis\":\"y\"},{\"close\":[14.197333335876465,13.821332931518555,14.157999992370605,13.896666526794434,14.464667320251465,15.352666854858398,15.026666641235352,14.148667335510254,13.834667205810547,14.36400032043457,14.461999893188477,13.612667083740234,13.585332870483398,13.206000328063965,12.927332878112793,13.27400016784668,13.208000183105469,13.625332832336426,14.576000213623047,13.866000175476074,13.857333183288574,13.323332786560059,13.234000205993652,13.79466724395752,13.859333038330078,13.84866714477539,14.060667037963867,14.440667152404785,13.8186674118042,13.423333168029785,11.906000137329102,12.150667190551758,12.311332702636719,12.677332878112793,12.708000183105469,12.572667121887207,12.77066707611084,13.072667121887207,13.020000457763672,13.296667098999023,13.658666610717773,13.819999694824219,14.104000091552734,14.015999794006348,14.015999794006348,13.851332664489746,13.646666526794434,13.662667274475098,13.599332809448242,13.793333053588867,14.197333335876465,14.696000099182129,14.678000450134277,15.259332656860352,15.660667419433594,15.72266674041748,16.002666473388672,15.59866714477539,15.39799976348877,15.852666854858398,16.099332809448242,15.62733268737793,15.922666549682617,16.413999557495117,16.862667083740234,16.8439998626709,16.98933219909668,16.70400047302246,16.320667266845703,16.836000442504883,16.866666793823242,16.53333282470703,14.510000228881836,13.973333358764648,13.998000144958496],\"high\":[14.84000015258789,14.239999771118164,14.447999954223633,14.449999809265137,14.543999671936035,15.392666816711426,15.715332984924316,15.218000411987305,14.41333293914795,14.432666778564453,14.563332557678223,14.5,13.800000190734863,13.895999908447266,13.28600025177002,13.332667350769043,13.486000061035156,13.74666690826416,14.621999740600586,14.449333190917969,14.186667442321777,13.779999732971191,13.586000442504883,13.8100004196167,13.87733268737793,14.267999649047852,14.090666770935059,14.512666702270508,14.577333450317383,14.013333320617676,12.960000038146973,12.226667404174805,12.47933292388916,12.755999565124512,12.898667335510254,12.843999862670898,12.802666664123535,13.12600040435791,13.288666725158691,13.324666976928711,13.791999816894531,13.850666999816895,14.258000373840332,14.184666633605957,14.166000366210938,14.319999694824219,13.956666946411133,13.866666793823242,13.750666618347168,13.946666717529297,14.84000015258789,15.136667251586914,15.326666831970215,15.74666690826416,15.949999809265137,16.10333251953125,16.100000381469727,15.862000465393066,15.795999526977539,16.279333114624023,16.5,16.30666732788086,16.200000762939453,16.989999771118164,17.166667938232422,17.132667541503906,17.333332061767578,16.77666664123535,16.845333099365234,17.459999084472656,17.666667938232422,17.280000686645508,14.557332992553711,14.26533317565918,14.347332954406738],\"low\":[14.09000015258789,13.533332824707031,14.017999649047852,13.759332656860352,13.905332565307617,14.536666870117188,14.800000190734863,14.083333015441895,13.567333221435547,13.761333465576172,14.059332847595215,13.586000442504883,13.239999771118164,12.96066665649414,12.288000106811523,12.721332550048828,12.938667297363281,12.933333396911621,13.667332649230957,13.800000190734863,13.546667098999023,13.176667213439941,12.699999809265137,13.035332679748535,13.41866683959961,13.712667465209961,13.767999649047852,13.90133285522461,13.789999961853027,13.149999618530273,11.866666793823242,11.814666748046875,11.991999626159668,12.199999809265137,12.473333358764648,12.353333473205566,12.514666557312012,12.666666984558105,12.871333122253418,12.986000061035156,13.303999900817871,13.5,13.846667289733887,13.684000015258789,13.847999572753906,13.8013334274292,13.444666862487793,13.505999565124512,13.359999656677246,13.603333473205566,14.09000015258789,14.526666641235352,14.017999649047852,15.166666984558105,15.557332992553711,15.567333221435547,15.668000221252441,15.366666793823242,15.221332550048828,15.600000381469727,15.407333374023438,15.495332717895508,15.737333297729492,16.29400062561035,16.6299991607666,16.786666870117188,16.85533332824707,15.666000366210938,16.170000076293945,16.55533218383789,16.5,15.229999542236328,13.887999534606934,13.946000099182129,13.751333236694336],\"open\":[14.796667098999023,14.157999992370605,14.186667442321777,14.433333396911621,13.934666633605957,14.666666984558105,15.353333473205566,15.067333221435547,13.720666885375977,14.00333309173584,14.450667381286621,14.454667091369629,13.37399959564209,13.84000015258789,13.272666931152344,13.133333206176758,13.307332992553711,13.138667106628418,13.757332801818848,14.42199993133545,14.053999900817871,13.466667175292969,13.333333015441895,13.21399974822998,13.573332786560059,13.805333137512207,13.90666675567627,13.965332984924316,14.4399995803833,13.97599983215332,12.133333206176758,11.990667343139648,12.258000373840332,12.250666618347168,12.596667289733887,12.665332794189453,12.596667289733887,12.714667320251465,13.129332542419434,13.078666687011719,13.356666564941406,13.635333061218262,13.90133285522461,14.001333236694336,14.038000106811523,14.020000457763672,13.821999549865723,13.565999984741211,13.623332977294922,13.631333351135254,14.796667098999023,14.942667007446289,15.316666603088379,15.73466682434082,15.744000434875488,16.092666625976562,15.796667098999023,15.66333293914795,15.685999870300293,16.252666473388672,15.433333396911621,15.766667366027832,16.18000030517578,16.862667083740234,16.94266700744629,17.114667892456055,17.23200035095215,15.817333221435547,16.643333435058594,17.416667938232422,17.238666534423828,15.333333015441895,13.917332649230957,14.109333038330078,14.333999633789062],\"x\":[\"2014-03-26T00:00:00-04:00\",\"2014-03-27T00:00:00-04:00\",\"2014-03-28T00:00:00-04:00\",\"2014-03-31T00:00:00-04:00\",\"2014-04-01T00:00:00-04:00\",\"2014-04-02T00:00:00-04:00\",\"2014-04-03T00:00:00-04:00\",\"2014-04-04T00:00:00-04:00\",\"2014-04-07T00:00:00-04:00\",\"2014-04-08T00:00:00-04:00\",\"2014-04-09T00:00:00-04:00\",\"2014-04-10T00:00:00-04:00\",\"2014-04-11T00:00:00-04:00\",\"2014-04-14T00:00:00-04:00\",\"2014-04-15T00:00:00-04:00\",\"2014-04-16T00:00:00-04:00\",\"2014-04-17T00:00:00-04:00\",\"2014-04-21T00:00:00-04:00\",\"2014-04-22T00:00:00-04:00\",\"2014-04-23T00:00:00-04:00\",\"2014-04-24T00:00:00-04:00\",\"2014-04-25T00:00:00-04:00\",\"2014-04-28T00:00:00-04:00\",\"2014-04-29T00:00:00-04:00\",\"2014-04-30T00:00:00-04:00\",\"2014-05-01T00:00:00-04:00\",\"2014-05-02T00:00:00-04:00\",\"2014-05-05T00:00:00-04:00\",\"2014-05-06T00:00:00-04:00\",\"2014-05-07T00:00:00-04:00\",\"2014-05-08T00:00:00-04:00\",\"2014-05-09T00:00:00-04:00\",\"2014-05-12T00:00:00-04:00\",\"2014-05-13T00:00:00-04:00\",\"2014-05-14T00:00:00-04:00\",\"2014-05-15T00:00:00-04:00\",\"2014-05-16T00:00:00-04:00\",\"2014-05-19T00:00:00-04:00\",\"2014-05-20T00:00:00-04:00\",\"2014-05-21T00:00:00-04:00\",\"2014-05-22T00:00:00-04:00\",\"2014-05-23T00:00:00-04:00\",\"2014-05-27T00:00:00-04:00\",\"2014-05-28T00:00:00-04:00\",\"2014-05-29T00:00:00-04:00\",\"2014-05-30T00:00:00-04:00\",\"2014-06-02T00:00:00-04:00\",\"2014-06-03T00:00:00-04:00\",\"2014-06-04T00:00:00-04:00\",\"2014-06-05T00:00:00-04:00\",\"2014-03-26T00:00:00-04:00\",\"2014-03-25T00:00:00-04:00\",\"2014-03-24T00:00:00-04:00\",\"2014-03-21T00:00:00-04:00\",\"2014-03-20T00:00:00-04:00\",\"2014-03-19T00:00:00-04:00\",\"2014-03-18T00:00:00-04:00\",\"2014-03-17T00:00:00-04:00\",\"2014-03-14T00:00:00-04:00\",\"2014-03-13T00:00:00-04:00\",\"2014-03-12T00:00:00-04:00\",\"2014-03-11T00:00:00-04:00\",\"2014-03-10T00:00:00-04:00\",\"2014-03-07T00:00:00-05:00\",\"2014-03-06T00:00:00-05:00\",\"2014-03-05T00:00:00-05:00\",\"2014-03-04T00:00:00-05:00\",\"2014-03-03T00:00:00-05:00\",\"2014-02-28T00:00:00-05:00\",\"2014-02-27T00:00:00-05:00\",\"2014-02-26T00:00:00-05:00\",\"2014-02-25T00:00:00-05:00\",\"2014-02-24T00:00:00-05:00\",\"2014-02-21T00:00:00-05:00\",\"2014-02-20T00:00:00-05:00\"],\"type\":\"candlestick\",\"xaxis\":\"x2\",\"yaxis\":\"y2\"},{\"close\":[15.600666999816895,16.273332595825195,17.00200080871582,17.022666931152344,16.470666885375977,16.32266616821289,16.131999969482422,15.968000411987305,15.133999824523926,15.487333297729492,15.463333129882812,15.222000122070312,14.0686674118042,13.690667152404785,13.67199993133545,12.84866714477539,13.03266716003418,12.708666801452637,12.579999923706055,12.657333374023438,12.54800033569336,12.343999862670898,11.9313325881958,12.90666675567627,13.105999946594238,13.729999542236328,13.633333206176758,14.192000389099121,14.473333358764648,13.950667381286621,14.260666847229004,14.32800006866455,15.001999855041504,14.982666969299316,15.095333099365234,14.641332626342773,14.790666580200195,14.909333229064941,14.650667190551758,14.618000030517578,14.855999946594238,14.897333145141602,15.14466667175293,14.970000267028809,15.65999984741211,15.539999961853027,15.355999946594238,15.337332725524902,15.928000450134277,15.90666675567627,15.600666999816895,15.912667274475098,16.097999572753906,15.675999641418457,16.5086669921875,17.243999481201172,17.593332290649414,17.516666412353516,18.21733283996582,18.082000732421875,18.224000930786133,17.7586669921875,17.84666633605957,17.89466667175293,18.40399932861328,18.15399932861328,18.213333129882812,18.33066749572754,17.851999282836914,19.45400047302246,19.058666229248047,19.278667449951172,18.657333374023438,18.57466697692871,18.32200050354004],\"high\":[16.0,16.475332260131836,17.107332229614258,17.22333335876465,17.1473331451416,16.706666946411133,16.245332717895508,16.132667541503906,15.498000144958496,15.633333206176758,15.496000289916992,15.399999618530273,14.815999984741211,13.733332633972168,13.826666831970215,13.595999717712402,13.29800033569336,13.331999778747559,13.0,12.826000213623047,12.817333221435547,12.661333084106445,12.445332527160645,12.932000160217285,13.41866683959961,14.066666603088379,14.055999755859375,14.462667465209961,14.726667404174805,14.892000198364258,14.326666831970215,14.44333267211914,15.133333206176758,15.649333000183105,15.184666633605957,15.126667022705078,14.812000274658203,15.057332992553711,15.022666931152344,15.148667335510254,14.859999656677246,15.011333465576172,15.539999961853027,15.276666641235352,16.10466766357422,15.696666717529297,15.483332633972168,15.399999618530273,15.929332733154297,16.100000381469727,16.0,16.28066635131836,16.26533317565918,16.44533348083496,17.266666412353516,17.687999725341797,17.706666946411133,17.978666305541992,18.32266616821289,18.319332122802734,18.333332061767578,17.92533302307129,18.1299991607666,18.03333282470703,18.558666229248047,18.333332061767578,18.743999481201172,18.406667709350586,18.079999923706055,19.744667053222656,19.29599952697754,19.280000686645508,18.67733383178711,18.68866729736328,18.357999801635742],\"low\":[15.433333396911621,15.847999572753906,16.232667922973633,16.566667556762695,16.34000015258789,16.280000686645508,15.795999526977539,15.73466682434082,14.966667175292969,15.199999809265137,15.016667366027832,15.100000381469727,13.928000450134277,13.016667366027832,13.06933307647705,12.785332679748535,12.414667129516602,12.583333015441895,12.523332595825195,12.336000442504883,12.468000411987305,12.273332595825195,11.799332618713379,11.973999977111816,12.789999961853027,13.453332901000977,13.566666603088379,13.934000015258789,14.233332633972168,13.933333396911621,13.833999633789062,14.026666641235352,14.284667015075684,14.837332725524902,14.737333297729492,14.423333168029785,14.366666793823242,14.73466682434082,14.63266658782959,14.539999961853027,14.489999771118164,14.720000267028809,15.085332870483398,14.814666748046875,15.633999824523926,15.386667251586914,15.244000434875488,15.152000427246094,15.542667388916016,15.720000267028809,15.433333396911621,15.800000190734863,15.477999687194824,15.408666610717773,16.404666900634766,17.200000762939453,17.049999237060547,17.498666763305664,17.983333587646484,17.902666091918945,17.648000717163086,17.242000579833984,17.788667678833008,17.706666946411133,18.19266700744629,17.974000930786133,18.029333114624023,17.74066734313965,17.37266731262207,19.14466667175293,18.92533302307129,18.75200080871582,18.299999237060547,18.34000015258789,17.8786678314209],\"open\":[15.923333168029785,16.368000030517578,16.257333755493164,16.667999267578125,17.1200008392334,16.46266746520996,16.133333206176758,15.983332633972168,15.46733283996582,15.286666870117188,15.288000106811523,15.299332618713379,14.797332763671875,13.520000457763672,13.184000015258789,13.273332595825195,12.956000328063965,13.321999549865723,12.74666690826416,12.473333358764648,12.583333015441895,12.34000015258789,12.36733341217041,12.073332786560059,13.245332717895508,13.629332542419434,13.666666984558105,14.016667366027832,14.609333038330078,14.863332748413086,14.025333404541016,14.083333015441895,14.36533260345459,15.248000144958496,15.007332801818848,14.866666793823242,14.414667129516602,14.88266658782959,14.959333419799805,14.687333106994629,14.630000114440918,14.732666969299316,15.347332954406738,15.259332656860352,15.959333419799805,15.637999534606934,15.416000366210938,15.264666557312012,15.609999656677246,15.87600040435791,15.923333168029785,16.137332916259766,15.723999977111816,16.433332443237305,17.0,17.59000015258789,17.343332290649414,17.933332443237305,18.082000732421875,18.316667556762695,17.71666717529297,17.908666610717773,18.014667510986328,17.886667251586914,18.44933319091797,18.110000610351562,18.512666702270508,17.99066734313965,17.459333419799805,19.154666900634766,19.219999313354492,18.841333389282227,18.579999923706055,18.477333068847656,17.916667938232422],\"x\":[\"2019-05-01T00:00:00-04:00\",\"2019-05-02T00:00:00-04:00\",\"2019-05-03T00:00:00-04:00\",\"2019-05-06T00:00:00-04:00\",\"2019-05-07T00:00:00-04:00\",\"2019-05-08T00:00:00-04:00\",\"2019-05-09T00:00:00-04:00\",\"2019-05-10T00:00:00-04:00\",\"2019-05-13T00:00:00-04:00\",\"2019-05-14T00:00:00-04:00\",\"2019-05-15T00:00:00-04:00\",\"2019-05-16T00:00:00-04:00\",\"2019-05-17T00:00:00-04:00\",\"2019-05-20T00:00:00-04:00\",\"2019-05-21T00:00:00-04:00\",\"2019-05-22T00:00:00-04:00\",\"2019-05-23T00:00:00-04:00\",\"2019-05-24T00:00:00-04:00\",\"2019-05-28T00:00:00-04:00\",\"2019-05-29T00:00:00-04:00\",\"2019-05-30T00:00:00-04:00\",\"2019-05-31T00:00:00-04:00\",\"2019-06-03T00:00:00-04:00\",\"2019-06-04T00:00:00-04:00\",\"2019-06-05T00:00:00-04:00\",\"2019-06-06T00:00:00-04:00\",\"2019-06-07T00:00:00-04:00\",\"2019-06-10T00:00:00-04:00\",\"2019-06-11T00:00:00-04:00\",\"2019-06-12T00:00:00-04:00\",\"2019-06-13T00:00:00-04:00\",\"2019-06-14T00:00:00-04:00\",\"2019-06-17T00:00:00-04:00\",\"2019-06-18T00:00:00-04:00\",\"2019-06-19T00:00:00-04:00\",\"2019-06-20T00:00:00-04:00\",\"2019-06-21T00:00:00-04:00\",\"2019-06-24T00:00:00-04:00\",\"2019-06-25T00:00:00-04:00\",\"2019-06-26T00:00:00-04:00\",\"2019-06-27T00:00:00-04:00\",\"2019-06-28T00:00:00-04:00\",\"2019-07-01T00:00:00-04:00\",\"2019-07-02T00:00:00-04:00\",\"2019-07-03T00:00:00-04:00\",\"2019-07-05T00:00:00-04:00\",\"2019-07-08T00:00:00-04:00\",\"2019-07-09T00:00:00-04:00\",\"2019-07-10T00:00:00-04:00\",\"2019-07-11T00:00:00-04:00\",\"2019-05-01T00:00:00-04:00\",\"2019-04-30T00:00:00-04:00\",\"2019-04-29T00:00:00-04:00\",\"2019-04-26T00:00:00-04:00\",\"2019-04-25T00:00:00-04:00\",\"2019-04-24T00:00:00-04:00\",\"2019-04-23T00:00:00-04:00\",\"2019-04-22T00:00:00-04:00\",\"2019-04-18T00:00:00-04:00\",\"2019-04-17T00:00:00-04:00\",\"2019-04-16T00:00:00-04:00\",\"2019-04-15T00:00:00-04:00\",\"2019-04-12T00:00:00-04:00\",\"2019-04-11T00:00:00-04:00\",\"2019-04-10T00:00:00-04:00\",\"2019-04-09T00:00:00-04:00\",\"2019-04-08T00:00:00-04:00\",\"2019-04-05T00:00:00-04:00\",\"2019-04-04T00:00:00-04:00\",\"2019-04-03T00:00:00-04:00\",\"2019-04-02T00:00:00-04:00\",\"2019-04-01T00:00:00-04:00\",\"2019-03-29T00:00:00-04:00\",\"2019-03-28T00:00:00-04:00\",\"2019-03-27T00:00:00-04:00\"],\"type\":\"candlestick\",\"xaxis\":\"x3\",\"yaxis\":\"y3\"},{\"close\":[13.185333251953125,13.522000312805176,13.447333335876465,13.157333374023438,12.964667320251465,13.220000267028809,13.069999694824219,13.093999862670898,13.361332893371582,13.69333267211914,13.755999565124512,13.642666816711426,13.6813325881958,13.76200008392334,13.829999923706055,13.932666778564453,13.720666885375977,13.751333236694336,13.380000114440918,13.60200023651123,14.24666690826416,14.093999862670898,13.897333145141602,13.399999618530273,13.107333183288574,13.396666526794434,13.34000015258789,13.434000015258789,13.349332809448242,13.100666999816895,12.93066692352295,13.273332595825195,13.570667266845703,13.273332595825195,13.339332580566406,13.517333030700684,13.489333152770996,13.482666969299316,13.600666999816895,13.33133316040039,13.182000160217285,12.719332695007324,12.534667015075684,12.494667053222656,12.704000473022461,12.880666732788086,12.996000289916992,12.670666694641113,12.356666564941406,12.570667266845703,13.185333251953125,13.38466739654541,14.133999824523926,14.089332580566406,14.346667289733887,14.666000366210938,14.730667114257812,14.841333389282227,14.989333152770996,14.862000465393066,15.0,14.900667190551758,14.88266658782959,14.907333374023438,15.03933334350586,15.040666580200195,14.994000434875488,15.043333053588867,15.272000312805176,15.077333450317383,15.335332870483398,15.37399959564209,15.052666664123535,15.146666526794434,15.333999633789062],\"high\":[13.546667098999023,13.550000190734863,13.766667366027832,13.326000213623047,13.32800006866455,13.424667358398438,13.232666969299316,13.194666862487793,13.501333236694336,13.713333129882812,13.961999893188477,13.850000381469727,13.800000190734863,13.8186674118042,14.01200008392334,14.066666603088379,13.998666763305664,13.883333206176758,13.821999549865723,13.665332794189453,14.378000259399414,14.221332550048828,14.210000038146973,13.61400032043457,13.421333312988281,13.609333038330078,13.479999542236328,13.592000007629395,13.393333435058594,13.428667068481445,13.22599983215332,13.29800033569336,13.77733325958252,13.533332824707031,13.437999725341797,13.596667289733887,13.645999908447266,13.545999526977539,14.24666690826416,13.687999725341797,13.499333381652832,13.233332633972168,12.846667289733887,12.764666557312012,12.897333145141602,12.952667236328125,13.166000366210938,12.800000190734863,12.77400016784668,12.592000007629395,13.546667098999023,14.073332786560059,14.173333168029785,14.407333374023438,14.69333267211914,14.857333183288574,14.920000076293945,15.143333435058594,15.232666969299316,15.007332801818848,15.011333465576172,15.043999671936035,14.988666534423828,15.145999908447266,15.300000190734863,15.109999656677246,15.171333312988281,15.324666976928711,15.435999870300293,15.30666732788086,15.466667175292969,15.390666961669922,15.313332557678223,15.324666976928711,15.775333404541016],\"low\":[13.079999923706055,13.266667366027832,13.380666732788086,13.090666770935059,12.91333293914795,12.9399995803833,12.896666526794434,12.990667343139648,13.09333324432373,13.266667366027832,13.666666984558105,13.593999862670898,13.437333106994629,13.533332824707031,13.711333274841309,13.766667366027832,13.640666961669922,13.684000015258789,13.371999740600586,13.303333282470703,13.883333206176758,13.921333312988281,13.874667167663574,13.347332954406738,13.053333282470703,13.310667037963867,13.220666885375977,13.361332893371582,13.136667251586914,13.08666706085205,12.800000190734863,12.883999824523926,13.204000473022461,13.136667251586914,13.160667419433594,13.350000381469727,13.41333293914795,13.34000015258789,13.44333267211914,13.321999549865723,13.053999900817871,12.540666580200195,12.500666618347168,12.469332695007324,12.397333145141602,12.670000076293945,12.750666618347168,12.263333320617676,12.027999877929688,12.199999809265137,13.079999923706055,13.366666793823242,13.90999984741211,14.034667015075684,14.333333015441895,14.588000297546387,14.718000411987305,14.814666748046875,14.853333473205566,14.845333099365234,14.835332870483398,14.81933307647705,14.853333473205566,14.894000053405762,14.995332717895508,14.935999870300293,14.894000053405762,14.974666595458984,15.109999656677246,15.072667121887207,15.15999984741211,14.803333282470703,14.947333335876465,14.760000228881836,15.291999816894531],\"open\":[13.488666534423828,13.267999649047852,13.699999809265137,13.303333282470703,13.272666931152344,13.0,13.137332916259766,13.050000190734863,13.099332809448242,13.361332893371582,13.800000190734863,13.789999961853027,13.758000373840332,13.760000228881836,13.732666969299316,13.766667366027832,13.976667404174805,13.833999633789062,13.706666946411133,13.480667114257812,14.153332710266113,14.206666946411133,14.149333000183105,13.497332572937012,13.399999618530273,13.423333168029785,13.456666946411133,13.396666526794434,13.366666793823242,13.37733268737793,13.136667251586914,13.065999984741211,13.315999984741211,13.474666595458984,13.239999771118164,13.399999618530273,13.526666641235352,13.399999618530273,14.089332580566406,13.600000381469727,13.499333381652832,13.202667236328125,12.670000076293945,12.600000381469727,12.600000381469727,12.906000137329102,12.919333457946777,12.458666801452637,12.736666679382324,12.28266716003418,13.488666534423828,13.934000015258789,14.028667449951172,14.407333374023438,14.676667213439941,14.809332847595215,14.87399959564209,15.136667251586914,14.954667091369629,14.944666862487793,14.902667045593262,14.921333312988281,14.95533275604248,15.03266716003418,15.067999839782715,15.02733325958252,15.07800006866455,15.215999603271484,15.121333122253418,15.199999809265137,15.333333015441895,15.045999526977539,15.157999992370605,15.291333198547363,15.699999809265137],\"x\":[\"2016-09-02T00:00:00-04:00\",\"2016-09-06T00:00:00-04:00\",\"2016-09-07T00:00:00-04:00\",\"2016-09-08T00:00:00-04:00\",\"2016-09-09T00:00:00-04:00\",\"2016-09-12T00:00:00-04:00\",\"2016-09-13T00:00:00-04:00\",\"2016-09-14T00:00:00-04:00\",\"2016-09-15T00:00:00-04:00\",\"2016-09-16T00:00:00-04:00\",\"2016-09-19T00:00:00-04:00\",\"2016-09-20T00:00:00-04:00\",\"2016-09-21T00:00:00-04:00\",\"2016-09-22T00:00:00-04:00\",\"2016-09-23T00:00:00-04:00\",\"2016-09-26T00:00:00-04:00\",\"2016-09-27T00:00:00-04:00\",\"2016-09-28T00:00:00-04:00\",\"2016-09-29T00:00:00-04:00\",\"2016-09-30T00:00:00-04:00\",\"2016-10-03T00:00:00-04:00\",\"2016-10-04T00:00:00-04:00\",\"2016-10-05T00:00:00-04:00\",\"2016-10-06T00:00:00-04:00\",\"2016-10-07T00:00:00-04:00\",\"2016-10-10T00:00:00-04:00\",\"2016-10-11T00:00:00-04:00\",\"2016-10-12T00:00:00-04:00\",\"2016-10-13T00:00:00-04:00\",\"2016-10-14T00:00:00-04:00\",\"2016-10-17T00:00:00-04:00\",\"2016-10-18T00:00:00-04:00\",\"2016-10-19T00:00:00-04:00\",\"2016-10-20T00:00:00-04:00\",\"2016-10-21T00:00:00-04:00\",\"2016-10-24T00:00:00-04:00\",\"2016-10-25T00:00:00-04:00\",\"2016-10-26T00:00:00-04:00\",\"2016-10-27T00:00:00-04:00\",\"2016-10-28T00:00:00-04:00\",\"2016-10-31T00:00:00-04:00\",\"2016-11-01T00:00:00-04:00\",\"2016-11-02T00:00:00-04:00\",\"2016-11-03T00:00:00-04:00\",\"2016-11-04T00:00:00-04:00\",\"2016-11-07T00:00:00-05:00\",\"2016-11-08T00:00:00-05:00\",\"2016-11-09T00:00:00-05:00\",\"2016-11-10T00:00:00-05:00\",\"2016-11-11T00:00:00-05:00\",\"2016-09-02T00:00:00-04:00\",\"2016-09-01T00:00:00-04:00\",\"2016-08-31T00:00:00-04:00\",\"2016-08-30T00:00:00-04:00\",\"2016-08-29T00:00:00-04:00\",\"2016-08-26T00:00:00-04:00\",\"2016-08-25T00:00:00-04:00\",\"2016-08-24T00:00:00-04:00\",\"2016-08-23T00:00:00-04:00\",\"2016-08-22T00:00:00-04:00\",\"2016-08-19T00:00:00-04:00\",\"2016-08-18T00:00:00-04:00\",\"2016-08-17T00:00:00-04:00\",\"2016-08-16T00:00:00-04:00\",\"2016-08-15T00:00:00-04:00\",\"2016-08-12T00:00:00-04:00\",\"2016-08-11T00:00:00-04:00\",\"2016-08-10T00:00:00-04:00\",\"2016-08-09T00:00:00-04:00\",\"2016-08-08T00:00:00-04:00\",\"2016-08-05T00:00:00-04:00\",\"2016-08-04T00:00:00-04:00\",\"2016-08-03T00:00:00-04:00\",\"2016-08-02T00:00:00-04:00\",\"2016-08-01T00:00:00-04:00\"],\"type\":\"candlestick\",\"xaxis\":\"x4\",\"yaxis\":\"y4\"},{\"close\":[17.382667541503906,17.42533302307129,17.58799934387207,17.288000106811523,16.66866683959961,16.694000244140625,16.80933380126953,16.463333129882812,16.440000534057617,16.35066795349121,16.178667068481445,16.016000747680664,16.761333465576172,17.013999938964844,17.374666213989258,17.30466651916504,17.28533363342285,17.134000778198242,15.793999671936035,14.97266674041748,15.137332916259766,15.313332557678223,15.09000015258789,15.165332794189453,15.364666938781738,15.689332962036133,15.40666675567627,15.685999870300293,15.682666778564453,14.777999877929688,16.184667587280273,15.873332977294922,15.910667419433594,16.113332748413086,16.172666549682617,15.928667068481445,15.39799976348877,16.08133316040039,16.01333236694336,16.1286678314209,16.738666534423828,16.606666564941406,16.780000686645508,17.245332717895508,16.93199920654297,17.18000030517578,16.516000747680664,16.58066749572754,16.185333251953125,16.447999954223633,17.382667541503906,16.923999786376953,18.613332748413086,18.687332153320312,18.739999771118164,18.565332412719727,18.80733299255371,18.492666244506836,19.069332122802734,18.746000289916992,18.941333770751953,17.979999542236328,17.590667724609375,17.549999237060547,17.44933319091797,17.503332138061523,17.118667602539062,16.95599937438965,17.047332763671875,17.117332458496094,17.32933235168457,17.46733283996582,17.42533302307129,17.354000091552734,17.33066749572754],\"high\":[17.497333526611328,17.64666748046875,17.706666946411133,17.428667068481445,17.06800079345703,16.920000076293945,16.856000900268555,16.997333526611328,16.648666381835938,16.576000213623047,16.510000228881836,16.17733383178711,16.8526668548584,17.100000381469727,17.499332427978516,17.430667877197266,17.525333404541016,17.702667236328125,16.392667770385742,15.93066692352295,15.498000144958496,15.399333000183105,15.32800006866455,15.65133285522461,15.493332862854004,15.692667007446289,15.826000213623047,15.751999855041504,15.853333473205566,15.640666961669922,16.30666732788086,16.100000381469727,16.03333282470703,16.20800018310547,16.503999710083008,16.156667709350586,16.090667724609375,16.445999145507812,16.189332962036133,16.191999435424805,16.788000106811523,16.82266616821289,17.049999237060547,17.25666618347168,17.266666412353516,17.332666397094727,16.79199981689453,16.728666305541992,16.851999282836914,16.50666618347168,17.497333526611328,18.293333053588867,18.826000213623047,18.986000061035156,18.76066780090332,19.03266716003418,18.992000579833984,18.860000610351562,19.42799949645996,19.200000762939453,18.992666244506836,18.133333206176758,17.631999969482422,17.615999221801758,17.700000762939453,17.57866668701172,17.1299991607666,17.253332138061523,17.249332427978516,17.288667678833008,17.817333221435547,17.472667694091797,17.53333282470703,17.709333419799805,17.35333251953125],\"low\":[16.827999114990234,17.299999237060547,17.488000869750977,17.01799964904785,16.31399917602539,16.333332061767578,16.46933364868164,16.406667709350586,16.404666900634766,16.091999053955078,16.007999420166016,15.710000038146973,16.357332229614258,16.735332489013672,17.18666648864746,17.048667907714844,16.842666625976562,16.959999084472656,15.680000305175781,14.733332633972168,14.866666793823242,14.48799991607666,14.606666564941406,15.103333473205566,15.034000396728516,15.386667251586914,15.370667457580566,15.466667175292969,15.41333293914795,14.687333106994629,15.216667175292969,15.709333419799805,15.670666694641113,15.916666984558105,16.08799934387207,15.768667221069336,15.368666648864746,15.233332633972168,15.813332557678223,15.786666870117188,16.133333206176758,16.371999740600586,16.683332443237305,16.566667556762695,16.801332473754883,17.034000396728516,16.373332977294922,16.399999618530273,16.14466667175293,16.042667388916016,16.827999114990234,16.608667373657227,18.46666717529297,18.575332641601562,18.243999481201172,18.46666717529297,18.501333236694336,18.167333602905273,18.69333267211914,18.67333221435547,18.286666870117188,17.833999633789062,17.44266700744629,17.3526668548584,17.444000244140625,17.21266746520996,16.840667724609375,16.884000778198242,16.866666793823242,16.774667739868164,17.316667556762695,17.233333587646484,17.100000381469727,17.30733299255371,16.972000122070312],\"open\":[17.010000228881836,17.493999481201172,17.55733299255371,17.19933319091797,17.0,16.347999572753906,16.7413330078125,16.834667205810547,16.549999237060547,16.266666412353516,16.461332321166992,16.14666748046875,16.68000030517578,16.87066650390625,17.275333404541016,17.235332489013672,17.34000015258789,17.483333587646484,16.30933380126953,15.904666900634766,15.216667175292969,14.666666984558105,14.64799976348877,15.558667182922363,15.114666938781738,15.618000030517578,15.545999526977539,15.644000053405762,15.751333236694336,15.616666793823242,15.30666732788086,16.075332641601562,15.87600040435791,16.167333602905273,16.200000762939453,16.03266716003418,16.066667556762695,15.63266658782959,16.145999908447266,15.940667152404785,16.170000076293945,16.648000717163086,16.70800018310547,16.666667938232422,17.166000366210938,17.05733299255371,16.707332611083984,16.530000686645508,16.81399917602539,16.34666633605957,17.010000228881836,18.291332244873047,18.700000762939453,18.69733238220215,18.633333206176758,18.865999221801758,18.507999420166016,18.836666107177734,18.93400001525879,19.17799949645996,18.366666793823242,17.913333892822266,17.459333419799805,17.566667556762695,17.665332794189453,17.21266746520996,16.96933364868164,17.101333618164062,16.97800064086914,17.257999420166016,17.549999237060547,17.43199920654297,17.499332427978516,17.46733283996582,17.205333709716797],\"x\":[\"2014-09-16T00:00:00-04:00\",\"2014-09-17T00:00:00-04:00\",\"2014-09-18T00:00:00-04:00\",\"2014-09-19T00:00:00-04:00\",\"2014-09-22T00:00:00-04:00\",\"2014-09-23T00:00:00-04:00\",\"2014-09-24T00:00:00-04:00\",\"2014-09-25T00:00:00-04:00\",\"2014-09-26T00:00:00-04:00\",\"2014-09-29T00:00:00-04:00\",\"2014-09-30T00:00:00-04:00\",\"2014-10-01T00:00:00-04:00\",\"2014-10-02T00:00:00-04:00\",\"2014-10-03T00:00:00-04:00\",\"2014-10-06T00:00:00-04:00\",\"2014-10-07T00:00:00-04:00\",\"2014-10-08T00:00:00-04:00\",\"2014-10-09T00:00:00-04:00\",\"2014-10-10T00:00:00-04:00\",\"2014-10-13T00:00:00-04:00\",\"2014-10-14T00:00:00-04:00\",\"2014-10-15T00:00:00-04:00\",\"2014-10-16T00:00:00-04:00\",\"2014-10-17T00:00:00-04:00\",\"2014-10-20T00:00:00-04:00\",\"2014-10-21T00:00:00-04:00\",\"2014-10-22T00:00:00-04:00\",\"2014-10-23T00:00:00-04:00\",\"2014-10-24T00:00:00-04:00\",\"2014-10-27T00:00:00-04:00\",\"2014-10-28T00:00:00-04:00\",\"2014-10-29T00:00:00-04:00\",\"2014-10-30T00:00:00-04:00\",\"2014-10-31T00:00:00-04:00\",\"2014-11-03T00:00:00-05:00\",\"2014-11-04T00:00:00-05:00\",\"2014-11-05T00:00:00-05:00\",\"2014-11-06T00:00:00-05:00\",\"2014-11-07T00:00:00-05:00\",\"2014-11-10T00:00:00-05:00\",\"2014-11-11T00:00:00-05:00\",\"2014-11-12T00:00:00-05:00\",\"2014-11-13T00:00:00-05:00\",\"2014-11-14T00:00:00-05:00\",\"2014-11-17T00:00:00-05:00\",\"2014-11-18T00:00:00-05:00\",\"2014-11-19T00:00:00-05:00\",\"2014-11-20T00:00:00-05:00\",\"2014-11-21T00:00:00-05:00\",\"2014-11-24T00:00:00-05:00\",\"2014-09-16T00:00:00-04:00\",\"2014-09-15T00:00:00-04:00\",\"2014-09-12T00:00:00-04:00\",\"2014-09-11T00:00:00-04:00\",\"2014-09-10T00:00:00-04:00\",\"2014-09-09T00:00:00-04:00\",\"2014-09-08T00:00:00-04:00\",\"2014-09-05T00:00:00-04:00\",\"2014-09-04T00:00:00-04:00\",\"2014-09-03T00:00:00-04:00\",\"2014-09-02T00:00:00-04:00\",\"2014-08-29T00:00:00-04:00\",\"2014-08-28T00:00:00-04:00\",\"2014-08-27T00:00:00-04:00\",\"2014-08-26T00:00:00-04:00\",\"2014-08-25T00:00:00-04:00\",\"2014-08-22T00:00:00-04:00\",\"2014-08-21T00:00:00-04:00\",\"2014-08-20T00:00:00-04:00\",\"2014-08-19T00:00:00-04:00\",\"2014-08-18T00:00:00-04:00\",\"2014-08-15T00:00:00-04:00\",\"2014-08-14T00:00:00-04:00\",\"2014-08-13T00:00:00-04:00\",\"2014-08-12T00:00:00-04:00\"],\"type\":\"candlestick\",\"xaxis\":\"x5\",\"yaxis\":\"y5\"}],                        {\"template\":{\"data\":{\"histogram2dcontour\":[{\"type\":\"histogram2dcontour\",\"colorbar\":{\"outlinewidth\":0,\"ticks\":\"\"},\"colorscale\":[[0.0,\"#0d0887\"],[0.1111111111111111,\"#46039f\"],[0.2222222222222222,\"#7201a8\"],[0.3333333333333333,\"#9c179e\"],[0.4444444444444444,\"#bd3786\"],[0.5555555555555556,\"#d8576b\"],[0.6666666666666666,\"#ed7953\"],[0.7777777777777778,\"#fb9f3a\"],[0.8888888888888888,\"#fdca26\"],[1.0,\"#f0f921\"]]}],\"choropleth\":[{\"type\":\"choropleth\",\"colorbar\":{\"outlinewidth\":0,\"ticks\":\"\"}}],\"histogram2d\":[{\"type\":\"histogram2d\",\"colorbar\":{\"outlinewidth\":0,\"ticks\":\"\"},\"colorscale\":[[0.0,\"#0d0887\"],[0.1111111111111111,\"#46039f\"],[0.2222222222222222,\"#7201a8\"],[0.3333333333333333,\"#9c179e\"],[0.4444444444444444,\"#bd3786\"],[0.5555555555555556,\"#d8576b\"],[0.6666666666666666,\"#ed7953\"],[0.7777777777777778,\"#fb9f3a\"],[0.8888888888888888,\"#fdca26\"],[1.0,\"#f0f921\"]]}],\"heatmap\":[{\"type\":\"heatmap\",\"colorbar\":{\"outlinewidth\":0,\"ticks\":\"\"},\"colorscale\":[[0.0,\"#0d0887\"],[0.1111111111111111,\"#46039f\"],[0.2222222222222222,\"#7201a8\"],[0.3333333333333333,\"#9c179e\"],[0.4444444444444444,\"#bd3786\"],[0.5555555555555556,\"#d8576b\"],[0.6666666666666666,\"#ed7953\"],[0.7777777777777778,\"#fb9f3a\"],[0.8888888888888888,\"#fdca26\"],[1.0,\"#f0f921\"]]}],\"heatmapgl\":[{\"type\":\"heatmapgl\",\"colorbar\":{\"outlinewidth\":0,\"ticks\":\"\"},\"colorscale\":[[0.0,\"#0d0887\"],[0.1111111111111111,\"#46039f\"],[0.2222222222222222,\"#7201a8\"],[0.3333333333333333,\"#9c179e\"],[0.4444444444444444,\"#bd3786\"],[0.5555555555555556,\"#d8576b\"],[0.6666666666666666,\"#ed7953\"],[0.7777777777777778,\"#fb9f3a\"],[0.8888888888888888,\"#fdca26\"],[1.0,\"#f0f921\"]]}],\"contourcarpet\":[{\"type\":\"contourcarpet\",\"colorbar\":{\"outlinewidth\":0,\"ticks\":\"\"}}],\"contour\":[{\"type\":\"contour\",\"colorbar\":{\"outlinewidth\":0,\"ticks\":\"\"},\"colorscale\":[[0.0,\"#0d0887\"],[0.1111111111111111,\"#46039f\"],[0.2222222222222222,\"#7201a8\"],[0.3333333333333333,\"#9c179e\"],[0.4444444444444444,\"#bd3786\"],[0.5555555555555556,\"#d8576b\"],[0.6666666666666666,\"#ed7953\"],[0.7777777777777778,\"#fb9f3a\"],[0.8888888888888888,\"#fdca26\"],[1.0,\"#f0f921\"]]}],\"surface\":[{\"type\":\"surface\",\"colorbar\":{\"outlinewidth\":0,\"ticks\":\"\"},\"colorscale\":[[0.0,\"#0d0887\"],[0.1111111111111111,\"#46039f\"],[0.2222222222222222,\"#7201a8\"],[0.3333333333333333,\"#9c179e\"],[0.4444444444444444,\"#bd3786\"],[0.5555555555555556,\"#d8576b\"],[0.6666666666666666,\"#ed7953\"],[0.7777777777777778,\"#fb9f3a\"],[0.8888888888888888,\"#fdca26\"],[1.0,\"#f0f921\"]]}],\"mesh3d\":[{\"type\":\"mesh3d\",\"colorbar\":{\"outlinewidth\":0,\"ticks\":\"\"}}],\"scatter\":[{\"fillpattern\":{\"fillmode\":\"overlay\",\"size\":10,\"solidity\":0.2},\"type\":\"scatter\"}],\"parcoords\":[{\"type\":\"parcoords\",\"line\":{\"colorbar\":{\"outlinewidth\":0,\"ticks\":\"\"}}}],\"scatterpolargl\":[{\"type\":\"scatterpolargl\",\"marker\":{\"colorbar\":{\"outlinewidth\":0,\"ticks\":\"\"}}}],\"bar\":[{\"error_x\":{\"color\":\"#2a3f5f\"},\"error_y\":{\"color\":\"#2a3f5f\"},\"marker\":{\"line\":{\"color\":\"#E5ECF6\",\"width\":0.5},\"pattern\":{\"fillmode\":\"overlay\",\"size\":10,\"solidity\":0.2}},\"type\":\"bar\"}],\"scattergeo\":[{\"type\":\"scattergeo\",\"marker\":{\"colorbar\":{\"outlinewidth\":0,\"ticks\":\"\"}}}],\"scatterpolar\":[{\"type\":\"scatterpolar\",\"marker\":{\"colorbar\":{\"outlinewidth\":0,\"ticks\":\"\"}}}],\"histogram\":[{\"marker\":{\"pattern\":{\"fillmode\":\"overlay\",\"size\":10,\"solidity\":0.2}},\"type\":\"histogram\"}],\"scattergl\":[{\"type\":\"scattergl\",\"marker\":{\"colorbar\":{\"outlinewidth\":0,\"ticks\":\"\"}}}],\"scatter3d\":[{\"type\":\"scatter3d\",\"line\":{\"colorbar\":{\"outlinewidth\":0,\"ticks\":\"\"}},\"marker\":{\"colorbar\":{\"outlinewidth\":0,\"ticks\":\"\"}}}],\"scattermapbox\":[{\"type\":\"scattermapbox\",\"marker\":{\"colorbar\":{\"outlinewidth\":0,\"ticks\":\"\"}}}],\"scatterternary\":[{\"type\":\"scatterternary\",\"marker\":{\"colorbar\":{\"outlinewidth\":0,\"ticks\":\"\"}}}],\"scattercarpet\":[{\"type\":\"scattercarpet\",\"marker\":{\"colorbar\":{\"outlinewidth\":0,\"ticks\":\"\"}}}],\"carpet\":[{\"aaxis\":{\"endlinecolor\":\"#2a3f5f\",\"gridcolor\":\"white\",\"linecolor\":\"white\",\"minorgridcolor\":\"white\",\"startlinecolor\":\"#2a3f5f\"},\"baxis\":{\"endlinecolor\":\"#2a3f5f\",\"gridcolor\":\"white\",\"linecolor\":\"white\",\"minorgridcolor\":\"white\",\"startlinecolor\":\"#2a3f5f\"},\"type\":\"carpet\"}],\"table\":[{\"cells\":{\"fill\":{\"color\":\"#EBF0F8\"},\"line\":{\"color\":\"white\"}},\"header\":{\"fill\":{\"color\":\"#C8D4E3\"},\"line\":{\"color\":\"white\"}},\"type\":\"table\"}],\"barpolar\":[{\"marker\":{\"line\":{\"color\":\"#E5ECF6\",\"width\":0.5},\"pattern\":{\"fillmode\":\"overlay\",\"size\":10,\"solidity\":0.2}},\"type\":\"barpolar\"}],\"pie\":[{\"automargin\":true,\"type\":\"pie\"}]},\"layout\":{\"autotypenumbers\":\"strict\",\"colorway\":[\"#636efa\",\"#EF553B\",\"#00cc96\",\"#ab63fa\",\"#FFA15A\",\"#19d3f3\",\"#FF6692\",\"#B6E880\",\"#FF97FF\",\"#FECB52\"],\"font\":{\"color\":\"#2a3f5f\"},\"hovermode\":\"closest\",\"hoverlabel\":{\"align\":\"left\"},\"paper_bgcolor\":\"white\",\"plot_bgcolor\":\"#E5ECF6\",\"polar\":{\"bgcolor\":\"#E5ECF6\",\"angularaxis\":{\"gridcolor\":\"white\",\"linecolor\":\"white\",\"ticks\":\"\"},\"radialaxis\":{\"gridcolor\":\"white\",\"linecolor\":\"white\",\"ticks\":\"\"}},\"ternary\":{\"bgcolor\":\"#E5ECF6\",\"aaxis\":{\"gridcolor\":\"white\",\"linecolor\":\"white\",\"ticks\":\"\"},\"baxis\":{\"gridcolor\":\"white\",\"linecolor\":\"white\",\"ticks\":\"\"},\"caxis\":{\"gridcolor\":\"white\",\"linecolor\":\"white\",\"ticks\":\"\"}},\"coloraxis\":{\"colorbar\":{\"outlinewidth\":0,\"ticks\":\"\"}},\"colorscale\":{\"sequential\":[[0.0,\"#0d0887\"],[0.1111111111111111,\"#46039f\"],[0.2222222222222222,\"#7201a8\"],[0.3333333333333333,\"#9c179e\"],[0.4444444444444444,\"#bd3786\"],[0.5555555555555556,\"#d8576b\"],[0.6666666666666666,\"#ed7953\"],[0.7777777777777778,\"#fb9f3a\"],[0.8888888888888888,\"#fdca26\"],[1.0,\"#f0f921\"]],\"sequentialminus\":[[0.0,\"#0d0887\"],[0.1111111111111111,\"#46039f\"],[0.2222222222222222,\"#7201a8\"],[0.3333333333333333,\"#9c179e\"],[0.4444444444444444,\"#bd3786\"],[0.5555555555555556,\"#d8576b\"],[0.6666666666666666,\"#ed7953\"],[0.7777777777777778,\"#fb9f3a\"],[0.8888888888888888,\"#fdca26\"],[1.0,\"#f0f921\"]],\"diverging\":[[0,\"#8e0152\"],[0.1,\"#c51b7d\"],[0.2,\"#de77ae\"],[0.3,\"#f1b6da\"],[0.4,\"#fde0ef\"],[0.5,\"#f7f7f7\"],[0.6,\"#e6f5d0\"],[0.7,\"#b8e186\"],[0.8,\"#7fbc41\"],[0.9,\"#4d9221\"],[1,\"#276419\"]]},\"xaxis\":{\"gridcolor\":\"white\",\"linecolor\":\"white\",\"ticks\":\"\",\"title\":{\"standoff\":15},\"zerolinecolor\":\"white\",\"automargin\":true,\"zerolinewidth\":2},\"yaxis\":{\"gridcolor\":\"white\",\"linecolor\":\"white\",\"ticks\":\"\",\"title\":{\"standoff\":15},\"zerolinecolor\":\"white\",\"automargin\":true,\"zerolinewidth\":2},\"scene\":{\"xaxis\":{\"backgroundcolor\":\"#E5ECF6\",\"gridcolor\":\"white\",\"linecolor\":\"white\",\"showbackground\":true,\"ticks\":\"\",\"zerolinecolor\":\"white\",\"gridwidth\":2},\"yaxis\":{\"backgroundcolor\":\"#E5ECF6\",\"gridcolor\":\"white\",\"linecolor\":\"white\",\"showbackground\":true,\"ticks\":\"\",\"zerolinecolor\":\"white\",\"gridwidth\":2},\"zaxis\":{\"backgroundcolor\":\"#E5ECF6\",\"gridcolor\":\"white\",\"linecolor\":\"white\",\"showbackground\":true,\"ticks\":\"\",\"zerolinecolor\":\"white\",\"gridwidth\":2}},\"shapedefaults\":{\"line\":{\"color\":\"#2a3f5f\"}},\"annotationdefaults\":{\"arrowcolor\":\"#2a3f5f\",\"arrowhead\":0,\"arrowwidth\":1},\"geo\":{\"bgcolor\":\"white\",\"landcolor\":\"#E5ECF6\",\"subunitcolor\":\"white\",\"showland\":true,\"showlakes\":true,\"lakecolor\":\"white\"},\"title\":{\"x\":0.05},\"mapbox\":{\"style\":\"light\"}}},\"xaxis\":{\"anchor\":\"y\",\"domain\":[0.0,0.45],\"rangeslider\":{\"visible\":false}},\"yaxis\":{\"anchor\":\"x\",\"domain\":[0.7333333333333333,1.0]},\"xaxis2\":{\"anchor\":\"y2\",\"domain\":[0.55,1.0],\"rangeslider\":{\"visible\":false}},\"yaxis2\":{\"anchor\":\"x2\",\"domain\":[0.7333333333333333,1.0]},\"xaxis3\":{\"anchor\":\"y3\",\"domain\":[0.0,0.45],\"rangeslider\":{\"visible\":false}},\"yaxis3\":{\"anchor\":\"x3\",\"domain\":[0.36666666666666664,0.6333333333333333]},\"xaxis4\":{\"anchor\":\"y4\",\"domain\":[0.55,1.0],\"rangeslider\":{\"visible\":false}},\"yaxis4\":{\"anchor\":\"x4\",\"domain\":[0.36666666666666664,0.6333333333333333]},\"xaxis5\":{\"anchor\":\"y5\",\"domain\":[0.0,0.45],\"rangeslider\":{\"visible\":false}},\"yaxis5\":{\"anchor\":\"x5\",\"domain\":[0.0,0.26666666666666666]},\"xaxis6\":{\"anchor\":\"y6\",\"domain\":[0.55,1.0]},\"yaxis6\":{\"anchor\":\"x6\",\"domain\":[0.0,0.26666666666666666]},\"shapes\":[{\"type\":\"line\",\"x0\":\"2014-03-26T00:00:00-04:00\",\"x1\":\"2014-03-26T00:00:00-04:00\",\"xref\":\"x2\",\"y0\":0,\"y1\":1,\"yref\":\"y2 domain\"},{\"type\":\"line\",\"x0\":\"2019-05-01T00:00:00-04:00\",\"x1\":\"2019-05-01T00:00:00-04:00\",\"xref\":\"x3\",\"y0\":0,\"y1\":1,\"yref\":\"y3 domain\"},{\"type\":\"line\",\"x0\":\"2016-09-02T00:00:00-04:00\",\"x1\":\"2016-09-02T00:00:00-04:00\",\"xref\":\"x4\",\"y0\":0,\"y1\":1,\"yref\":\"y4 domain\"},{\"type\":\"line\",\"x0\":\"2014-09-16T00:00:00-04:00\",\"x1\":\"2014-09-16T00:00:00-04:00\",\"xref\":\"x5\",\"y0\":0,\"y1\":1,\"yref\":\"y5 domain\"}],\"height\":1000,\"width\":1000},                        {\"responsive\": true}                    ).then(function(){\n",
       "                            \n",
       "var gd = document.getElementById('db4bb7e7-8d25-4a1e-b363-4b0837438b78');\n",
       "var x = new MutationObserver(function (mutations, observer) {{\n",
       "        var display = window.getComputedStyle(gd).display;\n",
       "        if (!display || display === 'none') {{\n",
       "            console.log([gd, 'removed!']);\n",
       "            Plotly.purge(gd);\n",
       "            observer.disconnect();\n",
       "        }}\n",
       "}});\n",
       "\n",
       "// Listen for the removal of the full notebook cells\n",
       "var notebookContainer = gd.closest('#notebook-container');\n",
       "if (notebookContainer) {{\n",
       "    x.observe(notebookContainer, {childList: true});\n",
       "}}\n",
       "\n",
       "// Listen for the clearing of the current output cell\n",
       "var outputEl = gd.closest('.output');\n",
       "if (outputEl) {{\n",
       "    x.observe(outputEl, {childList: true});\n",
       "}}\n",
       "\n",
       "                        })                };                });            </script>        </div>"
      ]
     },
     "metadata": {},
     "output_type": "display_data"
    }
   ],
   "source": [
    "# PARAM WINDOW BEGIN ----------------------------\n",
    "\n",
    "# What stock/currency/comod you want to see?\n",
    "ticker_str = \"TSLA\"\n",
    "\n",
    "# What is the time interval you want to work with?\n",
    "interval_str = \"1D\"\n",
    "\n",
    "# How many candle sticks you want to look into? (As increases, the similarity will decrease with a high chance)\n",
    "window_size = 25\n",
    "\n",
    "# How many results you want to retrieve (as increases, the quality decreases)?\n",
    "closest_n = 5\n",
    "\n",
    "# Input pattern index: If set to 0, start tracingback from the most recent bar. If you increase the value,\n",
    "# you will start tracingback from the n newest bar.\n",
    "input_pattern_index = 0\n",
    "\n",
    "# Do you want to see what happened after the pattern you inputted happened in other times? \n",
    "# Advice: To check the quality of results, set to False. If you like it, then set it to true without changing anything else\n",
    "# and see what happened afterwards in those times.\n",
    "see_future = True\n",
    "\n",
    "# PARAM WINDOW END ------------------------------\n",
    "\n",
    "\n",
    "\n",
    "df, change_df = get_data(ticker = ticker_str, interval = interval_str)\n",
    "\n",
    "\n",
    "embeddings, change_df = alter_df(change_df, window_size)\n",
    "\n",
    "vector_size = len(embeddings[0])\n",
    "\n",
    "visualize_patterns(input_pattern_index,\n",
    "                   window_size,\n",
    "                   closest_n,\n",
    "                   future = see_future)\n",
    "\n",
    "#change_df\n"
   ]
  },
  {
   "cell_type": "code",
   "execution_count": null,
   "id": "aa9c488e",
   "metadata": {},
   "outputs": [],
   "source": []
  }
 ],
 "metadata": {
  "kernelspec": {
   "display_name": "Python 3 (ipykernel)",
   "language": "python",
   "name": "python3"
  },
  "language_info": {
   "codemirror_mode": {
    "name": "ipython",
    "version": 3
   },
   "file_extension": ".py",
   "mimetype": "text/x-python",
   "name": "python",
   "nbconvert_exporter": "python",
   "pygments_lexer": "ipython3",
   "version": "3.9.12"
  }
 },
 "nbformat": 4,
 "nbformat_minor": 5
}
